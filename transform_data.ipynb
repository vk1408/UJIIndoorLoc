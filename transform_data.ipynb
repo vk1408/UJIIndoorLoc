{
 "cells": [
  {
   "cell_type": "markdown",
   "id": "b479ba5a-cf10-42c7-ae62-b738b8bb49aa",
   "metadata": {},
   "source": [
    "# Import libraries"
   ]
  },
  {
   "cell_type": "code",
   "execution_count": 1,
   "id": "feb9e83b-741f-49ea-9481-dd76cf5e0f7e",
   "metadata": {},
   "outputs": [],
   "source": [
    "import pandas as pd"
   ]
  },
  {
   "cell_type": "code",
   "execution_count": 2,
   "id": "9fdcf6c7-4206-4441-8eb0-b0920988d8b7",
   "metadata": {},
   "outputs": [],
   "source": [
    "import numpy as np"
   ]
  },
  {
   "cell_type": "code",
   "execution_count": 3,
   "id": "9e2a7d52-6997-4b4e-bf7f-735273c79e8a",
   "metadata": {},
   "outputs": [],
   "source": [
    "import matplotlib.pyplot as plt"
   ]
  },
  {
   "cell_type": "code",
   "execution_count": 4,
   "id": "9f364a5c-5200-4b58-ad62-374e2faa73ce",
   "metadata": {},
   "outputs": [],
   "source": [
    "import seaborn as sns"
   ]
  },
  {
   "cell_type": "code",
   "execution_count": 5,
   "id": "73e5447d-9d15-4d40-a8ae-7f04286eed14",
   "metadata": {},
   "outputs": [],
   "source": [
    "import mllib"
   ]
  },
  {
   "cell_type": "markdown",
   "id": "acc05c87-a1af-4ee5-9a47-098af810b484",
   "metadata": {},
   "source": [
    "# Import dataset"
   ]
  },
  {
   "cell_type": "markdown",
   "id": "e2ea6ff2-d8b5-4a68-b07c-99fb374f5d43",
   "metadata": {},
   "source": [
    "Import and read dataset:"
   ]
  },
  {
   "cell_type": "code",
   "execution_count": 6,
   "id": "ebeb9946-c12a-428b-ae37-3052a1875742",
   "metadata": {},
   "outputs": [],
   "source": [
    "trainingData = pd.read_csv('csv/cleaned/trainingData_clean.csv',index_col=0)"
   ]
  },
  {
   "cell_type": "code",
   "execution_count": 7,
   "id": "e07687ad-a3e9-4a3b-8e64-9a4ca4899436",
   "metadata": {},
   "outputs": [],
   "source": [
    "validationData = pd.read_csv('csv/validationData.csv')"
   ]
  },
  {
   "cell_type": "markdown",
   "id": "ba7f6c80-3e8e-49f2-8e53-ddf75922d354",
   "metadata": {},
   "source": [
    "# Transform data"
   ]
  },
  {
   "cell_type": "markdown",
   "id": "9a30bd0b-388a-4dc8-a395-472df41adcb3",
   "metadata": {},
   "source": [
    "## Split dataset"
   ]
  },
  {
   "cell_type": "markdown",
   "id": "43c74884-65b8-44f6-aacc-24c6a3f70769",
   "metadata": {},
   "source": [
    "Lets select WAP features for input:"
   ]
  },
  {
   "cell_type": "code",
   "execution_count": 8,
   "id": "a4721fbb-ca4b-49c4-882e-1fed089e8223",
   "metadata": {},
   "outputs": [],
   "source": [
    "WAP_cols = [col for col in trainingData.columns if col[0:3]=='WAP']\n",
    "X = trainingData[WAP_cols]"
   ]
  },
  {
   "cell_type": "markdown",
   "id": "67b59dc5-af14-4c18-a5cf-9047fbfd6af2",
   "metadata": {},
   "source": [
    "Select target "
   ]
  },
  {
   "cell_type": "code",
   "execution_count": 9,
   "id": "1c4162da-317d-4cc9-8bc2-939667bb01a5",
   "metadata": {},
   "outputs": [],
   "source": [
    "# y = trainingData['building_floor']"
   ]
  },
  {
   "cell_type": "markdown",
   "id": "f505f07c-8421-42b2-98f1-b8b5d390d8e8",
   "metadata": {},
   "source": [
    "Split using train_test_split:"
   ]
  },
  {
   "cell_type": "code",
   "execution_count": 10,
   "id": "5471a7b9-0660-43be-91dd-afe54f2bb866",
   "metadata": {},
   "outputs": [],
   "source": [
    "from sklearn.model_selection import train_test_split\n",
    "test_ratio = 0.2\n",
    "X_train, X_test = train_test_split(X, test_size = test_ratio, random_state=42)"
   ]
  },
  {
   "cell_type": "code",
   "execution_count": 11,
   "id": "0c17753e-6eb7-46b0-80e9-b287d09ac25b",
   "metadata": {},
   "outputs": [],
   "source": [
    "X_val = validationData[WAP_cols]"
   ]
  },
  {
   "cell_type": "markdown",
   "id": "88bc95d7-32f1-4399-8b78-7f27493722f5",
   "metadata": {},
   "source": [
    "## Feature selection"
   ]
  },
  {
   "cell_type": "markdown",
   "id": "659e02f4-558d-4977-b9a9-0ec3306ab6a5",
   "metadata": {},
   "source": [
    "### Drop with high correlation"
   ]
  },
  {
   "cell_type": "markdown",
   "id": "9ffd5a07-98c5-4c91-96db-259a46d13157",
   "metadata": {},
   "source": [
    "Lets check which feature have correlation of more than 0.9:"
   ]
  },
  {
   "cell_type": "code",
   "execution_count": 12,
   "id": "adcca15b-ef92-44b1-80bd-7dda635efcbc",
   "metadata": {
    "scrolled": true,
    "tags": []
   },
   "outputs": [
    {
     "data": {
      "text/html": [
       "<div>\n",
       "<style scoped>\n",
       "    .dataframe tbody tr th:only-of-type {\n",
       "        vertical-align: middle;\n",
       "    }\n",
       "\n",
       "    .dataframe tbody tr th {\n",
       "        vertical-align: top;\n",
       "    }\n",
       "\n",
       "    .dataframe thead th {\n",
       "        text-align: right;\n",
       "    }\n",
       "</style>\n",
       "<table border=\"1\" class=\"dataframe\">\n",
       "  <thead>\n",
       "    <tr style=\"text-align: right;\">\n",
       "      <th></th>\n",
       "      <th>f1</th>\n",
       "      <th>f2</th>\n",
       "      <th>corr</th>\n",
       "    </tr>\n",
       "  </thead>\n",
       "  <tbody>\n",
       "    <tr>\n",
       "      <th>0</th>\n",
       "      <td>WAP016</td>\n",
       "      <td>WAP015</td>\n",
       "      <td>0.909556</td>\n",
       "    </tr>\n",
       "    <tr>\n",
       "      <th>1</th>\n",
       "      <td>WAP054</td>\n",
       "      <td>WAP053</td>\n",
       "      <td>0.931331</td>\n",
       "    </tr>\n",
       "    <tr>\n",
       "      <th>2</th>\n",
       "      <td>WAP081</td>\n",
       "      <td>WAP080</td>\n",
       "      <td>0.923826</td>\n",
       "    </tr>\n",
       "    <tr>\n",
       "      <th>3</th>\n",
       "      <td>WAP102</td>\n",
       "      <td>WAP101</td>\n",
       "      <td>0.914404</td>\n",
       "    </tr>\n",
       "    <tr>\n",
       "      <th>4</th>\n",
       "      <td>WAP104</td>\n",
       "      <td>WAP103</td>\n",
       "      <td>0.907454</td>\n",
       "    </tr>\n",
       "    <tr>\n",
       "      <th>5</th>\n",
       "      <td>WAP120</td>\n",
       "      <td>WAP119</td>\n",
       "      <td>0.905550</td>\n",
       "    </tr>\n",
       "    <tr>\n",
       "      <th>6</th>\n",
       "      <td>WAP124</td>\n",
       "      <td>WAP123</td>\n",
       "      <td>0.910565</td>\n",
       "    </tr>\n",
       "    <tr>\n",
       "      <th>7</th>\n",
       "      <td>WAP126</td>\n",
       "      <td>WAP125</td>\n",
       "      <td>0.911669</td>\n",
       "    </tr>\n",
       "    <tr>\n",
       "      <th>8</th>\n",
       "      <td>WAP130</td>\n",
       "      <td>WAP129</td>\n",
       "      <td>0.931914</td>\n",
       "    </tr>\n",
       "    <tr>\n",
       "      <th>9</th>\n",
       "      <td>WAP135</td>\n",
       "      <td>WAP134</td>\n",
       "      <td>0.910980</td>\n",
       "    </tr>\n",
       "    <tr>\n",
       "      <th>10</th>\n",
       "      <td>WAP137</td>\n",
       "      <td>WAP136</td>\n",
       "      <td>0.916500</td>\n",
       "    </tr>\n",
       "    <tr>\n",
       "      <th>11</th>\n",
       "      <td>WAP156</td>\n",
       "      <td>WAP155</td>\n",
       "      <td>0.911065</td>\n",
       "    </tr>\n",
       "    <tr>\n",
       "      <th>12</th>\n",
       "      <td>WAP162</td>\n",
       "      <td>WAP161</td>\n",
       "      <td>0.914741</td>\n",
       "    </tr>\n",
       "    <tr>\n",
       "      <th>13</th>\n",
       "      <td>WAP167</td>\n",
       "      <td>WAP166</td>\n",
       "      <td>0.907633</td>\n",
       "    </tr>\n",
       "    <tr>\n",
       "      <th>14</th>\n",
       "      <td>WAP194</td>\n",
       "      <td>WAP193</td>\n",
       "      <td>0.993180</td>\n",
       "    </tr>\n",
       "    <tr>\n",
       "      <th>15</th>\n",
       "      <td>WAP209</td>\n",
       "      <td>WAP208</td>\n",
       "      <td>0.999984</td>\n",
       "    </tr>\n",
       "    <tr>\n",
       "      <th>16</th>\n",
       "      <td>WAP342</td>\n",
       "      <td>WAP286</td>\n",
       "      <td>0.905949</td>\n",
       "    </tr>\n",
       "    <tr>\n",
       "      <th>17</th>\n",
       "      <td>WAP498</td>\n",
       "      <td>WAP492</td>\n",
       "      <td>0.978543</td>\n",
       "    </tr>\n",
       "    <tr>\n",
       "      <th>18</th>\n",
       "      <td>WAP499</td>\n",
       "      <td>WAP493</td>\n",
       "      <td>0.970663</td>\n",
       "    </tr>\n",
       "    <tr>\n",
       "      <th>19</th>\n",
       "      <td>WAP513</td>\n",
       "      <td>WAP492</td>\n",
       "      <td>0.962617</td>\n",
       "    </tr>\n",
       "    <tr>\n",
       "      <th>20</th>\n",
       "      <td>WAP513</td>\n",
       "      <td>WAP498</td>\n",
       "      <td>0.973224</td>\n",
       "    </tr>\n",
       "    <tr>\n",
       "      <th>21</th>\n",
       "      <td>WAP514</td>\n",
       "      <td>WAP493</td>\n",
       "      <td>0.975416</td>\n",
       "    </tr>\n",
       "    <tr>\n",
       "      <th>22</th>\n",
       "      <td>WAP514</td>\n",
       "      <td>WAP499</td>\n",
       "      <td>0.995149</td>\n",
       "    </tr>\n",
       "  </tbody>\n",
       "</table>\n",
       "</div>"
      ],
      "text/plain": [
       "        f1      f2      corr\n",
       "0   WAP016  WAP015  0.909556\n",
       "1   WAP054  WAP053  0.931331\n",
       "2   WAP081  WAP080  0.923826\n",
       "3   WAP102  WAP101  0.914404\n",
       "4   WAP104  WAP103  0.907454\n",
       "5   WAP120  WAP119  0.905550\n",
       "6   WAP124  WAP123  0.910565\n",
       "7   WAP126  WAP125  0.911669\n",
       "8   WAP130  WAP129  0.931914\n",
       "9   WAP135  WAP134  0.910980\n",
       "10  WAP137  WAP136  0.916500\n",
       "11  WAP156  WAP155  0.911065\n",
       "12  WAP162  WAP161  0.914741\n",
       "13  WAP167  WAP166  0.907633\n",
       "14  WAP194  WAP193  0.993180\n",
       "15  WAP209  WAP208  0.999984\n",
       "16  WAP342  WAP286  0.905949\n",
       "17  WAP498  WAP492  0.978543\n",
       "18  WAP499  WAP493  0.970663\n",
       "19  WAP513  WAP492  0.962617\n",
       "20  WAP513  WAP498  0.973224\n",
       "21  WAP514  WAP493  0.975416\n",
       "22  WAP514  WAP499  0.995149"
      ]
     },
     "execution_count": 12,
     "metadata": {},
     "output_type": "execute_result"
    }
   ],
   "source": [
    "threshold = 0.9\n",
    "high_corr_features_df = mllib.get_correlation(X_train,threshold)\n",
    "high_corr_features_df"
   ]
  },
  {
   "cell_type": "markdown",
   "id": "4817465c-7bea-461f-a45a-fd719debe127",
   "metadata": {},
   "source": [
    "As we can see, LONGITUDE is correlating with BUILDINGID (because buildings are situated in distinct LONGITUDE range). The correlation of WAP could be explained with their close position to each other. Now we form a list of features to drop:"
   ]
  },
  {
   "cell_type": "code",
   "execution_count": 13,
   "id": "26fcf62b-cecf-4074-a81a-495b44dbd541",
   "metadata": {
    "scrolled": true,
    "tags": []
   },
   "outputs": [],
   "source": [
    "high_corr_features = list(high_corr_features_df.f2.unique())"
   ]
  },
  {
   "cell_type": "markdown",
   "id": "f65b3134-12dd-4f10-9309-7ce1f3271a3f",
   "metadata": {},
   "source": [
    "As we interested only in WAPs, lets keep them only:"
   ]
  },
  {
   "cell_type": "code",
   "execution_count": 14,
   "id": "46a9704b-aae8-476b-8fb7-ad8e8a08be65",
   "metadata": {
    "scrolled": true,
    "tags": []
   },
   "outputs": [
    {
     "data": {
      "text/plain": [
       "['WAP015',\n",
       " 'WAP053',\n",
       " 'WAP080',\n",
       " 'WAP101',\n",
       " 'WAP103',\n",
       " 'WAP119',\n",
       " 'WAP123',\n",
       " 'WAP125',\n",
       " 'WAP129',\n",
       " 'WAP134',\n",
       " 'WAP136',\n",
       " 'WAP155',\n",
       " 'WAP161',\n",
       " 'WAP166',\n",
       " 'WAP193',\n",
       " 'WAP208',\n",
       " 'WAP286',\n",
       " 'WAP492',\n",
       " 'WAP493',\n",
       " 'WAP498',\n",
       " 'WAP499']"
      ]
     },
     "execution_count": 14,
     "metadata": {},
     "output_type": "execute_result"
    }
   ],
   "source": [
    "high_corr_features = [ col for col in high_corr_features if col[0:3] == 'WAP']\n",
    "high_corr_features"
   ]
  },
  {
   "cell_type": "markdown",
   "id": "e5af5ce0-eef5-4124-946b-a02443689e56",
   "metadata": {},
   "source": [
    "Finally, we drop columns features with high correlation:"
   ]
  },
  {
   "cell_type": "code",
   "execution_count": 15,
   "id": "6ccccefa-a00c-496f-b6a7-eb912e48ed7c",
   "metadata": {},
   "outputs": [],
   "source": [
    "X_train = X_train.drop(columns = high_corr_features)\n",
    "X_test = X_test.drop(columns = high_corr_features)\n",
    "X_val = X_val.drop(columns = high_corr_features)"
   ]
  },
  {
   "cell_type": "markdown",
   "id": "cbade81a-0442-41fc-aac9-7fe742d9abb6",
   "metadata": {},
   "source": [
    "### Drop low variance features"
   ]
  },
  {
   "cell_type": "markdown",
   "id": "d429450a-7b01-49c9-8c3a-a1defd0eb80b",
   "metadata": {},
   "source": [
    "Lets look up for features with variance of zero:"
   ]
  },
  {
   "cell_type": "code",
   "execution_count": 16,
   "id": "630fbfbf-c69f-478d-a0ad-52bd5b4d5621",
   "metadata": {
    "scrolled": true,
    "tags": []
   },
   "outputs": [
    {
     "data": {
      "text/plain": [
       "['WAP003',\n",
       " 'WAP004',\n",
       " 'WAP092',\n",
       " 'WAP093',\n",
       " 'WAP094',\n",
       " 'WAP095',\n",
       " 'WAP152',\n",
       " 'WAP158',\n",
       " 'WAP159',\n",
       " 'WAP160',\n",
       " 'WAP190',\n",
       " 'WAP215',\n",
       " 'WAP217',\n",
       " 'WAP226',\n",
       " 'WAP227',\n",
       " 'WAP238',\n",
       " 'WAP239',\n",
       " 'WAP240',\n",
       " 'WAP241',\n",
       " 'WAP242',\n",
       " 'WAP243',\n",
       " 'WAP244',\n",
       " 'WAP245',\n",
       " 'WAP246',\n",
       " 'WAP247',\n",
       " 'WAP254',\n",
       " 'WAP293',\n",
       " 'WAP296',\n",
       " 'WAP301',\n",
       " 'WAP303',\n",
       " 'WAP304',\n",
       " 'WAP307',\n",
       " 'WAP333',\n",
       " 'WAP349',\n",
       " 'WAP353',\n",
       " 'WAP354',\n",
       " 'WAP360',\n",
       " 'WAP365',\n",
       " 'WAP416',\n",
       " 'WAP419',\n",
       " 'WAP423',\n",
       " 'WAP429',\n",
       " 'WAP433',\n",
       " 'WAP438',\n",
       " 'WAP441',\n",
       " 'WAP442',\n",
       " 'WAP444',\n",
       " 'WAP445',\n",
       " 'WAP451',\n",
       " 'WAP458',\n",
       " 'WAP482',\n",
       " 'WAP485',\n",
       " 'WAP487',\n",
       " 'WAP488',\n",
       " 'WAP491',\n",
       " 'WAP497',\n",
       " 'WAP519',\n",
       " 'WAP520']"
      ]
     },
     "execution_count": 16,
     "metadata": {},
     "output_type": "execute_result"
    }
   ],
   "source": [
    "waps_train_var = pd.DataFrame(X_train.var(),columns=['variance'])\n",
    "low_var_col = list(waps_train_var.query('variance==0').index)\n",
    "low_var_col"
   ]
  },
  {
   "cell_type": "code",
   "execution_count": 17,
   "id": "097ae913-f35e-4e83-ab97-75bb9b7bae0c",
   "metadata": {},
   "outputs": [],
   "source": [
    "X_train = X_train.drop(columns = low_var_col)\n",
    "X_test = X_test.drop(columns = low_var_col)\n",
    "X_val = X_val.drop(columns = low_var_col)"
   ]
  },
  {
   "cell_type": "markdown",
   "id": "38bff593-9b4e-41e5-aac3-c24caff5e823",
   "metadata": {},
   "source": [
    "### Drop WAPs found in building 0 and 2 at the same time "
   ]
  },
  {
   "cell_type": "markdown",
   "id": "f81c349c-6599-4d24-be57-1984edce5d90",
   "metadata": {},
   "source": [
    "These WAPs were found in the previous notebook"
   ]
  },
  {
   "cell_type": "code",
   "execution_count": 18,
   "id": "b371c630-e6e8-4fbe-b7bd-5d6d7053094d",
   "metadata": {},
   "outputs": [],
   "source": [
    "col_inconsistent_drop = ['WAP212']\n",
    "X_train = X_train.drop(columns = col_inconsistent_drop)\n",
    "X_test = X_test.drop(columns = col_inconsistent_drop)\n",
    "X_val = X_val.drop(columns = col_inconsistent_drop)"
   ]
  },
  {
   "cell_type": "markdown",
   "id": "55b23b42-4c5b-4305-9d18-be70c6d3a9f0",
   "metadata": {},
   "source": [
    "### Drop WAPs removed/added - in validation dataset (OPTION)"
   ]
  },
  {
   "cell_type": "code",
   "execution_count": 19,
   "id": "ecffe828-7fef-40de-a037-4b3286c9e9e6",
   "metadata": {},
   "outputs": [],
   "source": [
    "# # get variance of signal\n",
    "# waps_var = pd.DataFrame(X_train.var(),columns=['train'])\n",
    "# waps_val_var = X_val.var()"
   ]
  },
  {
   "cell_type": "code",
   "execution_count": 20,
   "id": "e45d0f44-f284-412f-a5ae-c010b2dd9221",
   "metadata": {},
   "outputs": [],
   "source": [
    "# # common variance table for train and validation\n",
    "# waps_var['validation'] = waps_val_var"
   ]
  },
  {
   "cell_type": "code",
   "execution_count": 21,
   "id": "5e1ef13d-416f-4901-8bbb-117fae3a3157",
   "metadata": {},
   "outputs": [],
   "source": [
    "# # ADDED WAPs\n",
    "# # if variance was = 0 and now > 0 - \n",
    "# added = waps_var.query('(train == 0 and validation != 0)').index"
   ]
  },
  {
   "cell_type": "code",
   "execution_count": 22,
   "id": "9f66c425-bec5-4649-9e7b-b5015e173e6a",
   "metadata": {},
   "outputs": [],
   "source": [
    "# # REMOVED WAPs\n",
    "# removed = waps_var.query('(train != 0 and validation == 0)').index"
   ]
  },
  {
   "cell_type": "code",
   "execution_count": 23,
   "id": "489fd52a-6d5a-4111-8b6c-029687595192",
   "metadata": {},
   "outputs": [],
   "source": [
    "# X_train = X_train.drop(columns = added)\n",
    "# X_train = X_train.drop(columns = removed)\n",
    "\n",
    "# X_test = X_test.drop(columns = added)\n",
    "# X_test = X_test.drop(columns = removed)\n",
    "\n",
    "# X_val = X_val.drop(columns = added)\n",
    "# X_val = X_val.drop(columns = removed)"
   ]
  },
  {
   "cell_type": "markdown",
   "id": "4c553683-0270-4686-8c7a-59f008729fc4",
   "metadata": {},
   "source": [
    "## Scale WAP signal"
   ]
  },
  {
   "cell_type": "markdown",
   "id": "30740d4a-26cb-409d-9505-53197b53bf62",
   "metadata": {},
   "source": [
    "The task is to transform measured values (-104..0 dBm) to 0..1 and to replace 100 (not vailable) to 0"
   ]
  },
  {
   "cell_type": "code",
   "execution_count": 24,
   "id": "cebd25be-4bea-4cd1-81e2-4c4032d0833c",
   "metadata": {},
   "outputs": [],
   "source": [
    "# replace 100 with NaN\n",
    "X_train.replace(100, np.nan, inplace=True)\n",
    "X_test.replace(100, np.nan, inplace=True)\n",
    "X_val.replace(100, np.nan, inplace=True)"
   ]
  },
  {
   "cell_type": "code",
   "execution_count": 25,
   "id": "279b4b28-22fd-4154-97f6-c02b828e079b",
   "metadata": {},
   "outputs": [],
   "source": [
    "# shift RSSI values so they are higher than 0 (-104..0-->196..300)\n",
    "X_train = mllib.transform(X_train,300,'shift')\n",
    "X_test =  mllib.transform(X_test,300,'shift')\n",
    "X_val =  mllib.transform(X_val,300,'shift')"
   ]
  },
  {
   "cell_type": "code",
   "execution_count": 26,
   "id": "1b41476e-c6eb-496b-a5a1-8f46beb110ab",
   "metadata": {},
   "outputs": [],
   "source": [
    "# replace NaNs with 0\n",
    "X_train.replace(np.nan, 0, inplace=True)\n",
    "X_test.replace(np.nan, 0, inplace=True)\n",
    "X_val.replace(np.nan, 0, inplace=True)"
   ]
  },
  {
   "cell_type": "code",
   "execution_count": 27,
   "id": "3b447338-feeb-424a-acbf-4c95dd78073d",
   "metadata": {
    "tags": []
   },
   "outputs": [],
   "source": [
    "# Scale data to (0,1) range\n",
    "from sklearn.preprocessing import MinMaxScaler\n",
    "\n",
    "scaler = MinMaxScaler(feature_range=(0,1))\n",
    "scaler.fit(X_train)\n",
    "\n",
    "X_train_sc = pd.DataFrame(scaler.transform(X_train))\n",
    "X_train_sc.columns = X_train.columns\n",
    "X_train_sc.index = X_train.index\n",
    "\n",
    "X_test_sc =  pd.DataFrame(scaler.transform(X_test))\n",
    "X_test_sc.columns = X_test.columns\n",
    "X_test_sc.index = X_test.index\n",
    "\n",
    "X_val_sc =  pd.DataFrame(scaler.transform(X_val))\n",
    "X_val_sc.columns = X_val.columns\n",
    "X_val_sc.index = X_val.index"
   ]
  },
  {
   "cell_type": "markdown",
   "id": "c2dce45d-615c-427b-a1ee-5a9f6bf9818d",
   "metadata": {},
   "source": [
    "# Export"
   ]
  },
  {
   "cell_type": "code",
   "execution_count": 28,
   "id": "dc0b0f62-cbf2-4bce-b1bd-344c114581e4",
   "metadata": {},
   "outputs": [],
   "source": [
    "X_train_sc.to_csv('csv/transformed/X_train.csv')"
   ]
  },
  {
   "cell_type": "code",
   "execution_count": 29,
   "id": "df6a9c10-f5c9-4980-a19d-5f51f96ddbeb",
   "metadata": {},
   "outputs": [],
   "source": [
    "X_test_sc.to_csv('csv/transformed/X_test.csv')"
   ]
  },
  {
   "cell_type": "code",
   "execution_count": 30,
   "id": "f02170a7-624b-442c-b9e4-2956d02080cd",
   "metadata": {},
   "outputs": [],
   "source": [
    "X_val_sc.to_csv('csv/transformed/X_val.csv')"
   ]
  }
 ],
 "metadata": {
  "kernelspec": {
   "display_name": "Python 3",
   "language": "python",
   "name": "python3"
  },
  "language_info": {
   "codemirror_mode": {
    "name": "ipython",
    "version": 3
   },
   "file_extension": ".py",
   "mimetype": "text/x-python",
   "name": "python",
   "nbconvert_exporter": "python",
   "pygments_lexer": "ipython3",
   "version": "3.8.8"
  }
 },
 "nbformat": 4,
 "nbformat_minor": 5
}
