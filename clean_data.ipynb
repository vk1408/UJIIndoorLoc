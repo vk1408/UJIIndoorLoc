{
 "cells": [
  {
   "cell_type": "markdown",
   "id": "ad97c538-4338-4f99-9b01-020e071217a0",
   "metadata": {},
   "source": [
    "# Import libraries"
   ]
  },
  {
   "cell_type": "code",
   "execution_count": 1,
   "id": "9b36be42-fccc-4a44-b0fe-c514061b20f0",
   "metadata": {},
   "outputs": [],
   "source": [
    "import pandas as pd"
   ]
  },
  {
   "cell_type": "code",
   "execution_count": 2,
   "id": "63301826-ea35-4231-b0bf-2f01309d56c0",
   "metadata": {},
   "outputs": [],
   "source": [
    "import numpy as np"
   ]
  },
  {
   "cell_type": "code",
   "execution_count": 3,
   "id": "fbaa0630-6180-4777-b925-56d841891d55",
   "metadata": {},
   "outputs": [],
   "source": [
    "import matplotlib.pyplot as plt"
   ]
  },
  {
   "cell_type": "code",
   "execution_count": 4,
   "id": "23b13f90-74a9-4e72-b593-f80dd38654fb",
   "metadata": {},
   "outputs": [],
   "source": [
    "import seaborn as sns"
   ]
  },
  {
   "cell_type": "markdown",
   "id": "bde1b0d0-0be6-42d0-bb5d-e743704f55e3",
   "metadata": {},
   "source": [
    "# Import dataset"
   ]
  },
  {
   "cell_type": "markdown",
   "id": "40635911-ae2a-4a1e-98b0-4e3e72fec33c",
   "metadata": {},
   "source": [
    "Import and read dataset:"
   ]
  },
  {
   "cell_type": "code",
   "execution_count": 5,
   "id": "20ca8ca3-e1b7-45e2-a890-9aa72a31f04a",
   "metadata": {},
   "outputs": [
    {
     "data": {
      "text/html": [
       "<div>\n",
       "<style scoped>\n",
       "    .dataframe tbody tr th:only-of-type {\n",
       "        vertical-align: middle;\n",
       "    }\n",
       "\n",
       "    .dataframe tbody tr th {\n",
       "        vertical-align: top;\n",
       "    }\n",
       "\n",
       "    .dataframe thead th {\n",
       "        text-align: right;\n",
       "    }\n",
       "</style>\n",
       "<table border=\"1\" class=\"dataframe\">\n",
       "  <thead>\n",
       "    <tr style=\"text-align: right;\">\n",
       "      <th></th>\n",
       "      <th>WAP001</th>\n",
       "      <th>WAP002</th>\n",
       "      <th>WAP003</th>\n",
       "      <th>WAP004</th>\n",
       "      <th>WAP005</th>\n",
       "      <th>WAP006</th>\n",
       "      <th>WAP007</th>\n",
       "      <th>WAP008</th>\n",
       "      <th>WAP009</th>\n",
       "      <th>WAP010</th>\n",
       "      <th>...</th>\n",
       "      <th>WAP520</th>\n",
       "      <th>LONGITUDE</th>\n",
       "      <th>LATITUDE</th>\n",
       "      <th>FLOOR</th>\n",
       "      <th>BUILDINGID</th>\n",
       "      <th>SPACEID</th>\n",
       "      <th>RELATIVEPOSITION</th>\n",
       "      <th>USERID</th>\n",
       "      <th>PHONEID</th>\n",
       "      <th>TIMESTAMP</th>\n",
       "    </tr>\n",
       "  </thead>\n",
       "  <tbody>\n",
       "    <tr>\n",
       "      <th>0</th>\n",
       "      <td>100</td>\n",
       "      <td>100</td>\n",
       "      <td>100</td>\n",
       "      <td>100</td>\n",
       "      <td>100</td>\n",
       "      <td>100</td>\n",
       "      <td>100</td>\n",
       "      <td>100</td>\n",
       "      <td>100</td>\n",
       "      <td>100</td>\n",
       "      <td>...</td>\n",
       "      <td>100</td>\n",
       "      <td>-7541.2643</td>\n",
       "      <td>4.864921e+06</td>\n",
       "      <td>2</td>\n",
       "      <td>1</td>\n",
       "      <td>106</td>\n",
       "      <td>2</td>\n",
       "      <td>2</td>\n",
       "      <td>23</td>\n",
       "      <td>1371713733</td>\n",
       "    </tr>\n",
       "    <tr>\n",
       "      <th>1</th>\n",
       "      <td>100</td>\n",
       "      <td>100</td>\n",
       "      <td>100</td>\n",
       "      <td>100</td>\n",
       "      <td>100</td>\n",
       "      <td>100</td>\n",
       "      <td>100</td>\n",
       "      <td>100</td>\n",
       "      <td>100</td>\n",
       "      <td>100</td>\n",
       "      <td>...</td>\n",
       "      <td>100</td>\n",
       "      <td>-7536.6212</td>\n",
       "      <td>4.864934e+06</td>\n",
       "      <td>2</td>\n",
       "      <td>1</td>\n",
       "      <td>106</td>\n",
       "      <td>2</td>\n",
       "      <td>2</td>\n",
       "      <td>23</td>\n",
       "      <td>1371713691</td>\n",
       "    </tr>\n",
       "    <tr>\n",
       "      <th>2</th>\n",
       "      <td>100</td>\n",
       "      <td>100</td>\n",
       "      <td>100</td>\n",
       "      <td>100</td>\n",
       "      <td>100</td>\n",
       "      <td>100</td>\n",
       "      <td>100</td>\n",
       "      <td>-97</td>\n",
       "      <td>100</td>\n",
       "      <td>100</td>\n",
       "      <td>...</td>\n",
       "      <td>100</td>\n",
       "      <td>-7519.1524</td>\n",
       "      <td>4.864950e+06</td>\n",
       "      <td>2</td>\n",
       "      <td>1</td>\n",
       "      <td>103</td>\n",
       "      <td>2</td>\n",
       "      <td>2</td>\n",
       "      <td>23</td>\n",
       "      <td>1371714095</td>\n",
       "    </tr>\n",
       "    <tr>\n",
       "      <th>3</th>\n",
       "      <td>100</td>\n",
       "      <td>100</td>\n",
       "      <td>100</td>\n",
       "      <td>100</td>\n",
       "      <td>100</td>\n",
       "      <td>100</td>\n",
       "      <td>100</td>\n",
       "      <td>100</td>\n",
       "      <td>100</td>\n",
       "      <td>100</td>\n",
       "      <td>...</td>\n",
       "      <td>100</td>\n",
       "      <td>-7524.5704</td>\n",
       "      <td>4.864934e+06</td>\n",
       "      <td>2</td>\n",
       "      <td>1</td>\n",
       "      <td>102</td>\n",
       "      <td>2</td>\n",
       "      <td>2</td>\n",
       "      <td>23</td>\n",
       "      <td>1371713807</td>\n",
       "    </tr>\n",
       "    <tr>\n",
       "      <th>4</th>\n",
       "      <td>100</td>\n",
       "      <td>100</td>\n",
       "      <td>100</td>\n",
       "      <td>100</td>\n",
       "      <td>100</td>\n",
       "      <td>100</td>\n",
       "      <td>100</td>\n",
       "      <td>100</td>\n",
       "      <td>100</td>\n",
       "      <td>100</td>\n",
       "      <td>...</td>\n",
       "      <td>100</td>\n",
       "      <td>-7632.1436</td>\n",
       "      <td>4.864982e+06</td>\n",
       "      <td>0</td>\n",
       "      <td>0</td>\n",
       "      <td>122</td>\n",
       "      <td>2</td>\n",
       "      <td>11</td>\n",
       "      <td>13</td>\n",
       "      <td>1369909710</td>\n",
       "    </tr>\n",
       "    <tr>\n",
       "      <th>...</th>\n",
       "      <td>...</td>\n",
       "      <td>...</td>\n",
       "      <td>...</td>\n",
       "      <td>...</td>\n",
       "      <td>...</td>\n",
       "      <td>...</td>\n",
       "      <td>...</td>\n",
       "      <td>...</td>\n",
       "      <td>...</td>\n",
       "      <td>...</td>\n",
       "      <td>...</td>\n",
       "      <td>...</td>\n",
       "      <td>...</td>\n",
       "      <td>...</td>\n",
       "      <td>...</td>\n",
       "      <td>...</td>\n",
       "      <td>...</td>\n",
       "      <td>...</td>\n",
       "      <td>...</td>\n",
       "      <td>...</td>\n",
       "      <td>...</td>\n",
       "    </tr>\n",
       "    <tr>\n",
       "      <th>19932</th>\n",
       "      <td>100</td>\n",
       "      <td>100</td>\n",
       "      <td>100</td>\n",
       "      <td>100</td>\n",
       "      <td>100</td>\n",
       "      <td>100</td>\n",
       "      <td>100</td>\n",
       "      <td>100</td>\n",
       "      <td>100</td>\n",
       "      <td>100</td>\n",
       "      <td>...</td>\n",
       "      <td>100</td>\n",
       "      <td>-7485.4686</td>\n",
       "      <td>4.864875e+06</td>\n",
       "      <td>3</td>\n",
       "      <td>1</td>\n",
       "      <td>1</td>\n",
       "      <td>2</td>\n",
       "      <td>18</td>\n",
       "      <td>10</td>\n",
       "      <td>1371710683</td>\n",
       "    </tr>\n",
       "    <tr>\n",
       "      <th>19933</th>\n",
       "      <td>100</td>\n",
       "      <td>100</td>\n",
       "      <td>100</td>\n",
       "      <td>100</td>\n",
       "      <td>100</td>\n",
       "      <td>100</td>\n",
       "      <td>100</td>\n",
       "      <td>100</td>\n",
       "      <td>100</td>\n",
       "      <td>100</td>\n",
       "      <td>...</td>\n",
       "      <td>100</td>\n",
       "      <td>-7390.6206</td>\n",
       "      <td>4.864836e+06</td>\n",
       "      <td>1</td>\n",
       "      <td>2</td>\n",
       "      <td>140</td>\n",
       "      <td>2</td>\n",
       "      <td>18</td>\n",
       "      <td>10</td>\n",
       "      <td>1371710402</td>\n",
       "    </tr>\n",
       "    <tr>\n",
       "      <th>19934</th>\n",
       "      <td>100</td>\n",
       "      <td>100</td>\n",
       "      <td>100</td>\n",
       "      <td>100</td>\n",
       "      <td>100</td>\n",
       "      <td>100</td>\n",
       "      <td>100</td>\n",
       "      <td>100</td>\n",
       "      <td>100</td>\n",
       "      <td>100</td>\n",
       "      <td>...</td>\n",
       "      <td>100</td>\n",
       "      <td>-7516.8415</td>\n",
       "      <td>4.864889e+06</td>\n",
       "      <td>3</td>\n",
       "      <td>1</td>\n",
       "      <td>13</td>\n",
       "      <td>2</td>\n",
       "      <td>18</td>\n",
       "      <td>10</td>\n",
       "      <td>1371710921</td>\n",
       "    </tr>\n",
       "    <tr>\n",
       "      <th>19935</th>\n",
       "      <td>100</td>\n",
       "      <td>100</td>\n",
       "      <td>100</td>\n",
       "      <td>100</td>\n",
       "      <td>100</td>\n",
       "      <td>100</td>\n",
       "      <td>100</td>\n",
       "      <td>100</td>\n",
       "      <td>100</td>\n",
       "      <td>100</td>\n",
       "      <td>...</td>\n",
       "      <td>100</td>\n",
       "      <td>-7537.3219</td>\n",
       "      <td>4.864896e+06</td>\n",
       "      <td>3</td>\n",
       "      <td>1</td>\n",
       "      <td>113</td>\n",
       "      <td>2</td>\n",
       "      <td>18</td>\n",
       "      <td>10</td>\n",
       "      <td>1371711049</td>\n",
       "    </tr>\n",
       "    <tr>\n",
       "      <th>19936</th>\n",
       "      <td>100</td>\n",
       "      <td>100</td>\n",
       "      <td>100</td>\n",
       "      <td>100</td>\n",
       "      <td>100</td>\n",
       "      <td>100</td>\n",
       "      <td>100</td>\n",
       "      <td>100</td>\n",
       "      <td>100</td>\n",
       "      <td>100</td>\n",
       "      <td>...</td>\n",
       "      <td>100</td>\n",
       "      <td>-7536.1658</td>\n",
       "      <td>4.864898e+06</td>\n",
       "      <td>3</td>\n",
       "      <td>1</td>\n",
       "      <td>112</td>\n",
       "      <td>2</td>\n",
       "      <td>18</td>\n",
       "      <td>10</td>\n",
       "      <td>1371711025</td>\n",
       "    </tr>\n",
       "  </tbody>\n",
       "</table>\n",
       "<p>19937 rows × 529 columns</p>\n",
       "</div>"
      ],
      "text/plain": [
       "       WAP001  WAP002  WAP003  WAP004  WAP005  WAP006  WAP007  WAP008  WAP009  \\\n",
       "0         100     100     100     100     100     100     100     100     100   \n",
       "1         100     100     100     100     100     100     100     100     100   \n",
       "2         100     100     100     100     100     100     100     -97     100   \n",
       "3         100     100     100     100     100     100     100     100     100   \n",
       "4         100     100     100     100     100     100     100     100     100   \n",
       "...       ...     ...     ...     ...     ...     ...     ...     ...     ...   \n",
       "19932     100     100     100     100     100     100     100     100     100   \n",
       "19933     100     100     100     100     100     100     100     100     100   \n",
       "19934     100     100     100     100     100     100     100     100     100   \n",
       "19935     100     100     100     100     100     100     100     100     100   \n",
       "19936     100     100     100     100     100     100     100     100     100   \n",
       "\n",
       "       WAP010  ...  WAP520  LONGITUDE      LATITUDE  FLOOR  BUILDINGID  \\\n",
       "0         100  ...     100 -7541.2643  4.864921e+06      2           1   \n",
       "1         100  ...     100 -7536.6212  4.864934e+06      2           1   \n",
       "2         100  ...     100 -7519.1524  4.864950e+06      2           1   \n",
       "3         100  ...     100 -7524.5704  4.864934e+06      2           1   \n",
       "4         100  ...     100 -7632.1436  4.864982e+06      0           0   \n",
       "...       ...  ...     ...        ...           ...    ...         ...   \n",
       "19932     100  ...     100 -7485.4686  4.864875e+06      3           1   \n",
       "19933     100  ...     100 -7390.6206  4.864836e+06      1           2   \n",
       "19934     100  ...     100 -7516.8415  4.864889e+06      3           1   \n",
       "19935     100  ...     100 -7537.3219  4.864896e+06      3           1   \n",
       "19936     100  ...     100 -7536.1658  4.864898e+06      3           1   \n",
       "\n",
       "       SPACEID  RELATIVEPOSITION  USERID  PHONEID   TIMESTAMP  \n",
       "0          106                 2       2       23  1371713733  \n",
       "1          106                 2       2       23  1371713691  \n",
       "2          103                 2       2       23  1371714095  \n",
       "3          102                 2       2       23  1371713807  \n",
       "4          122                 2      11       13  1369909710  \n",
       "...        ...               ...     ...      ...         ...  \n",
       "19932        1                 2      18       10  1371710683  \n",
       "19933      140                 2      18       10  1371710402  \n",
       "19934       13                 2      18       10  1371710921  \n",
       "19935      113                 2      18       10  1371711049  \n",
       "19936      112                 2      18       10  1371711025  \n",
       "\n",
       "[19937 rows x 529 columns]"
      ]
     },
     "execution_count": 5,
     "metadata": {},
     "output_type": "execute_result"
    }
   ],
   "source": [
    "trainingData = pd.read_csv('csv/trainingData.csv')\n",
    "trainingData"
   ]
  },
  {
   "cell_type": "markdown",
   "id": "cc480e87-cd77-4450-87a3-a5b21153743e",
   "metadata": {},
   "source": [
    "# Clean data"
   ]
  },
  {
   "cell_type": "markdown",
   "id": "b792b0d5-4efa-46b4-b76f-ee8c82a8dde8",
   "metadata": {},
   "source": [
    "## Drop duplicates"
   ]
  },
  {
   "cell_type": "markdown",
   "id": "593f1654-4db9-479d-bc09-0711526a3358",
   "metadata": {},
   "source": [
    "Some duplicates are present in the dataset:"
   ]
  },
  {
   "cell_type": "code",
   "execution_count": 6,
   "id": "807ad783-f086-4694-8693-13e54932c815",
   "metadata": {},
   "outputs": [
    {
     "name": "stdout",
     "output_type": "stream",
     "text": [
      "19300\n"
     ]
    }
   ],
   "source": [
    "trainingData.drop_duplicates(inplace=True)\n",
    "# How many rows after dropping duplicates?\n",
    "print(len(trainingData))"
   ]
  },
  {
   "cell_type": "markdown",
   "id": "9f8fb105-74ee-4573-a9bf-762e6253e7ee",
   "metadata": {},
   "source": [
    "## Missing values"
   ]
  },
  {
   "cell_type": "markdown",
   "id": "73af5b02-0838-429e-8398-b544cc1aa1ee",
   "metadata": {},
   "source": [
    "There are no missing values in the dataset:"
   ]
  },
  {
   "cell_type": "code",
   "execution_count": 7,
   "id": "ab1e9560-4d7e-4e47-a74f-b8992b682c8d",
   "metadata": {},
   "outputs": [
    {
     "data": {
      "text/plain": [
       "WAP001       0\n",
       "WAP349       0\n",
       "WAP363       0\n",
       "WAP362       0\n",
       "WAP361       0\n",
       "            ..\n",
       "WAP172       0\n",
       "WAP171       0\n",
       "WAP170       0\n",
       "WAP169       0\n",
       "TIMESTAMP    0\n",
       "Length: 529, dtype: int64"
      ]
     },
     "execution_count": 7,
     "metadata": {},
     "output_type": "execute_result"
    }
   ],
   "source": [
    "trainingData.isnull().sum().sort_values(ascending=False)"
   ]
  },
  {
   "cell_type": "markdown",
   "id": "24611f98-ad50-4f83-92e8-8bed88259263",
   "metadata": {},
   "source": [
    "## Inconsistent data"
   ]
  },
  {
   "cell_type": "markdown",
   "id": "96c0db3d-cb76-43ae-9610-a945ce469387",
   "metadata": {},
   "source": [
    "Now lets check positions (LONGITUDE,LATITUDE) of the taken measurements:"
   ]
  },
  {
   "cell_type": "code",
   "execution_count": 8,
   "id": "bed80ee8-cc24-44a9-b4c3-57abf68dd02f",
   "metadata": {},
   "outputs": [
    {
     "data": {
      "image/png": "[encoded data removed]",
      "text/plain": [
       "<Figure size 1080x1080 with 1 Axes>"
      ]
     },
     "metadata": {
      "needs_background": "light"
     },
     "output_type": "display_data"
    }
   ],
   "source": [
    "# show all positions of the buildings\n",
    "data_pos = trainingData\n",
    "plt.figure(figsize = (15,15))\n",
    "plt.title(\"Positions\")\n",
    "plt.xlabel(\"LONGITUDE\")\n",
    "sns.scatterplot(data = data_pos, x = 'LONGITUDE', y = 'LATITUDE',hue='BUILDINGID',palette='deep')\n",
    "plt.show()"
   ]
  },
  {
   "cell_type": "markdown",
   "id": "041f4a0c-b302-4a8b-a27a-c79dc79267e6",
   "metadata": {},
   "source": [
    "There is possible data inconsistency here!\n",
    "WAPs cannot belong to the building 0 and 2 at the same time. Lets find such records and exclude them."
   ]
  },
  {
   "cell_type": "markdown",
   "id": "6edb1269-2578-4335-bbb6-8d2db6a2f852",
   "metadata": {},
   "source": [
    "Lets select WAP columns"
   ]
  },
  {
   "cell_type": "code",
   "execution_count": 9,
   "id": "883dadef-bcdf-4461-b995-6b4c483d8dfd",
   "metadata": {},
   "outputs": [],
   "source": [
    "wap_cols =[ col for col in trainingData.columns if col[0:3] == 'WAP'] "
   ]
  },
  {
   "cell_type": "markdown",
   "id": "3cd092e8-6c2f-4c21-a5cf-cd2f6cb882c1",
   "metadata": {},
   "source": [
    "Lets find WAPs that were detected both in building 0 and 2 in trainingData"
   ]
  },
  {
   "cell_type": "code",
   "execution_count": 10,
   "id": "65036763-ae12-410e-984d-353a87ce8c85",
   "metadata": {
    "scrolled": true,
    "tags": []
   },
   "outputs": [
    {
     "data": {
      "text/plain": [
       "['WAP018', 'WAP212', 'WAP305', 'WAP508']"
      ]
     },
     "execution_count": 10,
     "metadata": {},
     "output_type": "execute_result"
    }
   ],
   "source": [
    "# select common building range of WAP\n",
    "\n",
    "common_blds =[0,2]\n",
    "\n",
    "buildings_waps = {}\n",
    "waps_common = []\n",
    "#iterate through WAPs\n",
    "for col in wap_cols:\n",
    "    # select rows with signal <= 0 and detect their buildings scope\n",
    "    buildings = trainingData[trainingData[col] <= 0]['BUILDINGID'].sort_values().unique()\n",
    "    buildings_waps[col] = list(buildings)\n",
    "\n",
    "# list of WAPs present in both buildings 0 and 2\n",
    "for key in buildings_waps.keys():\n",
    "    if buildings_waps[key] == common_blds:\n",
    "        waps_common.append(key)\n",
    "waps_common"
   ]
  },
  {
   "cell_type": "markdown",
   "id": "7a5390f4-a9c7-4049-83fb-559855b5deee",
   "metadata": {},
   "source": [
    "Lets find out how often do these WAPs appear in buildings 0 and 2:"
   ]
  },
  {
   "cell_type": "code",
   "execution_count": 11,
   "id": "3ef07885-8a1c-46ec-8fe7-b51a1f862a60",
   "metadata": {},
   "outputs": [
    {
     "name": "stdout",
     "output_type": "stream",
     "text": [
      "Building 0:  {'WAP018': 86, 'WAP212': 2, 'WAP305': 9, 'WAP508': 13}\n",
      "Building 2:  {'WAP018': 2, 'WAP212': 2, 'WAP305': 48, 'WAP508': 79}\n"
     ]
    }
   ],
   "source": [
    "freq_0 = {}\n",
    "freq_2 = {}\n",
    "for col in waps_common:\n",
    "    freq_0[col]=(len(trainingData[(trainingData.BUILDINGID == 0) & (trainingData[col] <= 0)]))\n",
    "    freq_2[col]=(len(trainingData[(trainingData.BUILDINGID == 2) & (trainingData[col] <= 0)]))\n",
    "print('Building 0: ',freq_0)\n",
    "print('Building 2: ',freq_2)"
   ]
  },
  {
   "cell_type": "markdown",
   "id": "0fa8a3c8-f73b-4778-89ae-140605e75448",
   "metadata": {},
   "source": [
    "The mean signal value for these WAPs is:"
   ]
  },
  {
   "cell_type": "code",
   "execution_count": 12,
   "id": "e188196c-bed2-4728-aefc-d2071b0fe2e7",
   "metadata": {},
   "outputs": [
    {
     "name": "stdout",
     "output_type": "stream",
     "text": [
      "Building 0:  {'WAP018': -89.3, 'WAP212': -96.0, 'WAP305': -95.4, 'WAP508': -91.0}\n",
      "Building 2:  {'WAP018': -89.0, 'WAP212': -94.0, 'WAP305': -86.0, 'WAP508': -91.8}\n"
     ]
    }
   ],
   "source": [
    "# signal mean value of common WAPs for buildings 0 and 2\n",
    "signal_mean_0 = {}\n",
    "signal_mean_2 = {}\n",
    "for col in waps_common:\n",
    "    signal_mean_0[col] = round(trainingData[(trainingData.BUILDINGID == 0) & (trainingData[col] <= 0)][col].mean(),1)\n",
    "    signal_mean_2[col] = round(trainingData[(trainingData.BUILDINGID == 2) & (trainingData[col] <= 0)][col].mean(),1) \n",
    "print('Building 0: ',signal_mean_0)\n",
    "print('Building 2: ',signal_mean_2)"
   ]
  },
  {
   "cell_type": "markdown",
   "id": "d7c4ebda-2eb9-4ca6-a7ed-1a838e6426a7",
   "metadata": {},
   "source": [
    "Based on frequencies and mean values of signal we can make decision on which rows should be droppped. Most probably, WAP018  belongs to the bulding 0 and cannot be in the building 2. WAP305, WAP508 belong to the building 2\n",
    "and cannot be in the building 0"
   ]
  },
  {
   "cell_type": "code",
   "execution_count": 13,
   "id": "fdc49432-2687-4350-b966-80ef90b5b441",
   "metadata": {},
   "outputs": [],
   "source": [
    "rows_drop_0 = list(trainingData.query('(WAP018 <= 0) & (BUILDINGID == 2)').index)\n",
    "rows_drop_2 = list(trainingData.query('((WAP305 <= 0) or (WAP508 <= 0)) & (BUILDINGID == 0)').index)"
   ]
  },
  {
   "cell_type": "code",
   "execution_count": 14,
   "id": "5ee430e4-cf92-41c8-8305-c0b5e82d90f0",
   "metadata": {},
   "outputs": [],
   "source": [
    "trainingData.drop(labels=rows_drop_0,axis=0,inplace=True)\n",
    "trainingData.drop(labels=rows_drop_2,axis=0,inplace=True)"
   ]
  },
  {
   "cell_type": "markdown",
   "id": "6f4205fa-2abd-463d-9837-f1aba7f665eb",
   "metadata": {},
   "source": [
    "In case of WAP212, this WAP appears equaly frequent in buildings 0 and 2. The average signal level is almost the same. This feature should be dropped, because it is giving us inconsistent data. Lets save the column name to drop it during feature selection"
   ]
  },
  {
   "cell_type": "code",
   "execution_count": 15,
   "id": "ec6f021e-709c-4f75-af4a-082a19998f41",
   "metadata": {},
   "outputs": [],
   "source": [
    "col_inconsistent_drop = ['WAP212']"
   ]
  },
  {
   "cell_type": "markdown",
   "id": "d07dbd26-06dc-44af-88de-707c6f7e7968",
   "metadata": {},
   "source": [
    "## User with most postion errors (Optional)"
   ]
  },
  {
   "cell_type": "markdown",
   "id": "ba1521dc-5552-4519-befd-9239c5d31af1",
   "metadata": {},
   "source": [
    "If needed , we can drop records made by particular users. "
   ]
  },
  {
   "cell_type": "code",
   "execution_count": 16,
   "id": "975224be-b1ee-4c33-9aec-c93766388ef8",
   "metadata": {},
   "outputs": [],
   "source": [
    "# Select Users to drop:\n",
    "users = [11]\n",
    "# Set to True if you want to drop specific users:\n",
    "drop_users = False"
   ]
  },
  {
   "cell_type": "code",
   "execution_count": 17,
   "id": "2aeafd05-a766-4101-85ef-f0a8a8b699e7",
   "metadata": {},
   "outputs": [],
   "source": [
    "if drop_users:\n",
    "    rows_drop_user = list(trainingData.query('USERID in 11').index)\n",
    "    trainingData.drop(labels=rows_drop_user,axis=0,inplace=True)"
   ]
  },
  {
   "cell_type": "markdown",
   "id": "9dab8aee-599d-4b80-b3b3-04bc543e9ea4",
   "metadata": {},
   "source": [
    "# Export cleaned data"
   ]
  },
  {
   "cell_type": "code",
   "execution_count": 18,
   "id": "bc2bde14-cbe8-4c68-b328-c3ceca9ee6ca",
   "metadata": {},
   "outputs": [],
   "source": [
    "trainingData.to_csv('csv/cleaned/trainingData_clean.csv')"
   ]
  }
 ],
 "metadata": {
  "kernelspec": {
   "display_name": "Python 3",
   "language": "python",
   "name": "python3"
  },
  "language_info": {
   "codemirror_mode": {
    "name": "ipython",
    "version": 3
   },
   "file_extension": ".py",
   "mimetype": "text/x-python",
   "name": "python",
   "nbconvert_exporter": "python",
   "pygments_lexer": "ipython3",
   "version": "3.8.8"
  }
 },
 "nbformat": 4,
 "nbformat_minor": 5
}
