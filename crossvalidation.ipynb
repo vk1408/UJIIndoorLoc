{
 "cells": [
  {
   "cell_type": "markdown",
   "id": "f534db02-64e0-4255-9cab-ef27a6d8a0d7",
   "metadata": {},
   "source": [
    "# Import libraries"
   ]
  },
  {
   "cell_type": "code",
   "execution_count": 76,
   "id": "67aaf563-a9f8-402f-99b2-c91a137d5968",
   "metadata": {},
   "outputs": [],
   "source": [
    "import pandas as pd"
   ]
  },
  {
   "cell_type": "code",
   "execution_count": 77,
   "id": "ccf328cb-c910-4b52-bd74-b7ee54fc915f",
   "metadata": {},
   "outputs": [],
   "source": [
    "import numpy as np"
   ]
  },
  {
   "cell_type": "code",
   "execution_count": 78,
   "id": "87646195-fd1f-4447-aa68-75cd4efa5b2c",
   "metadata": {},
   "outputs": [],
   "source": [
    "import matplotlib.pyplot as plt"
   ]
  },
  {
   "cell_type": "code",
   "execution_count": 79,
   "id": "af0b5e83-92c1-44be-8122-119f25eeb946",
   "metadata": {},
   "outputs": [],
   "source": [
    "import seaborn as sns"
   ]
  },
  {
   "cell_type": "code",
   "execution_count": 80,
   "id": "8b263b62-052e-4742-aa35-95ee0f5eeab3",
   "metadata": {},
   "outputs": [],
   "source": [
    "import mllib"
   ]
  },
  {
   "cell_type": "code",
   "execution_count": 81,
   "id": "7affbea7-56bd-4169-8784-b30b68161f59",
   "metadata": {},
   "outputs": [],
   "source": [
    "from sklearn.metrics import mean_squared_error, r2_score\n",
    "from sklearn.model_selection import KFold\n",
    "from sklearn.model_selection import cross_val_score"
   ]
  },
  {
   "cell_type": "markdown",
   "id": "74c4b784-fec4-4d36-9e50-cb2116c1f0fd",
   "metadata": {},
   "source": [
    "# Import dataset"
   ]
  },
  {
   "cell_type": "markdown",
   "id": "87d41113-a335-4b90-8bd7-5a1cea88a503",
   "metadata": {},
   "source": [
    "Import and read dataset:"
   ]
  },
  {
   "cell_type": "code",
   "execution_count": 82,
   "id": "666b6af7-447a-46f4-9b5b-ad30d6049a6c",
   "metadata": {},
   "outputs": [],
   "source": [
    "trainingData = pd.read_csv('csv/cleaned/trainingData_clean.csv',index_col=0)"
   ]
  },
  {
   "cell_type": "code",
   "execution_count": 83,
   "id": "8e64bd4d-a028-4c08-ad2d-8a5f63a261bb",
   "metadata": {},
   "outputs": [],
   "source": [
    "X_train = pd.read_csv('csv/transformed/X_train.csv',index_col=0)"
   ]
  },
  {
   "cell_type": "code",
   "execution_count": 84,
   "id": "709df69e-f46d-48a8-8d9c-f957d1c58348",
   "metadata": {},
   "outputs": [],
   "source": [
    "X_test = pd.read_csv('csv/transformed/X_test.csv',index_col=0)"
   ]
  },
  {
   "cell_type": "markdown",
   "id": "f3fc4416-5625-4df2-b161-d1b55eec4d0c",
   "metadata": {},
   "source": [
    "# Cross validation - REGRESSION"
   ]
  },
  {
   "cell_type": "markdown",
   "id": "d6069e48-47f0-4fc5-9a13-794aaf76d1ea",
   "metadata": {},
   "source": [
    "## td"
   ]
  },
  {
   "cell_type": "code",
   "execution_count": 85,
   "id": "74a98090-66db-4466-8060-5f456662c8b2",
   "metadata": {},
   "outputs": [],
   "source": [
    "td = trainingData.loc[list(X_train.index),:]"
   ]
  },
  {
   "cell_type": "markdown",
   "id": "e00dc181-34be-42c9-ae33-22f457dc182e",
   "metadata": {},
   "source": [
    "## LONGITUDE"
   ]
  },
  {
   "cell_type": "markdown",
   "id": "8dc02276-45e7-48a9-8245-1c6b8c3ce296",
   "metadata": {},
   "source": [
    "### Random Forest Regression"
   ]
  },
  {
   "cell_type": "code",
   "execution_count": 86,
   "id": "9651a1b2-fcda-498c-8e86-3950805b3e20",
   "metadata": {},
   "outputs": [],
   "source": [
    "from sklearn.ensemble import RandomForestRegressor"
   ]
  },
  {
   "cell_type": "code",
   "execution_count": 87,
   "id": "f6ea9e4f-e1a4-4734-b331-b356d2704d94",
   "metadata": {},
   "outputs": [],
   "source": [
    "y_train = td['LONGITUDE']"
   ]
  },
  {
   "cell_type": "code",
   "execution_count": 88,
   "id": "3e3923fe-a884-4d7f-9981-d171eb1e8c53",
   "metadata": {},
   "outputs": [
    {
     "data": {
      "text/plain": [
       "array([0.99668445, 0.99509231, 0.99613632, 0.99665854, 0.99410663])"
      ]
     },
     "execution_count": 88,
     "metadata": {},
     "output_type": "execute_result"
    }
   ],
   "source": [
    "# cross validation\n",
    "\n",
    "k = 5\n",
    "kf = KFold(n_splits=k, random_state=None)\n",
    "model = RandomForestRegressor()\n",
    " \n",
    "result = cross_val_score(model , X_train, y_train, cv = kf)\n",
    " \n",
    "avg_accuracy = result.mean()\n",
    "\n",
    "result"
   ]
  },
  {
   "cell_type": "code",
   "execution_count": 89,
   "id": "ac080b37-bd6c-417c-af16-c3babc701b41",
   "metadata": {},
   "outputs": [],
   "source": [
    "cross_validation = pd.DataFrame(columns=['target','model','avg_accuracy'])"
   ]
  },
  {
   "cell_type": "code",
   "execution_count": 90,
   "id": "702624a1-9b7e-4bed-a474-ec51ddba653d",
   "metadata": {},
   "outputs": [],
   "source": [
    "# the mean squared error and\n",
    "# the coefficient of determination: 1 is perfect prediction\n",
    "temp_df = pd.DataFrame({'target':['LONGITUDE'],\n",
    "                        'model':['RFR'],\n",
    "                        'avg_accuracy':avg_accuracy\n",
    "                       })\n",
    "\n",
    "\n",
    "cross_validation = cross_validation.append(temp_df,ignore_index=True)"
   ]
  },
  {
   "cell_type": "code",
   "execution_count": 91,
   "id": "59370962-0cec-4487-808b-29a5684e937f",
   "metadata": {},
   "outputs": [
    {
     "data": {
      "text/html": [
       "<div>\n",
       "<style scoped>\n",
       "    .dataframe tbody tr th:only-of-type {\n",
       "        vertical-align: middle;\n",
       "    }\n",
       "\n",
       "    .dataframe tbody tr th {\n",
       "        vertical-align: top;\n",
       "    }\n",
       "\n",
       "    .dataframe thead th {\n",
       "        text-align: right;\n",
       "    }\n",
       "</style>\n",
       "<table border=\"1\" class=\"dataframe\">\n",
       "  <thead>\n",
       "    <tr style=\"text-align: right;\">\n",
       "      <th></th>\n",
       "      <th>target</th>\n",
       "      <th>model</th>\n",
       "      <th>avg_accuracy</th>\n",
       "    </tr>\n",
       "  </thead>\n",
       "  <tbody>\n",
       "    <tr>\n",
       "      <th>0</th>\n",
       "      <td>LONGITUDE</td>\n",
       "      <td>RFR</td>\n",
       "      <td>0.995736</td>\n",
       "    </tr>\n",
       "  </tbody>\n",
       "</table>\n",
       "</div>"
      ],
      "text/plain": [
       "      target model  avg_accuracy\n",
       "0  LONGITUDE   RFR      0.995736"
      ]
     },
     "execution_count": 91,
     "metadata": {},
     "output_type": "execute_result"
    }
   ],
   "source": [
    "temp_df"
   ]
  },
  {
   "cell_type": "markdown",
   "id": "ca7f7957-16eb-4733-a79c-b658a7758854",
   "metadata": {},
   "source": [
    "### KNN Regression"
   ]
  },
  {
   "cell_type": "code",
   "execution_count": 92,
   "id": "6cecac1f-dd85-4e76-a875-a7ba68e8096b",
   "metadata": {},
   "outputs": [],
   "source": [
    "from sklearn.neighbors import KNeighborsRegressor"
   ]
  },
  {
   "cell_type": "code",
   "execution_count": 93,
   "id": "3a8559a7-2bdf-4ed7-ade2-aa5fcdacf555",
   "metadata": {},
   "outputs": [],
   "source": [
    "y_train = td['LONGITUDE']"
   ]
  },
  {
   "cell_type": "code",
   "execution_count": 94,
   "id": "aafa42e9-7e7d-4293-96c9-40c514e81f3f",
   "metadata": {},
   "outputs": [
    {
     "data": {
      "text/plain": [
       "array([0.99494472, 0.9956318 , 0.99440889, 0.99498632, 0.99285574])"
      ]
     },
     "execution_count": 94,
     "metadata": {},
     "output_type": "execute_result"
    }
   ],
   "source": [
    "# cross validation\n",
    "\n",
    "k = 5\n",
    "kf = KFold(n_splits=k, random_state=None)\n",
    "model = KNeighborsRegressor(n_neighbors=5,leaf_size=11)\n",
    " \n",
    "result = cross_val_score(model , X_train, y_train, cv = kf)\n",
    " \n",
    "avg_accuracy = result.mean()\n",
    "result"
   ]
  },
  {
   "cell_type": "code",
   "execution_count": 95,
   "id": "1a56797f-3148-47fa-859d-8d22d1908d0f",
   "metadata": {},
   "outputs": [],
   "source": [
    "# the mean squared error and\n",
    "# the coefficient of determination: 1 is perfect prediction\n",
    "temp_df = pd.DataFrame({'target':['LONGITUDE'],\n",
    "                        'model':['KNNR'],\n",
    "                        'avg_accuracy':avg_accuracy})\n",
    "\n",
    "\n",
    "cross_validation = cross_validation.append(temp_df,ignore_index=True)"
   ]
  },
  {
   "cell_type": "code",
   "execution_count": 96,
   "id": "8f43ef0c-0d96-43ce-af3b-84a73d651026",
   "metadata": {},
   "outputs": [
    {
     "data": {
      "text/html": [
       "<div>\n",
       "<style scoped>\n",
       "    .dataframe tbody tr th:only-of-type {\n",
       "        vertical-align: middle;\n",
       "    }\n",
       "\n",
       "    .dataframe tbody tr th {\n",
       "        vertical-align: top;\n",
       "    }\n",
       "\n",
       "    .dataframe thead th {\n",
       "        text-align: right;\n",
       "    }\n",
       "</style>\n",
       "<table border=\"1\" class=\"dataframe\">\n",
       "  <thead>\n",
       "    <tr style=\"text-align: right;\">\n",
       "      <th></th>\n",
       "      <th>target</th>\n",
       "      <th>model</th>\n",
       "      <th>avg_accuracy</th>\n",
       "    </tr>\n",
       "  </thead>\n",
       "  <tbody>\n",
       "    <tr>\n",
       "      <th>0</th>\n",
       "      <td>LONGITUDE</td>\n",
       "      <td>KNNR</td>\n",
       "      <td>0.994565</td>\n",
       "    </tr>\n",
       "  </tbody>\n",
       "</table>\n",
       "</div>"
      ],
      "text/plain": [
       "      target model  avg_accuracy\n",
       "0  LONGITUDE  KNNR      0.994565"
      ]
     },
     "execution_count": 96,
     "metadata": {},
     "output_type": "execute_result"
    }
   ],
   "source": [
    "temp_df"
   ]
  },
  {
   "cell_type": "markdown",
   "id": "8a5074c3-cb8f-4a1c-bd82-b8551fb802c2",
   "metadata": {},
   "source": [
    "### Decision tree Regression"
   ]
  },
  {
   "cell_type": "code",
   "execution_count": 97,
   "id": "23ffe263-815b-48f2-879b-42a1cf5368a6",
   "metadata": {},
   "outputs": [],
   "source": [
    "from sklearn.tree import DecisionTreeRegressor"
   ]
  },
  {
   "cell_type": "code",
   "execution_count": 98,
   "id": "d9d103b2-acce-4b35-bd77-e5c62cc000af",
   "metadata": {},
   "outputs": [],
   "source": [
    "y_train = td['LONGITUDE']"
   ]
  },
  {
   "cell_type": "code",
   "execution_count": 99,
   "id": "83a71cb1-2e5c-4c77-9b79-4b822bcf1b52",
   "metadata": {},
   "outputs": [
    {
     "data": {
      "text/plain": [
       "array([0.99455068, 0.99023039, 0.993671  , 0.99466728, 0.99106278])"
      ]
     },
     "execution_count": 99,
     "metadata": {},
     "output_type": "execute_result"
    }
   ],
   "source": [
    "# cross validation - too slow\n",
    "k = 5\n",
    "kf = KFold(n_splits=k, random_state=None)\n",
    "model = DecisionTreeRegressor(max_depth=50, random_state=42)\n",
    " \n",
    "result = cross_val_score(model , X_train, y_train, cv = kf)\n",
    " \n",
    "avg_accuracy = result.mean()\n",
    "\n",
    "result"
   ]
  },
  {
   "cell_type": "code",
   "execution_count": 100,
   "id": "7b9ee311-9fa7-4798-852d-eb213c07e4b2",
   "metadata": {},
   "outputs": [],
   "source": [
    "# the mean squared error and\n",
    "# the coefficient of determination: 1 is perfect prediction\n",
    "temp_df = pd.DataFrame({'target':['LONGITUDE'],\n",
    "                        'model':['DTR'],\n",
    "                        'avg_accuracy':avg_accuracy})\n",
    "\n",
    "cross_validation = cross_validation.append(temp_df,ignore_index=True)"
   ]
  },
  {
   "cell_type": "code",
   "execution_count": 101,
   "id": "a5242274-e741-4b03-8ba5-019a397a6766",
   "metadata": {},
   "outputs": [
    {
     "data": {
      "text/html": [
       "<div>\n",
       "<style scoped>\n",
       "    .dataframe tbody tr th:only-of-type {\n",
       "        vertical-align: middle;\n",
       "    }\n",
       "\n",
       "    .dataframe tbody tr th {\n",
       "        vertical-align: top;\n",
       "    }\n",
       "\n",
       "    .dataframe thead th {\n",
       "        text-align: right;\n",
       "    }\n",
       "</style>\n",
       "<table border=\"1\" class=\"dataframe\">\n",
       "  <thead>\n",
       "    <tr style=\"text-align: right;\">\n",
       "      <th></th>\n",
       "      <th>target</th>\n",
       "      <th>model</th>\n",
       "      <th>avg_accuracy</th>\n",
       "    </tr>\n",
       "  </thead>\n",
       "  <tbody>\n",
       "    <tr>\n",
       "      <th>0</th>\n",
       "      <td>LONGITUDE</td>\n",
       "      <td>DTR</td>\n",
       "      <td>0.992836</td>\n",
       "    </tr>\n",
       "  </tbody>\n",
       "</table>\n",
       "</div>"
      ],
      "text/plain": [
       "      target model  avg_accuracy\n",
       "0  LONGITUDE   DTR      0.992836"
      ]
     },
     "execution_count": 101,
     "metadata": {},
     "output_type": "execute_result"
    }
   ],
   "source": [
    "temp_df"
   ]
  },
  {
   "cell_type": "markdown",
   "id": "c5999652-2e2f-4203-8f52-525ded37591f",
   "metadata": {},
   "source": [
    "## LATITUDE"
   ]
  },
  {
   "cell_type": "markdown",
   "id": "1c4ecb4b-86f5-47a9-a99e-3e152f84b86e",
   "metadata": {},
   "source": [
    "### Random Forest Regression"
   ]
  },
  {
   "cell_type": "code",
   "execution_count": 102,
   "id": "e2a6b999-5354-4b3e-8220-bcee04a4fa51",
   "metadata": {},
   "outputs": [],
   "source": [
    "from sklearn.ensemble import RandomForestRegressor"
   ]
  },
  {
   "cell_type": "code",
   "execution_count": 103,
   "id": "50e2a9d9-541a-4ab5-8437-4cf660372859",
   "metadata": {},
   "outputs": [],
   "source": [
    "y_train = td['LATITUDE']"
   ]
  },
  {
   "cell_type": "code",
   "execution_count": 104,
   "id": "0973d9dd-38b9-49fc-af45-4da079dd9733",
   "metadata": {},
   "outputs": [
    {
     "data": {
      "text/plain": [
       "array([0.99357531, 0.99221169, 0.99080188, 0.99345547, 0.99128487])"
      ]
     },
     "execution_count": 104,
     "metadata": {},
     "output_type": "execute_result"
    }
   ],
   "source": [
    "# cross validation\n",
    "k = 5\n",
    "kf = KFold(n_splits=k, random_state=None)\n",
    "model = RandomForestRegressor()\n",
    " \n",
    "result = cross_val_score(model , X_train, y_train, cv = kf)\n",
    " \n",
    "avg_accuracy = result.mean()\n",
    "result"
   ]
  },
  {
   "cell_type": "code",
   "execution_count": 105,
   "id": "74c7c6ac-9e16-4857-9f5d-e6c0d4cb80b9",
   "metadata": {},
   "outputs": [],
   "source": [
    "# the mean squared error and\n",
    "# the coefficient of determination: 1 is perfect prediction\n",
    "\n",
    "temp_df = pd.DataFrame({'target':['LATITUDE'],\n",
    "                        'model':['RFR'],\n",
    "                        'avg_accuracy':avg_accuracy})\n",
    "\n",
    "\n",
    "cross_validation = cross_validation.append(temp_df,ignore_index=True)"
   ]
  },
  {
   "cell_type": "code",
   "execution_count": 106,
   "id": "0d17183f-67be-416c-a6e7-10a71139dfbc",
   "metadata": {},
   "outputs": [
    {
     "data": {
      "text/html": [
       "<div>\n",
       "<style scoped>\n",
       "    .dataframe tbody tr th:only-of-type {\n",
       "        vertical-align: middle;\n",
       "    }\n",
       "\n",
       "    .dataframe tbody tr th {\n",
       "        vertical-align: top;\n",
       "    }\n",
       "\n",
       "    .dataframe thead th {\n",
       "        text-align: right;\n",
       "    }\n",
       "</style>\n",
       "<table border=\"1\" class=\"dataframe\">\n",
       "  <thead>\n",
       "    <tr style=\"text-align: right;\">\n",
       "      <th></th>\n",
       "      <th>target</th>\n",
       "      <th>model</th>\n",
       "      <th>avg_accuracy</th>\n",
       "    </tr>\n",
       "  </thead>\n",
       "  <tbody>\n",
       "    <tr>\n",
       "      <th>0</th>\n",
       "      <td>LATITUDE</td>\n",
       "      <td>RFR</td>\n",
       "      <td>0.992266</td>\n",
       "    </tr>\n",
       "  </tbody>\n",
       "</table>\n",
       "</div>"
      ],
      "text/plain": [
       "     target model  avg_accuracy\n",
       "0  LATITUDE   RFR      0.992266"
      ]
     },
     "execution_count": 106,
     "metadata": {},
     "output_type": "execute_result"
    }
   ],
   "source": [
    "temp_df"
   ]
  },
  {
   "cell_type": "markdown",
   "id": "862ff7ac-c75d-4fa7-8d36-60de3626b9e0",
   "metadata": {},
   "source": [
    "### KNN Regression"
   ]
  },
  {
   "cell_type": "code",
   "execution_count": 107,
   "id": "d0809d0b-b5d2-4cfe-974d-36f501679adf",
   "metadata": {},
   "outputs": [],
   "source": [
    "from sklearn.neighbors import KNeighborsRegressor"
   ]
  },
  {
   "cell_type": "code",
   "execution_count": 108,
   "id": "96c05570-0ec6-4adc-91d3-cb50482c2bfc",
   "metadata": {},
   "outputs": [],
   "source": [
    "y_train = td['LATITUDE']"
   ]
  },
  {
   "cell_type": "code",
   "execution_count": 109,
   "id": "a0f3eb26-4198-42ef-8caf-cb7f6b100cab",
   "metadata": {},
   "outputs": [
    {
     "data": {
      "text/plain": [
       "array([0.99300987, 0.99396421, 0.9895878 , 0.99223479, 0.98569096])"
      ]
     },
     "execution_count": 109,
     "metadata": {},
     "output_type": "execute_result"
    }
   ],
   "source": [
    "# cross validation\n",
    "k = 5\n",
    "kf = KFold(n_splits=k, random_state=None)\n",
    "model = KNeighborsRegressor(n_neighbors=5, leaf_size=11,weights='distance')\n",
    " \n",
    "result = cross_val_score(model , X_train, y_train, cv = kf)\n",
    " \n",
    "avg_accuracy = result.mean()\n",
    "\n",
    "result"
   ]
  },
  {
   "cell_type": "code",
   "execution_count": 110,
   "id": "f36c49a8-848d-464b-864f-f1dbbfac950b",
   "metadata": {},
   "outputs": [],
   "source": [
    "# the mean squared error and\n",
    "# the coefficient of determination: 1 is perfect prediction\n",
    "temp_df = pd.DataFrame({'target':['LATITUDE'],\n",
    "                        'model':['KNNR'],\n",
    "                        'avg_accuracy':avg_accuracy})\n",
    "\n",
    "cross_validation = cross_validation.append(temp_df,ignore_index=True)"
   ]
  },
  {
   "cell_type": "code",
   "execution_count": 111,
   "id": "cbe90caa-44d1-4f67-bd58-6023c5410396",
   "metadata": {},
   "outputs": [
    {
     "data": {
      "text/html": [
       "<div>\n",
       "<style scoped>\n",
       "    .dataframe tbody tr th:only-of-type {\n",
       "        vertical-align: middle;\n",
       "    }\n",
       "\n",
       "    .dataframe tbody tr th {\n",
       "        vertical-align: top;\n",
       "    }\n",
       "\n",
       "    .dataframe thead th {\n",
       "        text-align: right;\n",
       "    }\n",
       "</style>\n",
       "<table border=\"1\" class=\"dataframe\">\n",
       "  <thead>\n",
       "    <tr style=\"text-align: right;\">\n",
       "      <th></th>\n",
       "      <th>target</th>\n",
       "      <th>model</th>\n",
       "      <th>avg_accuracy</th>\n",
       "    </tr>\n",
       "  </thead>\n",
       "  <tbody>\n",
       "    <tr>\n",
       "      <th>0</th>\n",
       "      <td>LATITUDE</td>\n",
       "      <td>KNNR</td>\n",
       "      <td>0.990898</td>\n",
       "    </tr>\n",
       "  </tbody>\n",
       "</table>\n",
       "</div>"
      ],
      "text/plain": [
       "     target model  avg_accuracy\n",
       "0  LATITUDE  KNNR      0.990898"
      ]
     },
     "execution_count": 111,
     "metadata": {},
     "output_type": "execute_result"
    }
   ],
   "source": [
    "temp_df"
   ]
  },
  {
   "cell_type": "markdown",
   "id": "10e02ddd-5186-4609-871b-8bd29cb88e7f",
   "metadata": {},
   "source": [
    "### Support Vector Machines Regression"
   ]
  },
  {
   "cell_type": "code",
   "execution_count": 112,
   "id": "389ead90-879e-4d50-866a-8d0589e8f3ac",
   "metadata": {},
   "outputs": [],
   "source": [
    "from sklearn.tree import DecisionTreeRegressor"
   ]
  },
  {
   "cell_type": "code",
   "execution_count": 113,
   "id": "e02e47cf-189f-4011-a5cd-fe2afd2e23a8",
   "metadata": {},
   "outputs": [],
   "source": [
    "y_train = td['LATITUDE']"
   ]
  },
  {
   "cell_type": "code",
   "execution_count": 114,
   "id": "35e6728e-d083-412d-9486-1752e42ae7a5",
   "metadata": {},
   "outputs": [
    {
     "data": {
      "text/plain": [
       "array([0.98684437, 0.98548573, 0.98546798, 0.98601004, 0.98590097])"
      ]
     },
     "execution_count": 114,
     "metadata": {},
     "output_type": "execute_result"
    }
   ],
   "source": [
    "# cross validation\n",
    "k = 5\n",
    "kf = KFold(n_splits=k, random_state=None)\n",
    "model = DecisionTreeRegressor()\n",
    " \n",
    "result = cross_val_score(model , X_train, y_train, cv = kf)\n",
    " \n",
    "avg_accuracy = result.mean()\n",
    "result"
   ]
  },
  {
   "cell_type": "code",
   "execution_count": 115,
   "id": "b4a56660-c3e3-4618-a97f-05f270ab1ff8",
   "metadata": {},
   "outputs": [],
   "source": [
    "# the mean squared error and\n",
    "# the coefficient of determination: 1 is perfect prediction\n",
    "temp_df = pd.DataFrame({'target':['LATITUDE'],\n",
    "                        'model':['DTR'],\n",
    "                        'avg_accuracy':avg_accuracy})\n",
    "\n",
    "cross_validation = cross_validation.append(temp_df,ignore_index=True)"
   ]
  },
  {
   "cell_type": "code",
   "execution_count": 116,
   "id": "f64698b1-f90a-4c49-a55f-e438fe8eabc0",
   "metadata": {},
   "outputs": [
    {
     "data": {
      "text/html": [
       "<div>\n",
       "<style scoped>\n",
       "    .dataframe tbody tr th:only-of-type {\n",
       "        vertical-align: middle;\n",
       "    }\n",
       "\n",
       "    .dataframe tbody tr th {\n",
       "        vertical-align: top;\n",
       "    }\n",
       "\n",
       "    .dataframe thead th {\n",
       "        text-align: right;\n",
       "    }\n",
       "</style>\n",
       "<table border=\"1\" class=\"dataframe\">\n",
       "  <thead>\n",
       "    <tr style=\"text-align: right;\">\n",
       "      <th></th>\n",
       "      <th>target</th>\n",
       "      <th>model</th>\n",
       "      <th>avg_accuracy</th>\n",
       "    </tr>\n",
       "  </thead>\n",
       "  <tbody>\n",
       "    <tr>\n",
       "      <th>0</th>\n",
       "      <td>LATITUDE</td>\n",
       "      <td>DTR</td>\n",
       "      <td>0.985942</td>\n",
       "    </tr>\n",
       "  </tbody>\n",
       "</table>\n",
       "</div>"
      ],
      "text/plain": [
       "     target model  avg_accuracy\n",
       "0  LATITUDE   DTR      0.985942"
      ]
     },
     "execution_count": 116,
     "metadata": {},
     "output_type": "execute_result"
    }
   ],
   "source": [
    "temp_df"
   ]
  },
  {
   "cell_type": "markdown",
   "id": "13476158-880a-4d8e-9945-a330b389dc32",
   "metadata": {},
   "source": [
    "## COMPARE models"
   ]
  },
  {
   "cell_type": "code",
   "execution_count": 117,
   "id": "da85cf25-8956-42ea-a669-d7ca003a71a0",
   "metadata": {},
   "outputs": [
    {
     "data": {
      "text/html": [
       "<div>\n",
       "<style scoped>\n",
       "    .dataframe tbody tr th:only-of-type {\n",
       "        vertical-align: middle;\n",
       "    }\n",
       "\n",
       "    .dataframe tbody tr th {\n",
       "        vertical-align: top;\n",
       "    }\n",
       "\n",
       "    .dataframe thead th {\n",
       "        text-align: right;\n",
       "    }\n",
       "</style>\n",
       "<table border=\"1\" class=\"dataframe\">\n",
       "  <thead>\n",
       "    <tr style=\"text-align: right;\">\n",
       "      <th></th>\n",
       "      <th>target</th>\n",
       "      <th>model</th>\n",
       "      <th>avg_accuracy</th>\n",
       "    </tr>\n",
       "  </thead>\n",
       "  <tbody>\n",
       "    <tr>\n",
       "      <th>0</th>\n",
       "      <td>LONGITUDE</td>\n",
       "      <td>RFR</td>\n",
       "      <td>0.995736</td>\n",
       "    </tr>\n",
       "    <tr>\n",
       "      <th>1</th>\n",
       "      <td>LONGITUDE</td>\n",
       "      <td>KNNR</td>\n",
       "      <td>0.994565</td>\n",
       "    </tr>\n",
       "    <tr>\n",
       "      <th>2</th>\n",
       "      <td>LONGITUDE</td>\n",
       "      <td>DTR</td>\n",
       "      <td>0.992836</td>\n",
       "    </tr>\n",
       "    <tr>\n",
       "      <th>3</th>\n",
       "      <td>LATITUDE</td>\n",
       "      <td>RFR</td>\n",
       "      <td>0.992266</td>\n",
       "    </tr>\n",
       "    <tr>\n",
       "      <th>4</th>\n",
       "      <td>LATITUDE</td>\n",
       "      <td>KNNR</td>\n",
       "      <td>0.990898</td>\n",
       "    </tr>\n",
       "    <tr>\n",
       "      <th>5</th>\n",
       "      <td>LATITUDE</td>\n",
       "      <td>DTR</td>\n",
       "      <td>0.985942</td>\n",
       "    </tr>\n",
       "  </tbody>\n",
       "</table>\n",
       "</div>"
      ],
      "text/plain": [
       "      target model  avg_accuracy\n",
       "0  LONGITUDE   RFR      0.995736\n",
       "1  LONGITUDE  KNNR      0.994565\n",
       "2  LONGITUDE   DTR      0.992836\n",
       "3   LATITUDE   RFR      0.992266\n",
       "4   LATITUDE  KNNR      0.990898\n",
       "5   LATITUDE   DTR      0.985942"
      ]
     },
     "execution_count": 117,
     "metadata": {},
     "output_type": "execute_result"
    }
   ],
   "source": [
    "cross_validation.style.format({\n",
    "    \"avg_accuracy\":  \"{:.2f}\",\n",
    "})\n",
    "cross_validation"
   ]
  },
  {
   "cell_type": "code",
   "execution_count": 118,
   "id": "47ee4093-197a-480a-8f9c-066e76ff0cc0",
   "metadata": {},
   "outputs": [
    {
     "data": {
      "image/png": "[encoded data removed]",
      "text/plain": [
       "<Figure size 432x288 with 1 Axes>"
      ]
     },
     "metadata": {
      "needs_background": "light"
     },
     "output_type": "display_data"
    }
   ],
   "source": [
    "import seaborn as sns\n",
    "import matplotlib.pyplot as plt\n",
    "import numpy as np\n",
    "\n",
    "plt.grid(axis='y')\n",
    "sns.barplot(data = cross_validation, x = \"target\", y = \"avg_accuracy\", \n",
    "            hue = \"model\", palette = \"bright\")\n",
    "plt.yticks(np.arange(0, 1.01, step=0.1))\n",
    "plt.legend(bbox_to_anchor=(1.05, 1), loc=2, borderaxespad=0.)\n",
    "plt.title('Average accuracy for '+str(k)+' folds')\n",
    "plt.show()"
   ]
  },
  {
   "cell_type": "code",
   "execution_count": null,
   "id": "26e83f0a-6e7e-40a6-8c42-f293da193445",
   "metadata": {},
   "outputs": [],
   "source": []
  },
  {
   "cell_type": "markdown",
   "id": "bc557548-b2cc-481f-ac86-223d4a559591",
   "metadata": {
    "tags": []
   },
   "source": [
    "# Cross validation - categorical"
   ]
  },
  {
   "cell_type": "markdown",
   "id": "2c8b5f04-de97-4249-be75-ba302ac9cbff",
   "metadata": {},
   "source": [
    "## td"
   ]
  },
  {
   "cell_type": "code",
   "execution_count": 119,
   "id": "9bd2bc44-08d3-4681-a4db-c7c114ec1a9a",
   "metadata": {},
   "outputs": [],
   "source": [
    "td = trainingData.loc[list(X_train.index),:]"
   ]
  },
  {
   "cell_type": "markdown",
   "id": "1f106ff7-96c4-4e5a-b674-0e84f4a1b20d",
   "metadata": {},
   "source": [
    "## SELECT target"
   ]
  },
  {
   "cell_type": "code",
   "execution_count": 120,
   "id": "dca5eb2d-e152-4ca5-ad8e-dae791c2daab",
   "metadata": {},
   "outputs": [],
   "source": [
    "# 'building_floor':\n",
    "# 'building_floor_spaceid': not used\n",
    "# 'spaceid'\n",
    "# 'longitude'\n",
    "# 'building'\n",
    "# 'floor'\n",
    "target = 'building_floor'"
   ]
  },
  {
   "cell_type": "markdown",
   "id": "b1dd2766-2e4c-4a8a-a7b7-8f6510583a23",
   "metadata": {},
   "source": [
    "## y - target"
   ]
  },
  {
   "cell_type": "code",
   "execution_count": 121,
   "id": "c5321235-24cd-438e-aa8b-fe577fc88fa3",
   "metadata": {},
   "outputs": [],
   "source": [
    "# select target and conditions\n",
    "\n",
    "if target == 'building_floor':\n",
    "    #BUILDING, FLOOR\n",
    "    y_train = td['BUILDINGID']*10 + td['FLOOR'] \n",
    "#     y_test = vd['BUILDINGID']*10 + vd['FLOOR'] \n",
    "    \n",
    "elif  target == 'building_floor_spaceid':\n",
    "    # BUILDING, FLOOR, SPACEID\n",
    "    y_train = td['BUILDINGID']*10000 + td['FLOOR']*1000 + td['SPACEID']\n",
    "#     y_test = vd['BUILDINGID']*10000 + vd['FLOOR']*1000 + vd['SPACEID']\n",
    "    \n",
    "elif target == 'spaceid':\n",
    "    # SPACEID\n",
    "    y_train = td['SPACEID']\n",
    "#     y_test = vd['SPACEID']\n",
    "    \n",
    "elif target == 'floor':\n",
    "    # SPACEID\n",
    "    y_train = td['FLOOR']\n",
    "#     y_test = vd['FLOOR']\n",
    "    \n",
    "elif target == 'building':\n",
    "    y_train = td['BUILDINGID']\n",
    "#     y_test = vd['BUILDINGID']   "
   ]
  },
  {
   "cell_type": "markdown",
   "id": "de210a39-45cf-4ef8-bf66-03c7ee01b96d",
   "metadata": {},
   "source": [
    "## Decision tree"
   ]
  },
  {
   "cell_type": "code",
   "execution_count": 122,
   "id": "3b22dd94-095f-4af8-b6ce-9268bcde15c4",
   "metadata": {},
   "outputs": [],
   "source": [
    "# collect avg  accuracy of models\n",
    "cross_validation_avg_acc = {}"
   ]
  },
  {
   "cell_type": "code",
   "execution_count": 123,
   "id": "63ef34e3-4ef6-4414-be66-b782b15eef3d",
   "metadata": {},
   "outputs": [],
   "source": [
    "from sklearn.tree import DecisionTreeClassifier"
   ]
  },
  {
   "cell_type": "code",
   "execution_count": 124,
   "id": "17ffbb5a-51f6-49fc-9262-46276e9e484c",
   "metadata": {},
   "outputs": [
    {
     "data": {
      "text/plain": [
       "array([0.96206226, 0.95914397, 0.95298314, 0.95687419, 0.95687419])"
      ]
     },
     "execution_count": 124,
     "metadata": {},
     "output_type": "execute_result"
    }
   ],
   "source": [
    "# cross validation\n",
    "\n",
    "k = 5\n",
    "\n",
    "kf = KFold(n_splits=k, random_state=None)\n",
    "\n",
    "model = DecisionTreeClassifier(max_depth=50)\n",
    " \n",
    "result = cross_val_score(model , X_train, y_train, cv = kf)\n",
    " \n",
    "avg_accuracy = result.mean()\n",
    "\n",
    "result"
   ]
  },
  {
   "cell_type": "code",
   "execution_count": 125,
   "id": "0d17208d-090d-4214-a1a8-fb386ec73d23",
   "metadata": {},
   "outputs": [
    {
     "data": {
      "text/plain": [
       "0.9575875486381322"
      ]
     },
     "execution_count": 125,
     "metadata": {},
     "output_type": "execute_result"
    }
   ],
   "source": [
    "cross_validation_avg_acc['DT'] = avg_accuracy\n",
    "cross_validation_avg_acc['DT']"
   ]
  },
  {
   "cell_type": "markdown",
   "id": "1ab24d45-856b-4665-b0c4-2856ac61e870",
   "metadata": {},
   "source": [
    "## Knearest neighbors"
   ]
  },
  {
   "cell_type": "code",
   "execution_count": 126,
   "id": "86230873-191c-4df4-a1a1-761a5e0feccb",
   "metadata": {},
   "outputs": [],
   "source": [
    "from sklearn.neighbors import KNeighborsClassifier"
   ]
  },
  {
   "cell_type": "code",
   "execution_count": 127,
   "id": "932d81e6-0769-4287-b0fd-e33b96dd7a35",
   "metadata": {},
   "outputs": [
    {
     "data": {
      "text/plain": [
       "array([0.97892348, 0.97178988, 0.97470817, 0.97503243, 0.97081712])"
      ]
     },
     "execution_count": 127,
     "metadata": {},
     "output_type": "execute_result"
    }
   ],
   "source": [
    "# cross validation\n",
    "\n",
    "k = 5\n",
    "\n",
    "kf = KFold(n_splits=k, random_state=None)\n",
    "\n",
    "model = KNeighborsClassifier(n_neighbors=3,weights='distance')\n",
    " \n",
    "result = cross_val_score(model , X_train, y_train, cv = kf)\n",
    " \n",
    "avg_accuracy = result.mean()\n",
    "\n",
    "result"
   ]
  },
  {
   "cell_type": "code",
   "execution_count": 128,
   "id": "dd961824-4d19-417d-ac5b-ff0b6b6fbdc9",
   "metadata": {
    "tags": []
   },
   "outputs": [
    {
     "data": {
      "text/plain": [
       "0.9742542153047988"
      ]
     },
     "execution_count": 128,
     "metadata": {},
     "output_type": "execute_result"
    }
   ],
   "source": [
    "cross_validation_avg_acc['KNN'] = avg_accuracy\n",
    "cross_validation_avg_acc['KNN']"
   ]
  },
  {
   "cell_type": "markdown",
   "id": "22cc839f-c019-4830-8e62-e295269181a2",
   "metadata": {},
   "source": [
    "## Logistic regression"
   ]
  },
  {
   "cell_type": "markdown",
   "id": "c0cfa002-66d6-4043-adc1-ed62c16bdeb9",
   "metadata": {},
   "source": [
    "Performs slow with big number of categories (for example building-floor)"
   ]
  },
  {
   "cell_type": "code",
   "execution_count": 129,
   "id": "cf7b6657-81cc-4b81-bf01-bfb83fd3e814",
   "metadata": {
    "tags": []
   },
   "outputs": [],
   "source": [
    "from sklearn.linear_model import LogisticRegression"
   ]
  },
  {
   "cell_type": "code",
   "execution_count": 130,
   "id": "be34a8dc-04de-4ba1-b57f-5c569b2172e0",
   "metadata": {},
   "outputs": [
    {
     "data": {
      "text/plain": [
       "array([0.96595331, 0.96562905, 0.96660182, 0.97211414, 0.96044099])"
      ]
     },
     "execution_count": 130,
     "metadata": {},
     "output_type": "execute_result"
    }
   ],
   "source": [
    "# cross validation\n",
    "\n",
    "k = 5\n",
    "\n",
    "kf = KFold(n_splits=k, random_state=None)\n",
    "\n",
    "model = LogisticRegression(max_iter=10000)\n",
    " \n",
    "result = cross_val_score(model , X_train, y_train, cv = kf)\n",
    " \n",
    "avg_accuracy = result.mean()\n",
    "\n",
    "result"
   ]
  },
  {
   "cell_type": "code",
   "execution_count": 131,
   "id": "3af9ca32-bd3a-4bef-bd6a-dbbef2264361",
   "metadata": {},
   "outputs": [
    {
     "data": {
      "text/plain": [
       "0.9661478599221789"
      ]
     },
     "execution_count": 131,
     "metadata": {},
     "output_type": "execute_result"
    }
   ],
   "source": [
    "cross_validation_avg_acc['LR'] = avg_accuracy\n",
    "cross_validation_avg_acc['LR']"
   ]
  },
  {
   "cell_type": "markdown",
   "id": "ccd40d92-a920-4484-8b9a-c7e24b8e5097",
   "metadata": {},
   "source": [
    "## Random forest"
   ]
  },
  {
   "cell_type": "code",
   "execution_count": 132,
   "id": "70668ef8-ff13-4cd1-b5a7-98d920dec570",
   "metadata": {},
   "outputs": [],
   "source": [
    "from sklearn.ensemble import RandomForestClassifier"
   ]
  },
  {
   "cell_type": "code",
   "execution_count": 133,
   "id": "cebd0439-af66-4751-b019-d5dc4a66a8af",
   "metadata": {},
   "outputs": [
    {
     "data": {
      "text/plain": [
       "array([0.99546044, 0.99546044, 0.99546044, 0.99546044, 0.99383917])"
      ]
     },
     "execution_count": 133,
     "metadata": {},
     "output_type": "execute_result"
    }
   ],
   "source": [
    "# cross validation\n",
    "\n",
    "k = 5\n",
    "\n",
    "kf = KFold(n_splits=k, random_state=None)\n",
    "\n",
    "model = RandomForestClassifier(n_estimators=100, max_depth=30, random_state=42)\n",
    " \n",
    "result = cross_val_score(model , X_train, y_train, cv = kf)\n",
    " \n",
    "avg_accuracy = result.mean()\n",
    "\n",
    "result"
   ]
  },
  {
   "cell_type": "code",
   "execution_count": 134,
   "id": "6b716606-a1ea-4cd6-a2a9-854ac926085b",
   "metadata": {},
   "outputs": [
    {
     "data": {
      "text/plain": [
       "0.995136186770428"
      ]
     },
     "execution_count": 134,
     "metadata": {},
     "output_type": "execute_result"
    }
   ],
   "source": [
    "cross_validation_avg_acc['RF'] = avg_accuracy\n",
    "cross_validation_avg_acc['RF']"
   ]
  },
  {
   "cell_type": "markdown",
   "id": "764237e3-69bc-4abe-85f6-67b83faa971b",
   "metadata": {},
   "source": [
    "## Support Vector Machine"
   ]
  },
  {
   "cell_type": "markdown",
   "id": "a62e16cb-97f8-484f-b4da-27a5b9ed58bb",
   "metadata": {},
   "source": [
    "Performs slow with big number of categories (for example building-floor)"
   ]
  },
  {
   "cell_type": "code",
   "execution_count": 135,
   "id": "2272129e-a13e-4d60-9051-a8e0bc7286a3",
   "metadata": {},
   "outputs": [],
   "source": [
    "from sklearn.svm import SVC"
   ]
  },
  {
   "cell_type": "code",
   "execution_count": 136,
   "id": "aaccd43e-1abb-41af-9079-0a6bcdaf4ae1",
   "metadata": {},
   "outputs": [
    {
     "data": {
      "text/plain": [
       "array([0.98249027, 0.97924773, 0.98151751, 0.98605707, 0.97405966])"
      ]
     },
     "execution_count": 136,
     "metadata": {},
     "output_type": "execute_result"
    }
   ],
   "source": [
    "# cross validation\n",
    "\n",
    "k = 5\n",
    "\n",
    "kf = KFold(n_splits=k, random_state=None)\n",
    "\n",
    "model = SVC(probability=True)\n",
    " \n",
    "result = cross_val_score(model , X_train, y_train, cv = kf)\n",
    " \n",
    "avg_accuracy = result.mean()\n",
    "\n",
    "result"
   ]
  },
  {
   "cell_type": "code",
   "execution_count": 137,
   "id": "8f6e8477-7938-495e-9b86-bfc16206f9e6",
   "metadata": {},
   "outputs": [
    {
     "data": {
      "text/plain": [
       "0.9806744487678338"
      ]
     },
     "execution_count": 137,
     "metadata": {},
     "output_type": "execute_result"
    }
   ],
   "source": [
    "cross_validation_avg_acc['SVM'] = avg_accuracy\n",
    "cross_validation_avg_acc['SVM']"
   ]
  },
  {
   "cell_type": "markdown",
   "id": "dc37fcd9-847e-41d2-98e6-f511b5efd09e",
   "metadata": {},
   "source": [
    "## COMPARE accuracy of models"
   ]
  },
  {
   "cell_type": "code",
   "execution_count": 138,
   "id": "3c90472e-18c2-4630-8b72-702033dec2d6",
   "metadata": {},
   "outputs": [
    {
     "data": {
      "text/plain": [
       "{'DT': 0.9575875486381322,\n",
       " 'KNN': 0.9742542153047988,\n",
       " 'LR': 0.9661478599221789,\n",
       " 'RF': 0.995136186770428,\n",
       " 'SVM': 0.9806744487678338}"
      ]
     },
     "execution_count": 138,
     "metadata": {},
     "output_type": "execute_result"
    }
   ],
   "source": [
    "cross_validation_avg_acc"
   ]
  },
  {
   "cell_type": "code",
   "execution_count": 139,
   "id": "0d258360-d2a4-429d-b2df-34bba09058c6",
   "metadata": {},
   "outputs": [
    {
     "data": {
      "text/html": [
       "<div>\n",
       "<style scoped>\n",
       "    .dataframe tbody tr th:only-of-type {\n",
       "        vertical-align: middle;\n",
       "    }\n",
       "\n",
       "    .dataframe tbody tr th {\n",
       "        vertical-align: top;\n",
       "    }\n",
       "\n",
       "    .dataframe thead th {\n",
       "        text-align: right;\n",
       "    }\n",
       "</style>\n",
       "<table border=\"1\" class=\"dataframe\">\n",
       "  <thead>\n",
       "    <tr style=\"text-align: right;\">\n",
       "      <th></th>\n",
       "      <th>model</th>\n",
       "      <th>avg_accuracy</th>\n",
       "    </tr>\n",
       "  </thead>\n",
       "  <tbody>\n",
       "    <tr>\n",
       "      <th>0</th>\n",
       "      <td>DT</td>\n",
       "      <td>0.957588</td>\n",
       "    </tr>\n",
       "    <tr>\n",
       "      <th>1</th>\n",
       "      <td>KNN</td>\n",
       "      <td>0.974254</td>\n",
       "    </tr>\n",
       "    <tr>\n",
       "      <th>2</th>\n",
       "      <td>LR</td>\n",
       "      <td>0.966148</td>\n",
       "    </tr>\n",
       "    <tr>\n",
       "      <th>3</th>\n",
       "      <td>RF</td>\n",
       "      <td>0.995136</td>\n",
       "    </tr>\n",
       "    <tr>\n",
       "      <th>4</th>\n",
       "      <td>SVM</td>\n",
       "      <td>0.980674</td>\n",
       "    </tr>\n",
       "  </tbody>\n",
       "</table>\n",
       "</div>"
      ],
      "text/plain": [
       "  model  avg_accuracy\n",
       "0    DT      0.957588\n",
       "1   KNN      0.974254\n",
       "2    LR      0.966148\n",
       "3    RF      0.995136\n",
       "4   SVM      0.980674"
      ]
     },
     "execution_count": 139,
     "metadata": {},
     "output_type": "execute_result"
    }
   ],
   "source": [
    "def_cross_validation_avg_acc = pd.DataFrame(cross_validation_avg_acc.items(),columns=['model','avg_accuracy'])\n",
    "def_cross_validation_avg_acc"
   ]
  },
  {
   "cell_type": "code",
   "execution_count": 140,
   "id": "eaf7861b-9606-46aa-8290-f99e1b9e1e4d",
   "metadata": {},
   "outputs": [
    {
     "data": {
      "image/png": "[encoded data removed]",
      "text/plain": [
       "<Figure size 432x288 with 1 Axes>"
      ]
     },
     "metadata": {
      "needs_background": "light"
     },
     "output_type": "display_data"
    }
   ],
   "source": [
    "import seaborn as sns\n",
    "import matplotlib.pyplot as plt\n",
    "import numpy as np\n",
    "sns.barplot(data = def_cross_validation_avg_acc, x = \"model\", y = \"avg_accuracy\", palette = \"Spectral\")\n",
    "plt.title('TARGET: ' + target)\n",
    "plt.xlabel(\"Model\")\n",
    "plt.ylabel(\"avg_accuracy\")\n",
    "plt.xticks(rotation = 60)\n",
    "plt.yticks(np.arange(0, 1.01, step=0.1))\n",
    "\n",
    "plt.grid(axis='y')\n",
    "plt.show()"
   ]
  },
  {
   "cell_type": "code",
   "execution_count": null,
   "id": "971ed152-6f8d-4a22-a61e-1362b1d2de89",
   "metadata": {},
   "outputs": [],
   "source": []
  }
 ],
 "metadata": {
  "kernelspec": {
   "display_name": "Python 3",
   "language": "python",
   "name": "python3"
  },
  "language_info": {
   "codemirror_mode": {
    "name": "ipython",
    "version": 3
   },
   "file_extension": ".py",
   "mimetype": "text/x-python",
   "name": "python",
   "nbconvert_exporter": "python",
   "pygments_lexer": "ipython3",
   "version": "3.8.8"
  }
 },
 "nbformat": 4,
 "nbformat_minor": 5
}
