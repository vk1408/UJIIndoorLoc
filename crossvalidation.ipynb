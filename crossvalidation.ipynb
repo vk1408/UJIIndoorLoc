{
 "cells": [
  {
   "cell_type": "markdown",
   "id": "f534db02-64e0-4255-9cab-ef27a6d8a0d7",
   "metadata": {},
   "source": [
    "# Import libraries"
   ]
  },
  {
   "cell_type": "code",
   "execution_count": 2,
   "id": "67aaf563-a9f8-402f-99b2-c91a137d5968",
   "metadata": {},
   "outputs": [],
   "source": [
    "import pandas as pd"
   ]
  },
  {
   "cell_type": "code",
   "execution_count": 3,
   "id": "ccf328cb-c910-4b52-bd74-b7ee54fc915f",
   "metadata": {},
   "outputs": [],
   "source": [
    "import numpy as np"
   ]
  },
  {
   "cell_type": "code",
   "execution_count": 4,
   "id": "87646195-fd1f-4447-aa68-75cd4efa5b2c",
   "metadata": {},
   "outputs": [],
   "source": [
    "import matplotlib.pyplot as plt"
   ]
  },
  {
   "cell_type": "code",
   "execution_count": 5,
   "id": "af0b5e83-92c1-44be-8122-119f25eeb946",
   "metadata": {},
   "outputs": [],
   "source": [
    "import seaborn as sns"
   ]
  },
  {
   "cell_type": "code",
   "execution_count": 6,
   "id": "8b263b62-052e-4742-aa35-95ee0f5eeab3",
   "metadata": {},
   "outputs": [],
   "source": [
    "import mllib"
   ]
  },
  {
   "cell_type": "code",
   "execution_count": 7,
   "id": "7affbea7-56bd-4169-8784-b30b68161f59",
   "metadata": {},
   "outputs": [],
   "source": [
    "from sklearn.metrics import mean_squared_error, r2_score\n",
    "from sklearn.model_selection import KFold\n",
    "from sklearn.model_selection import cross_val_score"
   ]
  },
  {
   "cell_type": "code",
   "execution_count": 8,
   "id": "0dcf20f2-b19a-4e9a-a859-cd3f822543f0",
   "metadata": {},
   "outputs": [],
   "source": [
    "from sklearn.model_selection import RandomizedSearchCV"
   ]
  },
  {
   "cell_type": "code",
   "execution_count": 210,
   "id": "2538bcce-dab9-4d99-a826-c0947cfd343b",
   "metadata": {},
   "outputs": [],
   "source": [
    "from sklearn.model_selection import GridSearchCV"
   ]
  },
  {
   "cell_type": "markdown",
   "id": "74c4b784-fec4-4d36-9e50-cb2116c1f0fd",
   "metadata": {},
   "source": [
    "# Import dataset"
   ]
  },
  {
   "cell_type": "markdown",
   "id": "87d41113-a335-4b90-8bd7-5a1cea88a503",
   "metadata": {},
   "source": [
    "Import and read dataset:"
   ]
  },
  {
   "cell_type": "code",
   "execution_count": 9,
   "id": "666b6af7-447a-46f4-9b5b-ad30d6049a6c",
   "metadata": {},
   "outputs": [],
   "source": [
    "trainingData = pd.read_csv('csv/cleaned/trainingData_clean.csv',index_col=0)"
   ]
  },
  {
   "cell_type": "code",
   "execution_count": 10,
   "id": "8e64bd4d-a028-4c08-ad2d-8a5f63a261bb",
   "metadata": {},
   "outputs": [],
   "source": [
    "X_train = pd.read_csv('csv/transformed/X_train.csv',index_col=0)"
   ]
  },
  {
   "cell_type": "code",
   "execution_count": 11,
   "id": "709df69e-f46d-48a8-8d9c-f957d1c58348",
   "metadata": {},
   "outputs": [],
   "source": [
    "X_test = pd.read_csv('csv/transformed/X_test.csv',index_col=0)"
   ]
  },
  {
   "cell_type": "markdown",
   "id": "f3fc4416-5625-4df2-b161-d1b55eec4d0c",
   "metadata": {},
   "source": [
    "# Cross validation - REGRESSION"
   ]
  },
  {
   "cell_type": "markdown",
   "id": "d6069e48-47f0-4fc5-9a13-794aaf76d1ea",
   "metadata": {},
   "source": [
    "## get all features for X_train indexes"
   ]
  },
  {
   "cell_type": "code",
   "execution_count": 64,
   "id": "74a98090-66db-4466-8060-5f456662c8b2",
   "metadata": {},
   "outputs": [],
   "source": [
    "td = trainingData.loc[list(X_train.index),:]"
   ]
  },
  {
   "cell_type": "markdown",
   "id": "e00dc181-34be-42c9-ae33-22f457dc182e",
   "metadata": {},
   "source": [
    "## LONGITUDE"
   ]
  },
  {
   "cell_type": "markdown",
   "id": "8dc02276-45e7-48a9-8245-1c6b8c3ce296",
   "metadata": {},
   "source": [
    "### Random Forest Regression"
   ]
  },
  {
   "cell_type": "code",
   "execution_count": 65,
   "id": "9651a1b2-fcda-498c-8e86-3950805b3e20",
   "metadata": {},
   "outputs": [],
   "source": [
    "from sklearn.ensemble import RandomForestRegressor"
   ]
  },
  {
   "cell_type": "code",
   "execution_count": 66,
   "id": "f6ea9e4f-e1a4-4734-b331-b356d2704d94",
   "metadata": {},
   "outputs": [],
   "source": [
    "y_train = td['LONGITUDE']"
   ]
  },
  {
   "cell_type": "code",
   "execution_count": 67,
   "id": "249baed6-6495-4421-bcd1-f6d57e876219",
   "metadata": {},
   "outputs": [],
   "source": [
    "param_distributions = {\"n_estimators\":range(2,30),\n",
    "                       \"max_features\":range(2,30),\n",
    "                        \"max_depth\":range(2,30)}"
   ]
  },
  {
   "cell_type": "code",
   "execution_count": 68,
   "id": "e4da3191-1daa-4fb5-858b-634f0b401054",
   "metadata": {},
   "outputs": [],
   "source": [
    "rfr_long = RandomForestRegressor()"
   ]
  },
  {
   "cell_type": "code",
   "execution_count": 69,
   "id": "3e3923fe-a884-4d7f-9981-d171eb1e8c53",
   "metadata": {},
   "outputs": [],
   "source": [
    "# cross validation\n",
    "\n",
    "randsearch_rfr_long = RandomizedSearchCV(estimator=rfr_long,\n",
    "                                      param_distributions=param_distributions,\n",
    "                                      n_iter=40,\n",
    "                                      scoring=\"r2\",\n",
    "                                      cv=10)"
   ]
  },
  {
   "cell_type": "code",
   "execution_count": 70,
   "id": "04c97fda-35c2-4887-bad4-e0506c643b23",
   "metadata": {
    "scrolled": true,
    "tags": []
   },
   "outputs": [
    {
     "data": {
      "text/plain": [
       "RandomizedSearchCV(cv=10, estimator=RandomForestRegressor(), n_iter=40,\n",
       "                   param_distributions={'max_depth': range(2, 30),\n",
       "                                        'max_features': range(2, 30),\n",
       "                                        'n_estimators': range(2, 30)},\n",
       "                   scoring='r2')"
      ]
     },
     "execution_count": 70,
     "metadata": {},
     "output_type": "execute_result"
    }
   ],
   "source": [
    "randsearch_rfr_long.fit(X_train, y_train)"
   ]
  },
  {
   "cell_type": "code",
   "execution_count": 71,
   "id": "ac080b37-bd6c-417c-af16-c3babc701b41",
   "metadata": {},
   "outputs": [
    {
     "data": {
      "text/plain": [
       "{'n_estimators': 9, 'max_features': 26, 'max_depth': 28}"
      ]
     },
     "execution_count": 71,
     "metadata": {},
     "output_type": "execute_result"
    }
   ],
   "source": [
    "randsearch_rfr_long.best_params_"
   ]
  },
  {
   "cell_type": "markdown",
   "id": "ca7f7957-16eb-4733-a79c-b658a7758854",
   "metadata": {},
   "source": [
    "### KNN Regression"
   ]
  },
  {
   "cell_type": "code",
   "execution_count": 99,
   "id": "6cecac1f-dd85-4e76-a875-a7ba68e8096b",
   "metadata": {},
   "outputs": [],
   "source": [
    "from sklearn.neighbors import KNeighborsRegressor"
   ]
  },
  {
   "cell_type": "code",
   "execution_count": 100,
   "id": "a52b349a-64ec-4cce-bc60-fe0c4f76a192",
   "metadata": {},
   "outputs": [],
   "source": [
    "knnr_long = KNeighborsRegressor()"
   ]
  },
  {
   "cell_type": "code",
   "execution_count": 106,
   "id": "3a8559a7-2bdf-4ed7-ade2-aa5fcdacf555",
   "metadata": {},
   "outputs": [],
   "source": [
    "y_train = td['LONGITUDE']"
   ]
  },
  {
   "cell_type": "code",
   "execution_count": 115,
   "id": "80977d9d-fddc-4438-8596-beb7bafbe7d2",
   "metadata": {},
   "outputs": [],
   "source": [
    "param_distributions = {\"n_neighbors\" : range(3,30),\n",
    "                      'weights' :[\"uniform\", \"distance\"]}"
   ]
  },
  {
   "cell_type": "code",
   "execution_count": 119,
   "id": "aafa42e9-7e7d-4293-96c9-40c514e81f3f",
   "metadata": {},
   "outputs": [],
   "source": [
    "# cross validation\n",
    "randsearch_knnr_long = RandomizedSearchCV(estimator=knnr_long,\n",
    "                                      param_distributions=param_distributions,\n",
    "                                      n_iter=40,\n",
    "                                      scoring=\"r2\",\n",
    "                                      cv=10)"
   ]
  },
  {
   "cell_type": "code",
   "execution_count": 120,
   "id": "cdbac260-9f49-4491-9e6a-30c2bcee7032",
   "metadata": {},
   "outputs": [
    {
     "data": {
      "text/plain": [
       "RandomizedSearchCV(cv=10, estimator=KNeighborsRegressor(), n_iter=40,\n",
       "                   param_distributions={'n_neighbors': range(3, 30),\n",
       "                                        'weights': ['uniform', 'distance']},\n",
       "                   scoring='r2')"
      ]
     },
     "execution_count": 120,
     "metadata": {},
     "output_type": "execute_result"
    }
   ],
   "source": [
    "randsearch_knnr_long.fit(X_train, y_train)"
   ]
  },
  {
   "cell_type": "code",
   "execution_count": 121,
   "id": "c20ba5ce-e9f1-449f-acc6-202c6511234a",
   "metadata": {},
   "outputs": [
    {
     "data": {
      "text/plain": [
       "{'weights': 'uniform', 'n_neighbors': 3}"
      ]
     },
     "execution_count": 121,
     "metadata": {},
     "output_type": "execute_result"
    }
   ],
   "source": [
    "randsearch_knnr_long.best_params_"
   ]
  },
  {
   "cell_type": "markdown",
   "id": "8a5074c3-cb8f-4a1c-bd82-b8551fb802c2",
   "metadata": {},
   "source": [
    "### Decision tree regression"
   ]
  },
  {
   "cell_type": "code",
   "execution_count": 122,
   "id": "23ffe263-815b-48f2-879b-42a1cf5368a6",
   "metadata": {},
   "outputs": [],
   "source": [
    "from sklearn.tree import DecisionTreeRegressor"
   ]
  },
  {
   "cell_type": "code",
   "execution_count": 123,
   "id": "dd7a5b31-21e1-4927-8011-34358b3ec39d",
   "metadata": {},
   "outputs": [],
   "source": [
    "dtr_long = DecisionTreeRegressor()"
   ]
  },
  {
   "cell_type": "code",
   "execution_count": 124,
   "id": "d9d103b2-acce-4b35-bd77-e5c62cc000af",
   "metadata": {},
   "outputs": [],
   "source": [
    "y_train = td['LONGITUDE']"
   ]
  },
  {
   "cell_type": "code",
   "execution_count": 128,
   "id": "9603620f-af0a-42d2-ae29-605b7fe1552a",
   "metadata": {},
   "outputs": [],
   "source": [
    "param_distributions = {\"max_depth\":range(2,30),\n",
    "                      'min_samples_leaf':range(2,30)}"
   ]
  },
  {
   "cell_type": "code",
   "execution_count": 129,
   "id": "00017318-4c37-44bd-9a66-23c463341545",
   "metadata": {},
   "outputs": [],
   "source": [
    "# cross validation\n",
    "randsearch_dtr_long = RandomizedSearchCV(estimator=dtr_long,\n",
    "                                      param_distributions=param_distributions,\n",
    "                                      n_iter=40,\n",
    "                                      scoring=\"r2\",\n",
    "                                      cv=10)"
   ]
  },
  {
   "cell_type": "code",
   "execution_count": 130,
   "id": "c1fdc9ac-ff0a-48c1-87d4-e10c407d1b19",
   "metadata": {},
   "outputs": [
    {
     "data": {
      "text/plain": [
       "RandomizedSearchCV(cv=10, estimator=DecisionTreeRegressor(), n_iter=40,\n",
       "                   param_distributions={'max_depth': range(2, 30),\n",
       "                                        'min_samples_leaf': range(2, 30)},\n",
       "                   scoring='r2')"
      ]
     },
     "execution_count": 130,
     "metadata": {},
     "output_type": "execute_result"
    }
   ],
   "source": [
    "randsearch_dtr_long.fit(X_train, y_train)"
   ]
  },
  {
   "cell_type": "code",
   "execution_count": 131,
   "id": "54bb6f34-1c2c-4363-bf60-6bdb4f1f994c",
   "metadata": {},
   "outputs": [
    {
     "data": {
      "text/plain": [
       "{'min_samples_leaf': 2, 'max_depth': 27}"
      ]
     },
     "execution_count": 131,
     "metadata": {},
     "output_type": "execute_result"
    }
   ],
   "source": [
    "randsearch_dtr_long.best_params_"
   ]
  },
  {
   "cell_type": "markdown",
   "id": "c5999652-2e2f-4203-8f52-525ded37591f",
   "metadata": {},
   "source": [
    "## LATITUDE"
   ]
  },
  {
   "cell_type": "markdown",
   "id": "1c4ecb4b-86f5-47a9-a99e-3e152f84b86e",
   "metadata": {},
   "source": [
    "### Random Forest Regression"
   ]
  },
  {
   "cell_type": "code",
   "execution_count": 132,
   "id": "e2a6b999-5354-4b3e-8220-bcee04a4fa51",
   "metadata": {},
   "outputs": [],
   "source": [
    "from sklearn.ensemble import RandomForestRegressor"
   ]
  },
  {
   "cell_type": "code",
   "execution_count": 133,
   "id": "50e2a9d9-541a-4ab5-8437-4cf660372859",
   "metadata": {},
   "outputs": [],
   "source": [
    "y_train = td['LATITUDE']"
   ]
  },
  {
   "cell_type": "code",
   "execution_count": 134,
   "id": "a0abeb80-32af-4a2c-ae20-40d5fcccbe74",
   "metadata": {},
   "outputs": [],
   "source": [
    "param_distributions = {\"n_estimators\":range(2,30),\n",
    "                       \"max_features\":range(2,30),\n",
    "                        \"max_depth\":range(2,30)}"
   ]
  },
  {
   "cell_type": "code",
   "execution_count": 135,
   "id": "46b84883-3cad-447a-8ae9-748ce8d2d3b3",
   "metadata": {},
   "outputs": [],
   "source": [
    "rfr_lat = RandomForestRegressor()"
   ]
  },
  {
   "cell_type": "code",
   "execution_count": 136,
   "id": "39f702f1-0193-4971-a3b9-301da59a2248",
   "metadata": {},
   "outputs": [],
   "source": [
    "# cross validation\n",
    "\n",
    "randsearch_rfr_lat = RandomizedSearchCV(estimator=rfr_lat,\n",
    "                                      param_distributions=param_distributions,\n",
    "                                      n_iter=40,\n",
    "                                      scoring=\"r2\",\n",
    "                                      cv=10)"
   ]
  },
  {
   "cell_type": "code",
   "execution_count": 137,
   "id": "f62f984a-8828-44f1-9f01-136eb4a380c5",
   "metadata": {},
   "outputs": [
    {
     "data": {
      "text/plain": [
       "RandomizedSearchCV(cv=10, estimator=RandomForestRegressor(), n_iter=40,\n",
       "                   param_distributions={'max_depth': range(2, 30),\n",
       "                                        'max_features': range(2, 30),\n",
       "                                        'n_estimators': range(2, 30)},\n",
       "                   scoring='r2')"
      ]
     },
     "execution_count": 137,
     "metadata": {},
     "output_type": "execute_result"
    }
   ],
   "source": [
    "randsearch_rfr_lat.fit(X_train, y_train)"
   ]
  },
  {
   "cell_type": "code",
   "execution_count": 138,
   "id": "bc802682-062d-4c73-8714-2f0a26415ab4",
   "metadata": {},
   "outputs": [
    {
     "data": {
      "text/plain": [
       "{'n_estimators': 15, 'max_features': 27, 'max_depth': 29}"
      ]
     },
     "execution_count": 138,
     "metadata": {},
     "output_type": "execute_result"
    }
   ],
   "source": [
    "randsearch_rfr_lat.best_params_"
   ]
  },
  {
   "cell_type": "markdown",
   "id": "862ff7ac-c75d-4fa7-8d36-60de3626b9e0",
   "metadata": {},
   "source": [
    "### KNN Regression"
   ]
  },
  {
   "cell_type": "code",
   "execution_count": 139,
   "id": "d0809d0b-b5d2-4cfe-974d-36f501679adf",
   "metadata": {},
   "outputs": [],
   "source": [
    "from sklearn.neighbors import KNeighborsRegressor"
   ]
  },
  {
   "cell_type": "code",
   "execution_count": 140,
   "id": "96c05570-0ec6-4adc-91d3-cb50482c2bfc",
   "metadata": {},
   "outputs": [],
   "source": [
    "y_train = td['LATITUDE']"
   ]
  },
  {
   "cell_type": "code",
   "execution_count": 141,
   "id": "fb67fe97-84d2-4669-bbba-371f78dcf971",
   "metadata": {},
   "outputs": [],
   "source": [
    "knnr_lat = KNeighborsRegressor()"
   ]
  },
  {
   "cell_type": "code",
   "execution_count": 142,
   "id": "85711275-91df-4324-b858-62ae8c03b1d9",
   "metadata": {},
   "outputs": [],
   "source": [
    "param_distributions = {\"n_neighbors\":range(2,30),\n",
    "                      'weights':['uniform', 'distance']}"
   ]
  },
  {
   "cell_type": "code",
   "execution_count": 143,
   "id": "bc4420c5-067b-405a-9eee-ef4eeb1a3f1d",
   "metadata": {},
   "outputs": [],
   "source": [
    "# cross validation\n",
    "randsearch_knnr_lat = RandomizedSearchCV(estimator=knnr_lat,\n",
    "                                      param_distributions=param_distributions,\n",
    "                                      n_iter=40,\n",
    "                                      scoring=\"r2\",\n",
    "                                      cv=10)"
   ]
  },
  {
   "cell_type": "code",
   "execution_count": 144,
   "id": "0659e989-ca82-4970-8f84-a0b6ae4f295f",
   "metadata": {},
   "outputs": [
    {
     "data": {
      "text/plain": [
       "RandomizedSearchCV(cv=10, estimator=KNeighborsRegressor(), n_iter=40,\n",
       "                   param_distributions={'n_neighbors': range(2, 30),\n",
       "                                        'weights': ['uniform', 'distance']},\n",
       "                   scoring='r2')"
      ]
     },
     "execution_count": 144,
     "metadata": {},
     "output_type": "execute_result"
    }
   ],
   "source": [
    "randsearch_knnr_lat.fit(X_train, y_train)"
   ]
  },
  {
   "cell_type": "code",
   "execution_count": 145,
   "id": "2394ab0e-c01b-413b-9eac-3f136da587ae",
   "metadata": {},
   "outputs": [
    {
     "data": {
      "text/plain": [
       "{'weights': 'uniform', 'n_neighbors': 2}"
      ]
     },
     "execution_count": 145,
     "metadata": {},
     "output_type": "execute_result"
    }
   ],
   "source": [
    "randsearch_knnr_lat.best_params_"
   ]
  },
  {
   "cell_type": "markdown",
   "id": "10e02ddd-5186-4609-871b-8bd29cb88e7f",
   "metadata": {},
   "source": [
    "### Decision tree regression"
   ]
  },
  {
   "cell_type": "code",
   "execution_count": 161,
   "id": "389ead90-879e-4d50-866a-8d0589e8f3ac",
   "metadata": {},
   "outputs": [],
   "source": [
    "from sklearn.tree import DecisionTreeRegressor"
   ]
  },
  {
   "cell_type": "code",
   "execution_count": 162,
   "id": "e02e47cf-189f-4011-a5cd-fe2afd2e23a8",
   "metadata": {},
   "outputs": [],
   "source": [
    "y_train = td['LATITUDE']"
   ]
  },
  {
   "cell_type": "code",
   "execution_count": 163,
   "id": "85f0ecff-78a3-45cf-959f-cb80bd974b07",
   "metadata": {},
   "outputs": [],
   "source": [
    "dtr_lat = DecisionTreeRegressor()"
   ]
  },
  {
   "cell_type": "code",
   "execution_count": 154,
   "id": "33849a0e-e4e8-4121-9bd1-c7e10687ae47",
   "metadata": {},
   "outputs": [],
   "source": [
    "param_distributions = {\"max_depth\":range(2,50),\n",
    "                      'min_samples_leaf':range(2,30)}"
   ]
  },
  {
   "cell_type": "code",
   "execution_count": 164,
   "id": "fe958751-1304-40dd-8a17-110de5fb8291",
   "metadata": {},
   "outputs": [],
   "source": [
    "# cross validation\n",
    "randsearch_dtr_lat = RandomizedSearchCV(estimator=dtr_lat,\n",
    "                                      param_distributions=param_distributions,\n",
    "                                      n_iter=50,\n",
    "                                      scoring=\"r2\",\n",
    "                                      cv=10)"
   ]
  },
  {
   "cell_type": "code",
   "execution_count": 165,
   "id": "b64e2377-0c52-4e6f-bd43-422c79ac9cac",
   "metadata": {},
   "outputs": [
    {
     "data": {
      "text/plain": [
       "RandomizedSearchCV(cv=10, estimator=DecisionTreeRegressor(), n_iter=50,\n",
       "                   param_distributions={'max_depth': range(2, 30),\n",
       "                                        'min_samples_leaf': range(2, 30)},\n",
       "                   scoring='r2')"
      ]
     },
     "execution_count": 165,
     "metadata": {},
     "output_type": "execute_result"
    }
   ],
   "source": [
    "randsearch_dtr_lat.fit(X_train, y_train)"
   ]
  },
  {
   "cell_type": "code",
   "execution_count": 166,
   "id": "a5fd527a-a7b9-4085-8e24-0af0d3f9820b",
   "metadata": {},
   "outputs": [
    {
     "data": {
      "text/plain": [
       "{'min_samples_leaf': 2, 'max_depth': 25}"
      ]
     },
     "execution_count": 166,
     "metadata": {},
     "output_type": "execute_result"
    }
   ],
   "source": [
    "randsearch_dtr_lat.best_params_"
   ]
  },
  {
   "cell_type": "markdown",
   "id": "bc557548-b2cc-481f-ac86-223d4a559591",
   "metadata": {
    "tags": []
   },
   "source": [
    "# Cross validation - categorical"
   ]
  },
  {
   "cell_type": "markdown",
   "id": "2c8b5f04-de97-4249-be75-ba302ac9cbff",
   "metadata": {},
   "source": [
    "## get all features for X_train indexes"
   ]
  },
  {
   "cell_type": "code",
   "execution_count": 167,
   "id": "9bd2bc44-08d3-4681-a4db-c7c114ec1a9a",
   "metadata": {},
   "outputs": [],
   "source": [
    "td = trainingData.loc[list(X_train.index),:]"
   ]
  },
  {
   "cell_type": "markdown",
   "id": "1f106ff7-96c4-4e5a-b674-0e84f4a1b20d",
   "metadata": {},
   "source": [
    "## SELECT target"
   ]
  },
  {
   "cell_type": "code",
   "execution_count": 168,
   "id": "dca5eb2d-e152-4ca5-ad8e-dae791c2daab",
   "metadata": {},
   "outputs": [],
   "source": [
    "# 'building_floor':\n",
    "# 'building_floor_spaceid': not used\n",
    "# 'spaceid'\n",
    "# 'longitude'\n",
    "# 'building'\n",
    "# 'floor'\n",
    "target = 'building_floor'"
   ]
  },
  {
   "cell_type": "markdown",
   "id": "b1dd2766-2e4c-4a8a-a7b7-8f6510583a23",
   "metadata": {},
   "source": [
    "## y - target"
   ]
  },
  {
   "cell_type": "code",
   "execution_count": 169,
   "id": "c5321235-24cd-438e-aa8b-fe577fc88fa3",
   "metadata": {},
   "outputs": [],
   "source": [
    "# select target and conditions\n",
    "\n",
    "if target == 'building_floor':\n",
    "    #BUILDING, FLOOR\n",
    "    y_train = td['BUILDINGID']*10 + td['FLOOR'] \n",
    "#     y_test = vd['BUILDINGID']*10 + vd['FLOOR'] \n",
    "    \n",
    "elif  target == 'building_floor_spaceid':\n",
    "    # BUILDING, FLOOR, SPACEID\n",
    "    y_train = td['BUILDINGID']*10000 + td['FLOOR']*1000 + td['SPACEID']\n",
    "#     y_test = vd['BUILDINGID']*10000 + vd['FLOOR']*1000 + vd['SPACEID']\n",
    "    \n",
    "elif target == 'spaceid':\n",
    "    # SPACEID\n",
    "    y_train = td['SPACEID']\n",
    "#     y_test = vd['SPACEID']\n",
    "    \n",
    "elif target == 'floor':\n",
    "    # SPACEID\n",
    "    y_train = td['FLOOR']\n",
    "#     y_test = vd['FLOOR']\n",
    "    \n",
    "elif target == 'building':\n",
    "    y_train = td['BUILDINGID']\n",
    "#     y_test = vd['BUILDINGID']   "
   ]
  },
  {
   "cell_type": "markdown",
   "id": "de210a39-45cf-4ef8-bf66-03c7ee01b96d",
   "metadata": {},
   "source": [
    "## Decision tree"
   ]
  },
  {
   "cell_type": "code",
   "execution_count": 222,
   "id": "63ef34e3-4ef6-4414-be66-b782b15eef3d",
   "metadata": {},
   "outputs": [],
   "source": [
    "from sklearn.tree import DecisionTreeClassifier"
   ]
  },
  {
   "cell_type": "code",
   "execution_count": 223,
   "id": "61df793e-6c12-4d09-ae37-021a526b13fd",
   "metadata": {},
   "outputs": [],
   "source": [
    "dtree = DecisionTreeClassifier()"
   ]
  },
  {
   "cell_type": "code",
   "execution_count": 224,
   "id": "b7044b37-285c-4520-b0c2-995e783bc81d",
   "metadata": {},
   "outputs": [],
   "source": [
    "param_distributions = {\"max_depth\":range(2,50),\n",
    "                      'min_samples_leaf':range(2,30)}"
   ]
  },
  {
   "cell_type": "code",
   "execution_count": 225,
   "id": "604c0dbb-ce03-407d-a0f7-2e678d14b41c",
   "metadata": {},
   "outputs": [],
   "source": [
    "# cross validation\n",
    "randsearch_dt = RandomizedSearchCV(estimator=dtree,\n",
    "                                      param_distributions=param_distributions,\n",
    "                                      n_iter=40,\n",
    "                                      scoring=\"r2\",\n",
    "                                      cv=10)"
   ]
  },
  {
   "cell_type": "code",
   "execution_count": 226,
   "id": "533d937f-f4ac-4923-836d-b89e00f113db",
   "metadata": {},
   "outputs": [
    {
     "data": {
      "text/plain": [
       "RandomizedSearchCV(cv=10, estimator=DecisionTreeClassifier(), n_iter=40,\n",
       "                   param_distributions={'max_depth': range(2, 50),\n",
       "                                        'min_samples_leaf': range(2, 30)},\n",
       "                   scoring='r2')"
      ]
     },
     "execution_count": 226,
     "metadata": {},
     "output_type": "execute_result"
    }
   ],
   "source": [
    "randsearch_dt.fit(X_train, y_train)"
   ]
  },
  {
   "cell_type": "code",
   "execution_count": 227,
   "id": "8acb58b8-033c-46ef-9292-7e0896613dda",
   "metadata": {},
   "outputs": [
    {
     "data": {
      "text/plain": [
       "{'min_samples_leaf': 13, 'max_depth': 45}"
      ]
     },
     "execution_count": 227,
     "metadata": {},
     "output_type": "execute_result"
    }
   ],
   "source": [
    "randsearch_dt.best_params_"
   ]
  },
  {
   "cell_type": "markdown",
   "id": "1ab24d45-856b-4665-b0c4-2856ac61e870",
   "metadata": {},
   "source": [
    "## Knearest neighbors"
   ]
  },
  {
   "cell_type": "code",
   "execution_count": 176,
   "id": "86230873-191c-4df4-a1a1-761a5e0feccb",
   "metadata": {},
   "outputs": [],
   "source": [
    "from sklearn.neighbors import KNeighborsClassifier"
   ]
  },
  {
   "cell_type": "code",
   "execution_count": 177,
   "id": "06b5f48f-d397-4324-a700-0c8f0f6d6de2",
   "metadata": {},
   "outputs": [],
   "source": [
    "knn = KNeighborsClassifier()"
   ]
  },
  {
   "cell_type": "code",
   "execution_count": 178,
   "id": "abe19404-1971-4d6b-a76a-be2d31b87adc",
   "metadata": {},
   "outputs": [],
   "source": [
    "param_distributions = {\"n_neighbors\":range(2,30),\n",
    "                      'weights':['uniform', 'distance']}"
   ]
  },
  {
   "cell_type": "code",
   "execution_count": 179,
   "id": "fecd4544-8cd7-4df4-a94b-5f18e141454b",
   "metadata": {},
   "outputs": [],
   "source": [
    "# cross validation\n",
    "randsearch_knn = RandomizedSearchCV(estimator=knn,\n",
    "                                      param_distributions=param_distributions,\n",
    "                                      n_iter=40,\n",
    "                                      scoring=\"r2\",\n",
    "                                      cv=10)"
   ]
  },
  {
   "cell_type": "code",
   "execution_count": 180,
   "id": "ba33907b-ddbf-459f-ba7d-363deb395110",
   "metadata": {},
   "outputs": [
    {
     "data": {
      "text/plain": [
       "RandomizedSearchCV(cv=10, estimator=KNeighborsClassifier(), n_iter=40,\n",
       "                   param_distributions={'n_neighbors': range(2, 30),\n",
       "                                        'weights': ['uniform', 'distance']},\n",
       "                   scoring='r2')"
      ]
     },
     "execution_count": 180,
     "metadata": {},
     "output_type": "execute_result"
    }
   ],
   "source": [
    "randsearch_knn.fit(X_train, y_train)"
   ]
  },
  {
   "cell_type": "code",
   "execution_count": 181,
   "id": "b064747f-f7e9-4aa9-94a1-08052d939f51",
   "metadata": {},
   "outputs": [
    {
     "data": {
      "text/plain": [
       "{'weights': 'distance', 'n_neighbors': 4}"
      ]
     },
     "execution_count": 181,
     "metadata": {},
     "output_type": "execute_result"
    }
   ],
   "source": [
    "randsearch_knn.best_params_"
   ]
  },
  {
   "cell_type": "markdown",
   "id": "22cc839f-c019-4830-8e62-e295269181a2",
   "metadata": {},
   "source": [
    "## Logistic regression"
   ]
  },
  {
   "cell_type": "markdown",
   "id": "c0cfa002-66d6-4043-adc1-ed62c16bdeb9",
   "metadata": {},
   "source": [
    "No tuning needed"
   ]
  },
  {
   "cell_type": "markdown",
   "id": "ccd40d92-a920-4484-8b9a-c7e24b8e5097",
   "metadata": {},
   "source": [
    "## Random forest"
   ]
  },
  {
   "cell_type": "code",
   "execution_count": 194,
   "id": "70668ef8-ff13-4cd1-b5a7-98d920dec570",
   "metadata": {},
   "outputs": [],
   "source": [
    "from sklearn.ensemble import RandomForestClassifier"
   ]
  },
  {
   "cell_type": "code",
   "execution_count": 195,
   "id": "75075a65-bde6-48f2-895b-c38c449292e8",
   "metadata": {},
   "outputs": [],
   "source": [
    "rforest = RandomForestClassifier()"
   ]
  },
  {
   "cell_type": "code",
   "execution_count": 196,
   "id": "3e2a3512-4ed4-4567-a37b-8df1e571e0c4",
   "metadata": {},
   "outputs": [],
   "source": [
    "param_distributions = {\"n_estimators\":range(2,30),\n",
    "                       \"max_features\":range(2,30),\n",
    "                        \"max_depth\":range(2,30)}"
   ]
  },
  {
   "cell_type": "code",
   "execution_count": 197,
   "id": "54a86688-8db5-4886-a63f-28b02093df3b",
   "metadata": {},
   "outputs": [],
   "source": [
    "# cross validation\n",
    "randsearch_rforest = RandomizedSearchCV(estimator=rforest,\n",
    "                                      param_distributions=param_distributions,\n",
    "                                      n_iter=40,\n",
    "                                      scoring=\"r2\",\n",
    "                                      cv=10)"
   ]
  },
  {
   "cell_type": "code",
   "execution_count": 198,
   "id": "c39ee256-1d29-481b-9e6d-4ff90ad2ec8e",
   "metadata": {},
   "outputs": [
    {
     "data": {
      "text/plain": [
       "RandomizedSearchCV(cv=10, estimator=RandomForestClassifier(), n_iter=40,\n",
       "                   param_distributions={'max_depth': range(2, 30),\n",
       "                                        'max_features': range(2, 30),\n",
       "                                        'n_estimators': range(2, 30)},\n",
       "                   scoring='r2')"
      ]
     },
     "execution_count": 198,
     "metadata": {},
     "output_type": "execute_result"
    }
   ],
   "source": [
    "randsearch_rforest.fit(X_train, y_train)"
   ]
  },
  {
   "cell_type": "code",
   "execution_count": 199,
   "id": "f201f323-f2f5-4a51-8227-084946de4291",
   "metadata": {},
   "outputs": [
    {
     "data": {
      "text/plain": [
       "{'n_estimators': 19, 'max_features': 8, 'max_depth': 26}"
      ]
     },
     "execution_count": 199,
     "metadata": {},
     "output_type": "execute_result"
    }
   ],
   "source": [
    "randsearch_rforest.best_params_"
   ]
  },
  {
   "cell_type": "markdown",
   "id": "764237e3-69bc-4abe-85f6-67b83faa971b",
   "metadata": {},
   "source": [
    "## Support Vector Machine"
   ]
  },
  {
   "cell_type": "markdown",
   "id": "a62e16cb-97f8-484f-b4da-27a5b9ed58bb",
   "metadata": {},
   "source": [
    "Performs slow with big number of categories (for example building-floor)"
   ]
  },
  {
   "cell_type": "code",
   "execution_count": 236,
   "id": "2272129e-a13e-4d60-9051-a8e0bc7286a3",
   "metadata": {},
   "outputs": [],
   "source": [
    "from sklearn.svm import SVC"
   ]
  },
  {
   "cell_type": "code",
   "execution_count": 237,
   "id": "971ed152-6f8d-4a22-a61e-1362b1d2de89",
   "metadata": {},
   "outputs": [],
   "source": [
    "svm = SVC()"
   ]
  },
  {
   "cell_type": "code",
   "execution_count": 238,
   "id": "81752e60-58ed-428c-b243-7be053b6901e",
   "metadata": {},
   "outputs": [],
   "source": [
    "param_distributions = {\n",
    "                        \"kernel\":['linear', 'rbf']}"
   ]
  },
  {
   "cell_type": "code",
   "execution_count": 239,
   "id": "78c93b22-4079-4bb8-880e-b8f135142cf5",
   "metadata": {},
   "outputs": [],
   "source": [
    "# cross validation\n",
    "randsearch_svm = RandomizedSearchCV(estimator=svm,\n",
    "                                      param_distributions=param_distributions,\n",
    "                                      n_iter=2,\n",
    "                                      scoring=\"r2\",\n",
    "                                      cv=5)"
   ]
  },
  {
   "cell_type": "code",
   "execution_count": 240,
   "id": "3a7888c9-15d4-4b41-ae1c-114868f28ec0",
   "metadata": {},
   "outputs": [
    {
     "data": {
      "text/plain": [
       "RandomizedSearchCV(cv=5, estimator=SVC(), n_iter=2,\n",
       "                   param_distributions={'kernel': ['linear', 'rbf']},\n",
       "                   scoring='r2')"
      ]
     },
     "execution_count": 240,
     "metadata": {},
     "output_type": "execute_result"
    }
   ],
   "source": [
    "randsearch_svm.fit(X_train, y_train)"
   ]
  },
  {
   "cell_type": "code",
   "execution_count": 241,
   "id": "f149c7a4-f914-4578-abaa-d776c1441deb",
   "metadata": {},
   "outputs": [
    {
     "data": {
      "text/plain": [
       "{'kernel': 'rbf'}"
      ]
     },
     "execution_count": 241,
     "metadata": {},
     "output_type": "execute_result"
    }
   ],
   "source": [
    "randsearch_svm.best_params_"
   ]
  }
 ],
 "metadata": {
  "kernelspec": {
   "display_name": "Python 3",
   "language": "python",
   "name": "python3"
  },
  "language_info": {
   "codemirror_mode": {
    "name": "ipython",
    "version": 3
   },
   "file_extension": ".py",
   "mimetype": "text/x-python",
   "name": "python",
   "nbconvert_exporter": "python",
   "pygments_lexer": "ipython3",
   "version": "3.8.8"
  }
 },
 "nbformat": 4,
 "nbformat_minor": 5
}
