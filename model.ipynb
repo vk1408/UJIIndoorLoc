{
 "cells": [
  {
   "cell_type": "markdown",
   "id": "85aaefe3-0428-41b9-9914-cb20f23a04e3",
   "metadata": {},
   "source": [
    "# Import libraries"
   ]
  },
  {
   "cell_type": "code",
   "execution_count": 1,
   "id": "36f97667-9d98-4a8d-94c5-22084208f172",
   "metadata": {},
   "outputs": [],
   "source": [
    "import pandas as pd"
   ]
  },
  {
   "cell_type": "code",
   "execution_count": 2,
   "id": "d51ae2d9-d1a9-4f7d-8744-491a65abf11f",
   "metadata": {},
   "outputs": [],
   "source": [
    "import numpy as np"
   ]
  },
  {
   "cell_type": "code",
   "execution_count": 3,
   "id": "fcf94142-fc55-4e25-bad6-a8b7951c0e69",
   "metadata": {},
   "outputs": [],
   "source": [
    "import matplotlib.pyplot as plt"
   ]
  },
  {
   "cell_type": "code",
   "execution_count": 4,
   "id": "7e93fbec-9951-4dfc-b733-acccbe6cf396",
   "metadata": {},
   "outputs": [],
   "source": [
    "import seaborn as sns"
   ]
  },
  {
   "cell_type": "code",
   "execution_count": 5,
   "id": "db156975-f014-4bb5-9789-6454808764f5",
   "metadata": {},
   "outputs": [],
   "source": [
    "import mllib"
   ]
  },
  {
   "cell_type": "markdown",
   "id": "0107c940-b702-44a6-8087-59c147da8606",
   "metadata": {},
   "source": [
    "# Import dataset"
   ]
  },
  {
   "cell_type": "markdown",
   "id": "2132bf2a-29f7-440d-8b84-edc9ce5dead2",
   "metadata": {},
   "source": [
    "Import and read dataset:"
   ]
  },
  {
   "cell_type": "code",
   "execution_count": 6,
   "id": "0c68eb45-0e92-436d-b390-84df00254a53",
   "metadata": {},
   "outputs": [],
   "source": [
    "trainingData = pd.read_csv('csv/cleaned/trainingData_clean.csv',index_col=0)"
   ]
  },
  {
   "cell_type": "code",
   "execution_count": 7,
   "id": "7cb3c6d3-bf43-4652-812c-4fec619c5d5b",
   "metadata": {},
   "outputs": [],
   "source": [
    "validationData = pd.read_csv('csv/validationData.csv')"
   ]
  },
  {
   "cell_type": "code",
   "execution_count": 8,
   "id": "07f29c16-9807-4636-a911-155e7af98ad3",
   "metadata": {},
   "outputs": [],
   "source": [
    "X_train = pd.read_csv('csv/transformed/X_train.csv',index_col=0)"
   ]
  },
  {
   "cell_type": "code",
   "execution_count": 9,
   "id": "a9cb5625-bf3f-4bd2-9ec6-6cfaf255a191",
   "metadata": {},
   "outputs": [],
   "source": [
    "X_test = pd.read_csv('csv/transformed/X_test.csv',index_col=0)"
   ]
  },
  {
   "cell_type": "code",
   "execution_count": 10,
   "id": "110ee0fb-7117-4c37-a8ed-463cdfc8880b",
   "metadata": {},
   "outputs": [],
   "source": [
    "X_val = pd.read_csv('csv/transformed/X_val.csv',index_col=0)"
   ]
  },
  {
   "cell_type": "markdown",
   "id": "081f9347-7f82-4da0-a492-b0b39015d3ec",
   "metadata": {},
   "source": [
    "# Predict building_floor"
   ]
  },
  {
   "cell_type": "markdown",
   "id": "c1104c38-cf8a-452b-9073-a81f3e78785b",
   "metadata": {},
   "source": [
    "## Create new feature"
   ]
  },
  {
   "cell_type": "markdown",
   "id": "d41e87a5-8e2a-4644-bcea-a3eaf3538ecd",
   "metadata": {},
   "source": [
    "To predict building and floor lets define a unique number, that has  building and floor in it:"
   ]
  },
  {
   "cell_type": "code",
   "execution_count": 11,
   "id": "13acf39b-308d-4203-8273-736625f5ef52",
   "metadata": {},
   "outputs": [],
   "source": [
    "trainingData['building_floor'] = trainingData['BUILDINGID']*10 + trainingData['FLOOR']"
   ]
  },
  {
   "cell_type": "code",
   "execution_count": 12,
   "id": "1742306d-e909-49d4-b87c-76e8392dff72",
   "metadata": {},
   "outputs": [],
   "source": [
    "validationData['building_floor'] = validationData['BUILDINGID']*10 + validationData['FLOOR']"
   ]
  },
  {
   "cell_type": "markdown",
   "id": "86e73ce3-1f9d-45d7-87e4-742c4d98a956",
   "metadata": {},
   "source": [
    "For example: 23 is building 2, floor 3"
   ]
  },
  {
   "cell_type": "markdown",
   "id": "0532fb29-bb0b-4059-88d9-5e29142f9e0c",
   "metadata": {},
   "source": [
    "## Define target"
   ]
  },
  {
   "cell_type": "code",
   "execution_count": 13,
   "id": "5de3273f-45e3-4841-8638-634f09b7e9aa",
   "metadata": {},
   "outputs": [],
   "source": [
    "y_train = list(trainingData.loc[X_train.index,['building_floor']]['building_floor'])"
   ]
  },
  {
   "cell_type": "code",
   "execution_count": 14,
   "id": "07ec68d0-e951-48ea-b311-c2204e1fe210",
   "metadata": {},
   "outputs": [],
   "source": [
    "y_test = list(trainingData.loc[X_test.index,['building_floor']]['building_floor'])"
   ]
  },
  {
   "cell_type": "code",
   "execution_count": 15,
   "id": "ac4b943f-067a-4784-9221-4240d5c9e8b2",
   "metadata": {},
   "outputs": [],
   "source": [
    "y_val = list(validationData.loc[X_val.index,['building_floor']]['building_floor'])"
   ]
  },
  {
   "cell_type": "markdown",
   "id": "138ed0f6-6b6d-4623-8502-34c4224a0239",
   "metadata": {},
   "source": [
    "## Decision tree"
   ]
  },
  {
   "cell_type": "code",
   "execution_count": 16,
   "id": "4d3c493d-9352-46ba-8c15-3180b421c9d5",
   "metadata": {},
   "outputs": [],
   "source": [
    "# collect accuracy of models\n",
    "accuracy_train = {}\n",
    "accuracy_test = {}\n",
    "accuracy_val = {}"
   ]
  },
  {
   "cell_type": "code",
   "execution_count": 17,
   "id": "e698e60d-99e4-4c26-8657-98bf0dea085d",
   "metadata": {},
   "outputs": [],
   "source": [
    "from sklearn.tree import DecisionTreeClassifier"
   ]
  },
  {
   "cell_type": "code",
   "execution_count": 18,
   "id": "9dc29bea-4b9c-496e-9f36-fd8f2d1ae5ec",
   "metadata": {},
   "outputs": [
    {
     "data": {
      "text/plain": [
       "DecisionTreeClassifier(max_depth=50, random_state=42)"
      ]
     },
     "execution_count": 18,
     "metadata": {},
     "output_type": "execute_result"
    }
   ],
   "source": [
    "tree = DecisionTreeClassifier(max_depth=50, random_state=42)\n",
    "tree.fit(X_train, y_train)"
   ]
  },
  {
   "cell_type": "code",
   "execution_count": 19,
   "id": "6c2d5717-2c8b-41a9-8bdc-c3c05fe0d46d",
   "metadata": {},
   "outputs": [
    {
     "data": {
      "text/plain": [
       "<AxesSubplot:>"
      ]
     },
     "execution_count": 19,
     "metadata": {},
     "output_type": "execute_result"
    },
    {
     "data": {
      "image/png": "[encoded data removed]",
      "text/plain": [
       "<Figure size 432x288 with 2 Axes>"
      ]
     },
     "metadata": {
      "needs_background": "light"
     },
     "output_type": "display_data"
    }
   ],
   "source": [
    "# train\n",
    "acc_scor = mllib.model_check(y_train, tree.predict(X_train), tree)\n",
    "accuracy_train['DT'] = acc_scor\n",
    "sns.heatmap(mllib.model_check(y_train, \n",
    "                              tree.predict(X_train), \n",
    "                              tree, \n",
    "                              output ='cmatrix'),\n",
    "           cmap='rocket_r')"
   ]
  },
  {
   "cell_type": "code",
   "execution_count": 20,
   "id": "b731cb1d-0144-4265-bd36-95272b839c81",
   "metadata": {},
   "outputs": [
    {
     "data": {
      "text/plain": [
       "<AxesSubplot:>"
      ]
     },
     "execution_count": 20,
     "metadata": {},
     "output_type": "execute_result"
    },
    {
     "data": {
      "image/png": "[encoded data removed]",
      "text/plain": [
       "<Figure size 432x288 with 2 Axes>"
      ]
     },
     "metadata": {
      "needs_background": "light"
     },
     "output_type": "display_data"
    }
   ],
   "source": [
    "# test\n",
    "acc_scor = mllib.model_check(y_test, tree.predict(X_test), tree)\n",
    "accuracy_test['DT'] = acc_scor\n",
    "sns.heatmap(mllib.model_check(y_test, \n",
    "                              tree.predict(X_test), \n",
    "                              tree, \n",
    "                              output ='cmatrix'),\n",
    "           cmap='rocket_r')"
   ]
  },
  {
   "cell_type": "code",
   "execution_count": 21,
   "id": "0bb4b4c6-75d3-4884-8e65-383552f60017",
   "metadata": {},
   "outputs": [
    {
     "data": {
      "text/plain": [
       "<AxesSubplot:>"
      ]
     },
     "execution_count": 21,
     "metadata": {},
     "output_type": "execute_result"
    },
    {
     "data": {
      "image/png": "[encoded data removed]",
      "text/plain": [
       "<Figure size 432x288 with 2 Axes>"
      ]
     },
     "metadata": {
      "needs_background": "light"
     },
     "output_type": "display_data"
    }
   ],
   "source": [
    "# val\n",
    "acc_scor = mllib.model_check(y_val, tree.predict(X_val), tree)\n",
    "accuracy_val['DT'] = acc_scor\n",
    "mllib.model_check(y_val, tree.predict(X_val), tree, output ='cmatrix')\n",
    "sns.heatmap(mllib.model_check(y_val, \n",
    "                              tree.predict(X_val), \n",
    "                              tree, \n",
    "                              output ='cmatrix'),\n",
    "           cmap='rocket_r')"
   ]
  },
  {
   "cell_type": "markdown",
   "id": "3e6326da-c59f-4ca2-9732-aa9284f270cc",
   "metadata": {},
   "source": [
    "## Knearest neighbors"
   ]
  },
  {
   "cell_type": "code",
   "execution_count": 22,
   "id": "a74eaaf9-c82b-4892-8002-54904e29e9d6",
   "metadata": {},
   "outputs": [
    {
     "data": {
      "text/plain": [
       "KNeighborsClassifier(n_neighbors=3, weights='distance')"
      ]
     },
     "execution_count": 22,
     "metadata": {},
     "output_type": "execute_result"
    }
   ],
   "source": [
    "from sklearn.neighbors import KNeighborsClassifier\n",
    "knn = KNeighborsClassifier(n_neighbors=3,weights='distance')\n",
    "knn.fit(X_train, y_train)"
   ]
  },
  {
   "cell_type": "code",
   "execution_count": 23,
   "id": "07c53597-9930-4ccc-a218-bf222e3ccefa",
   "metadata": {
    "tags": []
   },
   "outputs": [
    {
     "data": {
      "text/plain": [
       "<AxesSubplot:>"
      ]
     },
     "execution_count": 23,
     "metadata": {},
     "output_type": "execute_result"
    },
    {
     "data": {
      "image/png": "[encoded data removed]",
      "text/plain": [
       "<Figure size 432x288 with 2 Axes>"
      ]
     },
     "metadata": {
      "needs_background": "light"
     },
     "output_type": "display_data"
    }
   ],
   "source": [
    "# train \n",
    "acc_scor = mllib.model_check(y_train, knn.predict(X_train), knn)\n",
    "accuracy_train['KNN'] = acc_scor\n",
    "sns.heatmap(mllib.model_check(y_train, \n",
    "                              knn.predict(X_train), \n",
    "                              knn, \n",
    "                              output ='cmatrix'),\n",
    "           cmap='rocket_r')"
   ]
  },
  {
   "cell_type": "code",
   "execution_count": 24,
   "id": "022534ad-aec5-4d98-97e1-533313539bd8",
   "metadata": {},
   "outputs": [
    {
     "data": {
      "text/plain": [
       "<AxesSubplot:>"
      ]
     },
     "execution_count": 24,
     "metadata": {},
     "output_type": "execute_result"
    },
    {
     "data": {
      "image/png": "[encoded data removed]",
      "text/plain": [
       "<Figure size 432x288 with 2 Axes>"
      ]
     },
     "metadata": {
      "needs_background": "light"
     },
     "output_type": "display_data"
    }
   ],
   "source": [
    "# test\n",
    "acc_scor = mllib.model_check(y_test, knn.predict(X_test), knn)\n",
    "accuracy_test['KNN'] = acc_scor\n",
    "sns.heatmap(mllib.model_check(y_test, \n",
    "                              knn.predict(X_test), \n",
    "                              knn, \n",
    "                              output ='cmatrix'),\n",
    "           cmap='rocket_r')"
   ]
  },
  {
   "cell_type": "code",
   "execution_count": 25,
   "id": "d5592ed3-19b0-439f-b089-573a54a24bb0",
   "metadata": {},
   "outputs": [
    {
     "data": {
      "text/plain": [
       "<AxesSubplot:>"
      ]
     },
     "execution_count": 25,
     "metadata": {},
     "output_type": "execute_result"
    },
    {
     "data": {
      "image/png": "[encoded data removed]",
      "text/plain": [
       "<Figure size 432x288 with 2 Axes>"
      ]
     },
     "metadata": {
      "needs_background": "light"
     },
     "output_type": "display_data"
    }
   ],
   "source": [
    "# val\n",
    "acc_scor = mllib.model_check(y_val, knn.predict(X_val), knn)\n",
    "accuracy_val['KNN'] = acc_scor\n",
    "sns.heatmap(mllib.model_check(y_val, \n",
    "                              knn.predict(X_val), \n",
    "                              knn, \n",
    "                              output ='cmatrix'),\n",
    "           cmap='rocket_r')"
   ]
  },
  {
   "cell_type": "markdown",
   "id": "58a82e1a-761c-4913-80ce-519862920bc3",
   "metadata": {},
   "source": [
    "## Logistic regression"
   ]
  },
  {
   "cell_type": "markdown",
   "id": "7c107f70-f8bd-406c-8be6-ef5385537a93",
   "metadata": {},
   "source": [
    "Performs slow with big number of categories (for example building-floor)"
   ]
  },
  {
   "cell_type": "code",
   "execution_count": 26,
   "id": "2dbd9656-d919-4a50-a484-3f55f39d9606",
   "metadata": {
    "tags": []
   },
   "outputs": [
    {
     "data": {
      "text/plain": [
       "LogisticRegression(max_iter=1000)"
      ]
     },
     "execution_count": 26,
     "metadata": {},
     "output_type": "execute_result"
    }
   ],
   "source": [
    "from sklearn.linear_model import LogisticRegression\n",
    "lg = LogisticRegression(max_iter=1000)\n",
    "lg.fit(X_train, y_train)"
   ]
  },
  {
   "cell_type": "code",
   "execution_count": 27,
   "id": "cf2cd22f-08cb-4493-b89d-d43836af861f",
   "metadata": {},
   "outputs": [
    {
     "data": {
      "text/plain": [
       "<AxesSubplot:>"
      ]
     },
     "execution_count": 27,
     "metadata": {},
     "output_type": "execute_result"
    },
    {
     "data": {
      "image/png": "[encoded data removed]",
      "text/plain": [
       "<Figure size 432x288 with 2 Axes>"
      ]
     },
     "metadata": {
      "needs_background": "light"
     },
     "output_type": "display_data"
    }
   ],
   "source": [
    "# train\n",
    "acc_scor = mllib.model_check(y_train, lg.predict(X_train), lg)\n",
    "accuracy_train['LR'] = acc_scor\n",
    "sns.heatmap(mllib.model_check(y_train, \n",
    "                              lg.predict(X_train), \n",
    "                              lg, \n",
    "                              output ='cmatrix'),\n",
    "           cmap='rocket_r')"
   ]
  },
  {
   "cell_type": "code",
   "execution_count": 28,
   "id": "39e7117f-b42a-4f25-82f9-334244ce6654",
   "metadata": {},
   "outputs": [
    {
     "data": {
      "text/plain": [
       "<AxesSubplot:>"
      ]
     },
     "execution_count": 28,
     "metadata": {},
     "output_type": "execute_result"
    },
    {
     "data": {
      "image/png": "[encoded data removed]",
      "text/plain": [
       "<Figure size 432x288 with 2 Axes>"
      ]
     },
     "metadata": {
      "needs_background": "light"
     },
     "output_type": "display_data"
    }
   ],
   "source": [
    "# test\n",
    "acc_scor = mllib.model_check(y_test, lg.predict(X_test), lg)\n",
    "accuracy_test['LR'] = acc_scor\n",
    "sns.heatmap(mllib.model_check(y_test, \n",
    "                              lg.predict(X_test), \n",
    "                              lg, \n",
    "                              output ='cmatrix'),\n",
    "           cmap='rocket_r')"
   ]
  },
  {
   "cell_type": "code",
   "execution_count": 29,
   "id": "f4d7bc5e-9875-4349-bc35-3a242f8c16a6",
   "metadata": {},
   "outputs": [
    {
     "data": {
      "text/plain": [
       "<AxesSubplot:>"
      ]
     },
     "execution_count": 29,
     "metadata": {},
     "output_type": "execute_result"
    },
    {
     "data": {
      "image/png": "[encoded data removed]",
      "text/plain": [
       "<Figure size 432x288 with 2 Axes>"
      ]
     },
     "metadata": {
      "needs_background": "light"
     },
     "output_type": "display_data"
    }
   ],
   "source": [
    "# val\n",
    "acc_scor = mllib.model_check(y_val, lg.predict(X_val), lg)\n",
    "accuracy_val['LR'] = acc_scor\n",
    "sns.heatmap(mllib.model_check(y_val, \n",
    "                              lg.predict(X_val), \n",
    "                              lg, \n",
    "                              output ='cmatrix'),\n",
    "           cmap='rocket_r')"
   ]
  },
  {
   "cell_type": "markdown",
   "id": "8268a345-12ed-478b-9e67-8bb3f93015b6",
   "metadata": {},
   "source": [
    "## Random forest"
   ]
  },
  {
   "cell_type": "code",
   "execution_count": 30,
   "id": "51aa59c8-4b78-4360-9d72-c402c08a8882",
   "metadata": {},
   "outputs": [],
   "source": [
    "from sklearn.ensemble import RandomForestClassifier"
   ]
  },
  {
   "cell_type": "code",
   "execution_count": 31,
   "id": "73b1108b-53ea-49d2-bc69-2b33d094efe0",
   "metadata": {},
   "outputs": [
    {
     "data": {
      "text/plain": [
       "RandomForestClassifier(max_depth=30, random_state=42)"
      ]
     },
     "execution_count": 31,
     "metadata": {},
     "output_type": "execute_result"
    }
   ],
   "source": [
    "rf = RandomForestClassifier(n_estimators=100, max_depth=30, random_state=42)\n",
    "rf.fit(X_train, y_train)"
   ]
  },
  {
   "cell_type": "code",
   "execution_count": 32,
   "id": "31133048-e08e-4421-9e41-fa514ca67e54",
   "metadata": {
    "tags": []
   },
   "outputs": [
    {
     "data": {
      "text/plain": [
       "<AxesSubplot:>"
      ]
     },
     "execution_count": 32,
     "metadata": {},
     "output_type": "execute_result"
    },
    {
     "data": {
      "image/png": "[encoded data removed]",
      "text/plain": [
       "<Figure size 432x288 with 2 Axes>"
      ]
     },
     "metadata": {
      "needs_background": "light"
     },
     "output_type": "display_data"
    }
   ],
   "source": [
    "# train\n",
    "acc_scor = mllib.model_check(y_train, rf.predict(X_train), rf)\n",
    "accuracy_train['RF'] = acc_scor\n",
    "sns.heatmap(mllib.model_check(y_train, \n",
    "                              rf.predict(X_train), \n",
    "                              rf, \n",
    "                              output ='cmatrix'),\n",
    "           cmap='rocket_r')"
   ]
  },
  {
   "cell_type": "code",
   "execution_count": 33,
   "id": "b1550c8a-dd7a-4f43-b02a-5910948bb704",
   "metadata": {},
   "outputs": [
    {
     "data": {
      "text/plain": [
       "<AxesSubplot:>"
      ]
     },
     "execution_count": 33,
     "metadata": {},
     "output_type": "execute_result"
    },
    {
     "data": {
      "image/png": "[encoded data removed]",
      "text/plain": [
       "<Figure size 432x288 with 2 Axes>"
      ]
     },
     "metadata": {
      "needs_background": "light"
     },
     "output_type": "display_data"
    }
   ],
   "source": [
    "# test\n",
    "acc_scor = mllib.model_check(y_test, rf.predict(X_test), rf)\n",
    "accuracy_test['RF'] = acc_scor\n",
    "sns.heatmap(mllib.model_check(y_test, \n",
    "                              rf.predict(X_test), \n",
    "                              rf, \n",
    "                              output ='cmatrix'),\n",
    "           cmap='rocket_r')"
   ]
  },
  {
   "cell_type": "code",
   "execution_count": 34,
   "id": "9a65419c-447e-4a7c-929b-6b02ba46cfb4",
   "metadata": {},
   "outputs": [
    {
     "data": {
      "text/plain": [
       "<AxesSubplot:>"
      ]
     },
     "execution_count": 34,
     "metadata": {},
     "output_type": "execute_result"
    },
    {
     "data": {
      "image/png": "[encoded data removed]",
      "text/plain": [
       "<Figure size 432x288 with 2 Axes>"
      ]
     },
     "metadata": {
      "needs_background": "light"
     },
     "output_type": "display_data"
    }
   ],
   "source": [
    "# val\n",
    "acc_scor = mllib.model_check(y_val, rf.predict(X_val), rf)\n",
    "accuracy_val['RF'] = acc_scor\n",
    "sns.heatmap(mllib.model_check(y_val, \n",
    "                              rf.predict(X_val), \n",
    "                              rf, \n",
    "                              output ='cmatrix'),\n",
    "           cmap='rocket_r')"
   ]
  },
  {
   "cell_type": "markdown",
   "id": "cec8f0f8-7c82-425b-81f2-3590bb91ac96",
   "metadata": {},
   "source": [
    "## Support Vector Machine"
   ]
  },
  {
   "cell_type": "markdown",
   "id": "9353d160-eadf-499b-bc35-7c00d5dd596d",
   "metadata": {},
   "source": [
    "Performs slow with big number of categories (for example building-floor)"
   ]
  },
  {
   "cell_type": "code",
   "execution_count": 35,
   "id": "5466267b-76fd-4a8e-b459-0d98c1fe5d53",
   "metadata": {},
   "outputs": [],
   "source": [
    "from sklearn.svm import SVC"
   ]
  },
  {
   "cell_type": "code",
   "execution_count": 36,
   "id": "9c9bd187-0a95-40fd-9086-dfd58201daf0",
   "metadata": {},
   "outputs": [
    {
     "data": {
      "text/plain": [
       "SVC(probability=True)"
      ]
     },
     "execution_count": 36,
     "metadata": {},
     "output_type": "execute_result"
    }
   ],
   "source": [
    "svm = SVC(probability=True)\n",
    "svm.fit(X_train, y_train)"
   ]
  },
  {
   "cell_type": "code",
   "execution_count": 37,
   "id": "48580177-e5ff-4f2d-bd02-a4bb8026d32f",
   "metadata": {
    "tags": []
   },
   "outputs": [
    {
     "data": {
      "text/plain": [
       "<AxesSubplot:>"
      ]
     },
     "execution_count": 37,
     "metadata": {},
     "output_type": "execute_result"
    },
    {
     "data": {
      "image/png": "[encoded data removed]",
      "text/plain": [
       "<Figure size 432x288 with 2 Axes>"
      ]
     },
     "metadata": {
      "needs_background": "light"
     },
     "output_type": "display_data"
    }
   ],
   "source": [
    "# train\n",
    "acc_scor = mllib.model_check(y_train, svm.predict(X_train), svm)\n",
    "accuracy_train['SVM'] = acc_scor\n",
    "sns.heatmap(mllib.model_check(y_train, \n",
    "                              svm.predict(X_train), \n",
    "                              svm, \n",
    "                              output ='cmatrix'),\n",
    "           cmap='rocket_r')"
   ]
  },
  {
   "cell_type": "code",
   "execution_count": 38,
   "id": "0f434532-dc12-4b3b-b5df-1b7bbd766edc",
   "metadata": {},
   "outputs": [
    {
     "data": {
      "text/plain": [
       "<AxesSubplot:>"
      ]
     },
     "execution_count": 38,
     "metadata": {},
     "output_type": "execute_result"
    },
    {
     "data": {
      "image/png": "[encoded data removed]",
      "text/plain": [
       "<Figure size 432x288 with 2 Axes>"
      ]
     },
     "metadata": {
      "needs_background": "light"
     },
     "output_type": "display_data"
    }
   ],
   "source": [
    "# test\n",
    "acc_scor = mllib.model_check(y_test, svm.predict(X_test), svm)\n",
    "accuracy_test['SVM'] = acc_scor\n",
    "sns.heatmap(mllib.model_check(y_test, \n",
    "                              svm.predict(X_test), \n",
    "                              svm, \n",
    "                              output ='cmatrix'),\n",
    "           cmap='rocket_r')"
   ]
  },
  {
   "cell_type": "code",
   "execution_count": 39,
   "id": "b291dca6-5310-42da-b3fb-4fbcfa50e820",
   "metadata": {},
   "outputs": [
    {
     "data": {
      "text/plain": [
       "<AxesSubplot:>"
      ]
     },
     "execution_count": 39,
     "metadata": {},
     "output_type": "execute_result"
    },
    {
     "data": {
      "image/png": "[encoded data removed]",
      "text/plain": [
       "<Figure size 432x288 with 2 Axes>"
      ]
     },
     "metadata": {
      "needs_background": "light"
     },
     "output_type": "display_data"
    }
   ],
   "source": [
    "# val\n",
    "acc_scor = mllib.model_check(y_val, svm.predict(X_val), svm)\n",
    "accuracy_val['SVM'] = acc_scor\n",
    "sns.heatmap(mllib.model_check(y_val, \n",
    "                              svm.predict(X_val), \n",
    "                              svm, \n",
    "                              output ='cmatrix'),\n",
    "           cmap='rocket_r')"
   ]
  },
  {
   "cell_type": "markdown",
   "id": "7b9eee46-d44f-4f43-adfe-eb0564f8ed3d",
   "metadata": {},
   "source": [
    "## COMPARE accuracy of models"
   ]
  },
  {
   "cell_type": "code",
   "execution_count": 40,
   "id": "093da5ca-d12f-4dd2-b68d-401801868067",
   "metadata": {},
   "outputs": [],
   "source": [
    "accuracy_df = pd.DataFrame({'accuracy':accuracy_train.values(),'set':['train']*len(accuracy_train),'model':accuracy_train.keys()})\n",
    "accuracy_df_test = pd.DataFrame({'accuracy':accuracy_test.values(),'set':['test']*len(accuracy_test),'model':accuracy_test.keys()})\n",
    "accuracy_df_val = pd.DataFrame({'accuracy':accuracy_val.values(),'set':['val']*len(accuracy_val),'model':accuracy_val.keys()})\n",
    "accuracy_df = accuracy_df.append([accuracy_df_test,accuracy_df_val],ignore_index=True)"
   ]
  },
  {
   "cell_type": "code",
   "execution_count": 41,
   "id": "81ea7f14-52f7-48e7-b38c-e080a6923b12",
   "metadata": {},
   "outputs": [
    {
     "data": {
      "text/html": [
       "<div>\n",
       "<style scoped>\n",
       "    .dataframe tbody tr th:only-of-type {\n",
       "        vertical-align: middle;\n",
       "    }\n",
       "\n",
       "    .dataframe tbody tr th {\n",
       "        vertical-align: top;\n",
       "    }\n",
       "\n",
       "    .dataframe thead th {\n",
       "        text-align: right;\n",
       "    }\n",
       "</style>\n",
       "<table border=\"1\" class=\"dataframe\">\n",
       "  <thead>\n",
       "    <tr style=\"text-align: right;\">\n",
       "      <th></th>\n",
       "      <th>accuracy</th>\n",
       "      <th>set</th>\n",
       "      <th>model</th>\n",
       "    </tr>\n",
       "  </thead>\n",
       "  <tbody>\n",
       "    <tr>\n",
       "      <th>0</th>\n",
       "      <td>0.996693</td>\n",
       "      <td>train</td>\n",
       "      <td>DT</td>\n",
       "    </tr>\n",
       "    <tr>\n",
       "      <th>1</th>\n",
       "      <td>0.997990</td>\n",
       "      <td>train</td>\n",
       "      <td>KNN</td>\n",
       "    </tr>\n",
       "    <tr>\n",
       "      <th>2</th>\n",
       "      <td>0.977951</td>\n",
       "      <td>train</td>\n",
       "      <td>LR</td>\n",
       "    </tr>\n",
       "    <tr>\n",
       "      <th>3</th>\n",
       "      <td>0.997925</td>\n",
       "      <td>train</td>\n",
       "      <td>RF</td>\n",
       "    </tr>\n",
       "    <tr>\n",
       "      <th>4</th>\n",
       "      <td>0.989040</td>\n",
       "      <td>train</td>\n",
       "      <td>SVM</td>\n",
       "    </tr>\n",
       "    <tr>\n",
       "      <th>5</th>\n",
       "      <td>0.963174</td>\n",
       "      <td>test</td>\n",
       "      <td>DT</td>\n",
       "    </tr>\n",
       "    <tr>\n",
       "      <th>6</th>\n",
       "      <td>0.979253</td>\n",
       "      <td>test</td>\n",
       "      <td>KNN</td>\n",
       "    </tr>\n",
       "    <tr>\n",
       "      <th>7</th>\n",
       "      <td>0.968620</td>\n",
       "      <td>test</td>\n",
       "      <td>LR</td>\n",
       "    </tr>\n",
       "    <tr>\n",
       "      <th>8</th>\n",
       "      <td>0.996110</td>\n",
       "      <td>test</td>\n",
       "      <td>RF</td>\n",
       "    </tr>\n",
       "    <tr>\n",
       "      <th>9</th>\n",
       "      <td>0.985737</td>\n",
       "      <td>test</td>\n",
       "      <td>SVM</td>\n",
       "    </tr>\n",
       "    <tr>\n",
       "      <th>10</th>\n",
       "      <td>0.778578</td>\n",
       "      <td>val</td>\n",
       "      <td>DT</td>\n",
       "    </tr>\n",
       "    <tr>\n",
       "      <th>11</th>\n",
       "      <td>0.783978</td>\n",
       "      <td>val</td>\n",
       "      <td>KNN</td>\n",
       "    </tr>\n",
       "    <tr>\n",
       "      <th>12</th>\n",
       "      <td>0.845185</td>\n",
       "      <td>val</td>\n",
       "      <td>LR</td>\n",
       "    </tr>\n",
       "    <tr>\n",
       "      <th>13</th>\n",
       "      <td>0.909991</td>\n",
       "      <td>val</td>\n",
       "      <td>RF</td>\n",
       "    </tr>\n",
       "    <tr>\n",
       "      <th>14</th>\n",
       "      <td>0.857786</td>\n",
       "      <td>val</td>\n",
       "      <td>SVM</td>\n",
       "    </tr>\n",
       "  </tbody>\n",
       "</table>\n",
       "</div>"
      ],
      "text/plain": [
       "    accuracy    set model\n",
       "0   0.996693  train    DT\n",
       "1   0.997990  train   KNN\n",
       "2   0.977951  train    LR\n",
       "3   0.997925  train    RF\n",
       "4   0.989040  train   SVM\n",
       "5   0.963174   test    DT\n",
       "6   0.979253   test   KNN\n",
       "7   0.968620   test    LR\n",
       "8   0.996110   test    RF\n",
       "9   0.985737   test   SVM\n",
       "10  0.778578    val    DT\n",
       "11  0.783978    val   KNN\n",
       "12  0.845185    val    LR\n",
       "13  0.909991    val    RF\n",
       "14  0.857786    val   SVM"
      ]
     },
     "execution_count": 41,
     "metadata": {},
     "output_type": "execute_result"
    }
   ],
   "source": [
    "accuracy_df"
   ]
  },
  {
   "cell_type": "markdown",
   "id": "371492a7-e655-4c22-80ff-2ea650f06d02",
   "metadata": {},
   "source": [
    "## Export results"
   ]
  },
  {
   "cell_type": "code",
   "execution_count": 42,
   "id": "8107e2c2-6bc8-4f3f-91ec-8f61bb73a13a",
   "metadata": {},
   "outputs": [],
   "source": [
    "accuracy_df.to_csv('csv/visualization/accuracy_df.csv')"
   ]
  },
  {
   "cell_type": "markdown",
   "id": "6ef54ede-7d22-4691-b62c-405a4ccd6cea",
   "metadata": {},
   "source": [
    "# Predict longitude, lattitude"
   ]
  },
  {
   "cell_type": "code",
   "execution_count": 43,
   "id": "25bae48f-31cf-454d-bab6-4ed129ceb37d",
   "metadata": {},
   "outputs": [],
   "source": [
    "from sklearn.metrics import mean_squared_error, r2_score"
   ]
  },
  {
   "cell_type": "code",
   "execution_count": 44,
   "id": "691d788f-0def-4ea9-956c-3b970e90acb3",
   "metadata": {},
   "outputs": [],
   "source": [
    "regression_models = pd.DataFrame(columns=['target','model','dataset','mean_squared_error','r2_score'])"
   ]
  },
  {
   "cell_type": "markdown",
   "id": "ef177b5e-4898-4782-a8df-be5954e82d0f",
   "metadata": {},
   "source": [
    "## LONGITUDE"
   ]
  },
  {
   "cell_type": "markdown",
   "id": "86bdef6c-4ba8-4827-b35d-a701e3225d18",
   "metadata": {},
   "source": [
    "### Define target"
   ]
  },
  {
   "cell_type": "code",
   "execution_count": 45,
   "id": "750e793a-4d8d-418f-bcb6-a079595f8a8d",
   "metadata": {},
   "outputs": [],
   "source": [
    "y_train = list(trainingData.loc[X_train.index,['LONGITUDE']]['LONGITUDE'])\n",
    "y_test = list(trainingData.loc[X_test.index,['LONGITUDE']]['LONGITUDE'])\n",
    "y_val = list(validationData.loc[X_val.index,['LONGITUDE']]['LONGITUDE'])"
   ]
  },
  {
   "cell_type": "markdown",
   "id": "9fef70ed-5faf-4e73-a273-292638487860",
   "metadata": {},
   "source": [
    "### Random Forest Regression"
   ]
  },
  {
   "cell_type": "code",
   "execution_count": 46,
   "id": "de2333e0-6c86-4210-adf2-afd8058147ef",
   "metadata": {},
   "outputs": [],
   "source": [
    "from sklearn.ensemble import RandomForestRegressor"
   ]
  },
  {
   "cell_type": "code",
   "execution_count": 47,
   "id": "4b2c000b-5cd0-4863-9966-21c2f9086a0c",
   "metadata": {},
   "outputs": [
    {
     "data": {
      "text/plain": [
       "RandomForestRegressor(random_state=42)"
      ]
     },
     "execution_count": 47,
     "metadata": {},
     "output_type": "execute_result"
    }
   ],
   "source": [
    "rfr_long = RandomForestRegressor(random_state=42)\n",
    "rfr_long.fit(X_train,y_train)"
   ]
  },
  {
   "cell_type": "code",
   "execution_count": 48,
   "id": "afce9cc4-7e1d-44d0-b73b-e00054401ccd",
   "metadata": {},
   "outputs": [],
   "source": [
    "# Predict LONGITUDE for test dataset\n",
    "y_pred = rfr_long.predict(X_test)"
   ]
  },
  {
   "cell_type": "code",
   "execution_count": 49,
   "id": "673bc0e7-ca2a-4872-b6fe-afd1f988c706",
   "metadata": {},
   "outputs": [],
   "source": [
    "# test\n",
    "temp_df = pd.DataFrame({'target':['LONGITUDE'],\n",
    "                        'model':['RFR'],\n",
    "                        'dataset':'test',\n",
    "                        'mean_squared_error':mean_squared_error(y_test, y_pred),\n",
    "                        'r2_score':r2_score(y_test, y_pred)})\n",
    "\n",
    "regression_models = regression_models.append(temp_df,ignore_index=True)"
   ]
  },
  {
   "cell_type": "code",
   "execution_count": 50,
   "id": "9825caf1-7c01-4528-9505-2ea7d387880e",
   "metadata": {},
   "outputs": [],
   "source": [
    "# validation\n",
    "y_pred = rfr_long.predict(X_val)\n",
    "temp_df = pd.DataFrame({'target':['LONGITUDE'],\n",
    "                        'model':['RFR'],\n",
    "                        'dataset':'val',\n",
    "                        'mean_squared_error':mean_squared_error(y_val, y_pred),\n",
    "                        'r2_score':r2_score(y_val, y_pred)})\n",
    "regression_models = regression_models.append(temp_df,ignore_index=True)"
   ]
  },
  {
   "cell_type": "markdown",
   "id": "d2a113c2-ac01-4afb-8080-48919f88a73b",
   "metadata": {},
   "source": [
    "### KNN Regression"
   ]
  },
  {
   "cell_type": "code",
   "execution_count": 51,
   "id": "83a6e20f-c44b-4631-a875-be071a6fea54",
   "metadata": {},
   "outputs": [],
   "source": [
    "from sklearn.neighbors import KNeighborsRegressor"
   ]
  },
  {
   "cell_type": "code",
   "execution_count": 52,
   "id": "6bab44fe-9962-4f3f-a98e-0682bf1f353e",
   "metadata": {},
   "outputs": [
    {
     "data": {
      "text/plain": [
       "KNeighborsRegressor(leaf_size=11)"
      ]
     },
     "execution_count": 52,
     "metadata": {},
     "output_type": "execute_result"
    }
   ],
   "source": [
    "knnr_long = KNeighborsRegressor(n_neighbors=5,leaf_size=11)\n",
    "knnr_long.fit(X_train,y_train)"
   ]
  },
  {
   "cell_type": "code",
   "execution_count": 53,
   "id": "df51405d-4202-4106-9567-31aa25f7d29c",
   "metadata": {},
   "outputs": [],
   "source": [
    "# Predict LONGITUDE for test dataset\n",
    "y_pred = knnr_long.predict(X_test)"
   ]
  },
  {
   "cell_type": "code",
   "execution_count": 54,
   "id": "ab1a5815-aa18-482e-8541-8a452d5f55d1",
   "metadata": {},
   "outputs": [],
   "source": [
    "# the mean squared error and\n",
    "# the coefficient of determination: 1 is perfect prediction\n",
    "temp_df = pd.DataFrame({'target':['LONGITUDE'],\n",
    "                        'model':['KNNR'],\n",
    "                        'dataset':'test',\n",
    "                        'mean_squared_error':mean_squared_error(y_test, y_pred),\n",
    "                        'r2_score':r2_score(y_test, y_pred)})\n",
    "\n",
    "\n",
    "regression_models = regression_models.append(temp_df,ignore_index=True)"
   ]
  },
  {
   "cell_type": "code",
   "execution_count": 55,
   "id": "e3038712-a275-4ac1-be44-2db672c085f6",
   "metadata": {},
   "outputs": [],
   "source": [
    "# validation\n",
    "y_pred = knnr_long.predict(X_val)\n",
    "temp_df = pd.DataFrame({'target':['LONGITUDE'],\n",
    "                        'model':['KNNR'],\n",
    "                        'dataset':'val',\n",
    "                        'mean_squared_error':mean_squared_error(y_val, y_pred),\n",
    "                        'r2_score':r2_score(y_val, y_pred)})\n",
    "regression_models = regression_models.append(temp_df,ignore_index=True)"
   ]
  },
  {
   "cell_type": "markdown",
   "id": "c09b1e11-7a20-40ce-b5fb-873db8211397",
   "metadata": {},
   "source": [
    "### Decision tree Regression"
   ]
  },
  {
   "cell_type": "code",
   "execution_count": 56,
   "id": "8d216b56-ca9a-4ce2-9a16-0a88cd25fa97",
   "metadata": {},
   "outputs": [],
   "source": [
    "from sklearn.tree import DecisionTreeRegressor"
   ]
  },
  {
   "cell_type": "code",
   "execution_count": 57,
   "id": "6150d9ad-8658-4fbc-8195-32964a769272",
   "metadata": {},
   "outputs": [
    {
     "data": {
      "text/plain": [
       "DecisionTreeRegressor(max_depth=50, random_state=42)"
      ]
     },
     "execution_count": 57,
     "metadata": {},
     "output_type": "execute_result"
    }
   ],
   "source": [
    "dtr_long = DecisionTreeRegressor(max_depth=50, random_state=42)\n",
    "dtr_long.fit(X_train,y_train)"
   ]
  },
  {
   "cell_type": "code",
   "execution_count": 58,
   "id": "bf4b9104-0d59-4a64-8526-bd62bdbc7416",
   "metadata": {},
   "outputs": [],
   "source": [
    "# Predict LONGITUDE for test dataset\n",
    "y_pred = dtr_long.predict(X_test)"
   ]
  },
  {
   "cell_type": "code",
   "execution_count": 59,
   "id": "a612f912-3fe9-402b-9379-d1e380e4869d",
   "metadata": {},
   "outputs": [],
   "source": [
    "# the mean squared error and\n",
    "# the coefficient of determination: 1 is perfect prediction\n",
    "temp_df = pd.DataFrame({'target':['LONGITUDE'],\n",
    "                        'model':['DTR'],\n",
    "                        'dataset':'test',\n",
    "                        'mean_squared_error':mean_squared_error(y_test, y_pred),\n",
    "                        'r2_score':r2_score(y_test, y_pred)})\n",
    "\n",
    "regression_models = regression_models.append(temp_df,ignore_index=True)"
   ]
  },
  {
   "cell_type": "code",
   "execution_count": 60,
   "id": "a2e19b9c-d78d-4c12-8acb-cd129a75470c",
   "metadata": {},
   "outputs": [],
   "source": [
    "# validation\n",
    "y_pred = dtr_long.predict(X_val)\n",
    "temp_df = pd.DataFrame({'target':['LONGITUDE'],\n",
    "                        'model':['DTR'],\n",
    "                        'dataset':'val',\n",
    "                        'mean_squared_error':mean_squared_error(y_val, y_pred),\n",
    "                        'r2_score':r2_score(y_val, y_pred)})\n",
    "regression_models = regression_models.append(temp_df,ignore_index=True)"
   ]
  },
  {
   "cell_type": "markdown",
   "id": "47fb8c15-96c3-402b-87d0-4c30c626964a",
   "metadata": {},
   "source": [
    "## LATITUDE"
   ]
  },
  {
   "cell_type": "markdown",
   "id": "31b35202-931a-452e-a0ba-6050ff585470",
   "metadata": {},
   "source": [
    "### Define target"
   ]
  },
  {
   "cell_type": "code",
   "execution_count": 61,
   "id": "b3a39c13-dfbe-4fe1-9cd0-fcdc86c7a2e0",
   "metadata": {},
   "outputs": [],
   "source": [
    "y_train = list(trainingData.loc[X_train.index,['LATITUDE']]['LATITUDE'])\n",
    "y_test = list(trainingData.loc[X_test.index,['LATITUDE']]['LATITUDE'])\n",
    "y_val = list(validationData.loc[X_val.index,['LATITUDE']]['LATITUDE'])"
   ]
  },
  {
   "cell_type": "markdown",
   "id": "0636565a-ae10-4618-bbea-2b2da73f4cee",
   "metadata": {},
   "source": [
    "### Random Forest Regression"
   ]
  },
  {
   "cell_type": "code",
   "execution_count": 62,
   "id": "ce5103c5-e7e1-4763-a5b5-596f6773e35c",
   "metadata": {},
   "outputs": [
    {
     "data": {
      "text/plain": [
       "RandomForestRegressor(random_state=42)"
      ]
     },
     "execution_count": 62,
     "metadata": {},
     "output_type": "execute_result"
    }
   ],
   "source": [
    "rfr_lat = RandomForestRegressor(random_state=42)\n",
    "rfr_lat.fit(X_train,y_train)"
   ]
  },
  {
   "cell_type": "code",
   "execution_count": 63,
   "id": "f11a239d-e4a3-4ea2-af9e-92080382390e",
   "metadata": {},
   "outputs": [],
   "source": [
    "# Predict LONGITUDE for test dataset\n",
    "y_pred = rfr_lat.predict(X_test)"
   ]
  },
  {
   "cell_type": "code",
   "execution_count": 64,
   "id": "55e99fe7-dcc1-4a93-8a52-7a2e7c8b8f23",
   "metadata": {},
   "outputs": [],
   "source": [
    "# the mean squared error and\n",
    "# the coefficient of determination: 1 is perfect prediction\n",
    "\n",
    "temp_df = pd.DataFrame({'target':['LATITUDE'],\n",
    "                        'model':['RFR'],\n",
    "                        'dataset':'test',\n",
    "                        'mean_squared_error':mean_squared_error(y_test, y_pred),\n",
    "                        'r2_score':r2_score(y_test, y_pred)})\n",
    "regression_models = regression_models.append(temp_df,ignore_index=True)"
   ]
  },
  {
   "cell_type": "code",
   "execution_count": 65,
   "id": "1094a89d-d634-4378-9b4d-eed3d52d9648",
   "metadata": {},
   "outputs": [],
   "source": [
    "# validation\n",
    "y_pred = rfr_lat.predict(X_val)\n",
    "temp_df = pd.DataFrame({'target':['LATITUDE'],\n",
    "                        'model':['RFR'],\n",
    "                        'dataset':'val',\n",
    "                        'mean_squared_error':mean_squared_error(y_val, y_pred),\n",
    "                        'r2_score':r2_score(y_val, y_pred)})\n",
    "regression_models = regression_models.append(temp_df,ignore_index=True)"
   ]
  },
  {
   "cell_type": "markdown",
   "id": "473df4b7-0315-4a0d-bbf8-84d4ae3971ce",
   "metadata": {},
   "source": [
    "### KNN Regression"
   ]
  },
  {
   "cell_type": "code",
   "execution_count": 66,
   "id": "d0d4e1eb-bdd5-474a-9276-9fc003dbae39",
   "metadata": {},
   "outputs": [],
   "source": [
    "from sklearn.neighbors import KNeighborsRegressor"
   ]
  },
  {
   "cell_type": "code",
   "execution_count": 67,
   "id": "0a458e6e-a44d-42a7-b0d2-6c36d364d96c",
   "metadata": {},
   "outputs": [
    {
     "data": {
      "text/plain": [
       "KNeighborsRegressor(leaf_size=11, weights='distance')"
      ]
     },
     "execution_count": 67,
     "metadata": {},
     "output_type": "execute_result"
    }
   ],
   "source": [
    "knnr_lat = KNeighborsRegressor(n_neighbors=5, leaf_size=11,weights='distance')\n",
    "knnr_lat.fit(X_train,y_train)"
   ]
  },
  {
   "cell_type": "code",
   "execution_count": 68,
   "id": "e5b3e292-0050-4822-b88e-89ab577a79de",
   "metadata": {},
   "outputs": [],
   "source": [
    "# the mean squared error and\n",
    "# the coefficient of determination: 1 is perfect prediction\n",
    "temp_df = pd.DataFrame({'target':['LATITUDE'],\n",
    "                        'model':['KNNR'],\n",
    "                        'dataset':'test',\n",
    "                        'mean_squared_error':mean_squared_error(y_val, y_pred),\n",
    "                        'r2_score':r2_score(y_val, y_pred)})\n",
    "\n",
    "regression_models = regression_models.append(temp_df,ignore_index=True)"
   ]
  },
  {
   "cell_type": "code",
   "execution_count": 69,
   "id": "3b641bc9-d7ae-4a7b-911e-e5c02bc7bb08",
   "metadata": {},
   "outputs": [],
   "source": [
    "# validation\n",
    "y_pred = knnr_lat.predict(X_val)\n",
    "temp_df = pd.DataFrame({'target':['LATITUDE'],\n",
    "                        'model':['KNNR'],\n",
    "                        'dataset':'val',\n",
    "                        'mean_squared_error':mean_squared_error(y_val, y_pred),\n",
    "                        'r2_score':r2_score(y_val, y_pred)})\n",
    "regression_models = regression_models.append(temp_df,ignore_index=True)"
   ]
  },
  {
   "cell_type": "markdown",
   "id": "1826b062-501f-47ae-9aae-bbfa0d0d86b3",
   "metadata": {},
   "source": [
    "### Decision tree Regression"
   ]
  },
  {
   "cell_type": "code",
   "execution_count": 70,
   "id": "ba65781b-2096-4e85-b704-189cedac8f30",
   "metadata": {},
   "outputs": [],
   "source": [
    "from sklearn.tree import DecisionTreeRegressor"
   ]
  },
  {
   "cell_type": "code",
   "execution_count": 71,
   "id": "31b68ed1-6d42-4039-b3f1-232e27760111",
   "metadata": {},
   "outputs": [
    {
     "data": {
      "text/plain": [
       "DecisionTreeRegressor()"
      ]
     },
     "execution_count": 71,
     "metadata": {},
     "output_type": "execute_result"
    }
   ],
   "source": [
    "dtr_lat = DecisionTreeRegressor()\n",
    "dtr_lat.fit(X_train, y_train)"
   ]
  },
  {
   "cell_type": "code",
   "execution_count": 72,
   "id": "f62dcf1d-7341-41e9-b21f-ce06c3b41d08",
   "metadata": {},
   "outputs": [],
   "source": [
    "# Predict LONGITUDE for test dataset\n",
    "y_pred = dtr_lat.predict(X_test)"
   ]
  },
  {
   "cell_type": "code",
   "execution_count": 73,
   "id": "ba48be8d-0f68-4801-9486-c37be0dfaf2c",
   "metadata": {},
   "outputs": [],
   "source": [
    "# the mean squared error and\n",
    "# the coefficient of determination: 1 is perfect prediction\n",
    "temp_df = pd.DataFrame({'target':['LATITUDE'],\n",
    "                        'model':['DTR'],\n",
    "                        'dataset':'test',\n",
    "                        'mean_squared_error':mean_squared_error(y_test, y_pred),\n",
    "                        'r2_score':r2_score(y_test, y_pred)})\n",
    "\n",
    "regression_models = regression_models.append(temp_df,ignore_index=True)"
   ]
  },
  {
   "cell_type": "code",
   "execution_count": 74,
   "id": "3b98ed3a-70db-4ad8-927b-da797e480e81",
   "metadata": {},
   "outputs": [],
   "source": [
    "# validation\n",
    "y_pred = dtr_lat.predict(X_val)\n",
    "temp_df = pd.DataFrame({'target':['LATITUDE'],\n",
    "                        'model':['DTR'],\n",
    "                        'dataset':'val',\n",
    "                        'mean_squared_error':mean_squared_error(y_val, y_pred),\n",
    "                        'r2_score':r2_score(y_val, y_pred)})\n",
    "regression_models = regression_models.append(temp_df,ignore_index=True)"
   ]
  },
  {
   "cell_type": "markdown",
   "id": "e63166b9-c3b6-4af3-9e3a-dd893f080cb5",
   "metadata": {},
   "source": [
    "## COMPARE MSE, R2"
   ]
  },
  {
   "cell_type": "code",
   "execution_count": 75,
   "id": "7dabf2bf-fca5-4afb-a277-dd6ae3a4ee02",
   "metadata": {},
   "outputs": [
    {
     "data": {
      "text/html": [
       "<div>\n",
       "<style scoped>\n",
       "    .dataframe tbody tr th:only-of-type {\n",
       "        vertical-align: middle;\n",
       "    }\n",
       "\n",
       "    .dataframe tbody tr th {\n",
       "        vertical-align: top;\n",
       "    }\n",
       "\n",
       "    .dataframe thead th {\n",
       "        text-align: right;\n",
       "    }\n",
       "</style>\n",
       "<table border=\"1\" class=\"dataframe\">\n",
       "  <thead>\n",
       "    <tr style=\"text-align: right;\">\n",
       "      <th></th>\n",
       "      <th>target</th>\n",
       "      <th>model</th>\n",
       "      <th>dataset</th>\n",
       "      <th>mean_squared_error</th>\n",
       "      <th>r2_score</th>\n",
       "    </tr>\n",
       "  </thead>\n",
       "  <tbody>\n",
       "    <tr>\n",
       "      <th>0</th>\n",
       "      <td>LONGITUDE</td>\n",
       "      <td>RFR</td>\n",
       "      <td>test</td>\n",
       "      <td>61.937730</td>\n",
       "      <td>0.996042</td>\n",
       "    </tr>\n",
       "    <tr>\n",
       "      <th>1</th>\n",
       "      <td>LONGITUDE</td>\n",
       "      <td>RFR</td>\n",
       "      <td>val</td>\n",
       "      <td>194.375806</td>\n",
       "      <td>0.986537</td>\n",
       "    </tr>\n",
       "    <tr>\n",
       "      <th>2</th>\n",
       "      <td>LONGITUDE</td>\n",
       "      <td>KNNR</td>\n",
       "      <td>test</td>\n",
       "      <td>86.026785</td>\n",
       "      <td>0.994502</td>\n",
       "    </tr>\n",
       "    <tr>\n",
       "      <th>3</th>\n",
       "      <td>LONGITUDE</td>\n",
       "      <td>KNNR</td>\n",
       "      <td>val</td>\n",
       "      <td>290.669557</td>\n",
       "      <td>0.979867</td>\n",
       "    </tr>\n",
       "    <tr>\n",
       "      <th>4</th>\n",
       "      <td>LONGITUDE</td>\n",
       "      <td>DTR</td>\n",
       "      <td>test</td>\n",
       "      <td>96.875898</td>\n",
       "      <td>0.993809</td>\n",
       "    </tr>\n",
       "    <tr>\n",
       "      <th>5</th>\n",
       "      <td>LONGITUDE</td>\n",
       "      <td>DTR</td>\n",
       "      <td>val</td>\n",
       "      <td>257.443421</td>\n",
       "      <td>0.982168</td>\n",
       "    </tr>\n",
       "    <tr>\n",
       "      <th>6</th>\n",
       "      <td>LATITUDE</td>\n",
       "      <td>RFR</td>\n",
       "      <td>test</td>\n",
       "      <td>24.772982</td>\n",
       "      <td>0.994500</td>\n",
       "    </tr>\n",
       "    <tr>\n",
       "      <th>7</th>\n",
       "      <td>LATITUDE</td>\n",
       "      <td>RFR</td>\n",
       "      <td>val</td>\n",
       "      <td>175.605282</td>\n",
       "      <td>0.964408</td>\n",
       "    </tr>\n",
       "    <tr>\n",
       "      <th>8</th>\n",
       "      <td>LATITUDE</td>\n",
       "      <td>KNNR</td>\n",
       "      <td>test</td>\n",
       "      <td>175.605282</td>\n",
       "      <td>0.964408</td>\n",
       "    </tr>\n",
       "    <tr>\n",
       "      <th>9</th>\n",
       "      <td>LATITUDE</td>\n",
       "      <td>KNNR</td>\n",
       "      <td>val</td>\n",
       "      <td>216.972411</td>\n",
       "      <td>0.956023</td>\n",
       "    </tr>\n",
       "    <tr>\n",
       "      <th>10</th>\n",
       "      <td>LATITUDE</td>\n",
       "      <td>DTR</td>\n",
       "      <td>test</td>\n",
       "      <td>48.186796</td>\n",
       "      <td>0.989301</td>\n",
       "    </tr>\n",
       "    <tr>\n",
       "      <th>11</th>\n",
       "      <td>LATITUDE</td>\n",
       "      <td>DTR</td>\n",
       "      <td>val</td>\n",
       "      <td>424.139945</td>\n",
       "      <td>0.914034</td>\n",
       "    </tr>\n",
       "  </tbody>\n",
       "</table>\n",
       "</div>"
      ],
      "text/plain": [
       "       target model dataset  mean_squared_error  r2_score\n",
       "0   LONGITUDE   RFR    test           61.937730  0.996042\n",
       "1   LONGITUDE   RFR     val          194.375806  0.986537\n",
       "2   LONGITUDE  KNNR    test           86.026785  0.994502\n",
       "3   LONGITUDE  KNNR     val          290.669557  0.979867\n",
       "4   LONGITUDE   DTR    test           96.875898  0.993809\n",
       "5   LONGITUDE   DTR     val          257.443421  0.982168\n",
       "6    LATITUDE   RFR    test           24.772982  0.994500\n",
       "7    LATITUDE   RFR     val          175.605282  0.964408\n",
       "8    LATITUDE  KNNR    test          175.605282  0.964408\n",
       "9    LATITUDE  KNNR     val          216.972411  0.956023\n",
       "10   LATITUDE   DTR    test           48.186796  0.989301\n",
       "11   LATITUDE   DTR     val          424.139945  0.914034"
      ]
     },
     "execution_count": 75,
     "metadata": {},
     "output_type": "execute_result"
    }
   ],
   "source": [
    "regression_models.style.format({\n",
    "    \"mean_squared_error\":  \"{:.2f}\",\n",
    "    \"r2_score\": \"{:.2f}\"\n",
    "})\n",
    "regression_models"
   ]
  },
  {
   "cell_type": "code",
   "execution_count": 76,
   "id": "a1cb47e7-3db7-4c8f-841e-f0fdefe484fa",
   "metadata": {},
   "outputs": [],
   "source": [
    "regression_models.to_csv('csv/visualization/regression_models.csv')"
   ]
  },
  {
   "cell_type": "markdown",
   "id": "df1a9929-ee37-4042-bf3c-1ea8710bf21f",
   "metadata": {},
   "source": [
    "## Predicted positions vs actual positions"
   ]
  },
  {
   "cell_type": "markdown",
   "id": "9c12de9c-07c5-42cd-a2f9-8796e5e6847b",
   "metadata": {},
   "source": [
    "### Train data"
   ]
  },
  {
   "cell_type": "code",
   "execution_count": 77,
   "id": "001bc943-22d2-43a3-9a81-f27c9d92d22f",
   "metadata": {},
   "outputs": [],
   "source": [
    "longitude_actual = list(trainingData.loc[X_train.index,['LONGITUDE']]['LONGITUDE'])\n",
    "lattitude_actual = list(trainingData.loc[X_train.index,['LATITUDE']]['LATITUDE'])\n",
    "longitude_predicted = rfr_long.predict(X_train)\n",
    "lattitude_predicted = rfr_lat.predict(X_train)\n",
    "\n",
    "positions_df_actual = pd.DataFrame({'LONGITUDE':longitude_actual,\n",
    "                                    'LATITUDE':lattitude_actual}).reset_index()\n",
    "positions_df_actual.index = X_train.index\n",
    "\n",
    "positions_df_pred = pd.DataFrame({'LONGITUDE':longitude_predicted,\n",
    "                                  'LATITUDE':lattitude_predicted}).reset_index()\n",
    "positions_df_pred.index = X_train.index"
   ]
  },
  {
   "cell_type": "code",
   "execution_count": 78,
   "id": "5026d98d-3dc4-492a-8436-0865156ddcc9",
   "metadata": {},
   "outputs": [],
   "source": [
    "positions_df_actual.to_csv('csv/visualization/positions_df_actual_train.csv')\n",
    "positions_df_pred.to_csv('csv/visualization/positions_df_pred_train.csv')"
   ]
  },
  {
   "cell_type": "markdown",
   "id": "f13ea8d9-a564-43b6-b548-4f428efa5091",
   "metadata": {},
   "source": [
    "### Test data"
   ]
  },
  {
   "cell_type": "code",
   "execution_count": 79,
   "id": "1527ea79-c660-4848-8d4c-3b3d62e7e338",
   "metadata": {},
   "outputs": [],
   "source": [
    "longitude_actual = list(trainingData.loc[X_test.index,['LONGITUDE']]['LONGITUDE'])\n",
    "lattitude_actual = list(trainingData.loc[X_test.index,['LATITUDE']]['LATITUDE'])\n",
    "longitude_predicted = rfr_long.predict(X_test)\n",
    "lattitude_predicted = rfr_lat.predict(X_test)\n",
    "\n",
    "positions_df_actual = pd.DataFrame({'LONGITUDE':longitude_actual,\n",
    "                                    'LATITUDE':lattitude_actual}).reset_index()\n",
    "positions_df_actual.index = X_test.index\n",
    "\n",
    "positions_df_pred = pd.DataFrame({'LONGITUDE':longitude_predicted,\n",
    "                                  'LATITUDE':lattitude_predicted}).reset_index()\n",
    "positions_df_pred.index = X_test.index"
   ]
  },
  {
   "cell_type": "code",
   "execution_count": 80,
   "id": "dd6d0b0a-7fc6-447a-80f4-295bf62a0c64",
   "metadata": {},
   "outputs": [],
   "source": [
    "positions_df_actual.to_csv('csv/visualization/positions_df_actual_test.csv')\n",
    "positions_df_pred.to_csv('csv/visualization/positions_df_pred_test.csv')"
   ]
  },
  {
   "cell_type": "markdown",
   "id": "9d7ed367-9218-4d9c-9b8e-9aa4216ce40f",
   "metadata": {},
   "source": [
    "### Validation data"
   ]
  },
  {
   "cell_type": "code",
   "execution_count": 81,
   "id": "2ecb5993-2f4d-4955-8412-bf1cb840867d",
   "metadata": {},
   "outputs": [],
   "source": [
    "longitude_actual = list(validationData.loc[X_val.index,['LONGITUDE']]['LONGITUDE'])\n",
    "lattitude_actual = list(validationData.loc[X_val.index,['LATITUDE']]['LATITUDE'])\n",
    "longitude_predicted = rfr_long.predict(X_val)\n",
    "lattitude_predicted = rfr_lat.predict(X_val)\n",
    "\n",
    "positions_df_actual = pd.DataFrame({'LONGITUDE':longitude_actual,\n",
    "                                    'LATITUDE':lattitude_actual}).reset_index()\n",
    "positions_df_actual.index = X_val.index\n",
    "\n",
    "positions_df_pred = pd.DataFrame({'LONGITUDE':longitude_predicted,\n",
    "                                  'LATITUDE':lattitude_predicted}).reset_index()\n",
    "positions_df_pred.index = X_val.index"
   ]
  },
  {
   "cell_type": "code",
   "execution_count": 82,
   "id": "57660c66-0f64-44e2-9716-b19f88eb05cf",
   "metadata": {},
   "outputs": [],
   "source": [
    "positions_df_actual.to_csv('csv/visualization/positions_df_actual_val.csv')\n",
    "positions_df_pred.to_csv('csv/visualization/positions_df_pred_val.csv')"
   ]
  },
  {
   "cell_type": "code",
   "execution_count": null,
   "id": "e519cb15-eb8e-43c3-9514-28f82e7d4c59",
   "metadata": {},
   "outputs": [],
   "source": []
  },
  {
   "cell_type": "code",
   "execution_count": null,
   "id": "2bd375d0-cf7e-4140-ad24-203168149feb",
   "metadata": {},
   "outputs": [],
   "source": []
  },
  {
   "cell_type": "code",
   "execution_count": null,
   "id": "45165ac8-6f89-44cd-9593-0f73a9c60605",
   "metadata": {},
   "outputs": [],
   "source": []
  },
  {
   "cell_type": "code",
   "execution_count": null,
   "id": "691733c7-0fa9-4263-82f1-7a4b597e5a73",
   "metadata": {},
   "outputs": [],
   "source": []
  }
 ],
 "metadata": {
  "kernelspec": {
   "display_name": "Python 3",
   "language": "python",
   "name": "python3"
  },
  "language_info": {
   "codemirror_mode": {
    "name": "ipython",
    "version": 3
   },
   "file_extension": ".py",
   "mimetype": "text/x-python",
   "name": "python",
   "nbconvert_exporter": "python",
   "pygments_lexer": "ipython3",
   "version": "3.8.8"
  }
 },
 "nbformat": 4,
 "nbformat_minor": 5
}
