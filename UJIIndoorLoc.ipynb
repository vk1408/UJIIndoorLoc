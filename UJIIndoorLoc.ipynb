{
 "cells": [
  {
   "cell_type": "markdown",
   "id": "e868e863-84f2-427e-8c2f-d3d82028b690",
   "metadata": {},
   "source": [
    "# 1-Exploring datasets"
   ]
  },
  {
   "cell_type": "markdown",
   "id": "92c60772-df0f-474d-a161-b6dee0012adf",
   "metadata": {},
   "source": [
    "##  raw data"
   ]
  },
  {
   "cell_type": "code",
   "execution_count": 1,
   "id": "a7956a6a-d473-4d74-91ea-02a028b29b60",
   "metadata": {},
   "outputs": [],
   "source": [
    "import pandas as pd"
   ]
  },
  {
   "cell_type": "code",
   "execution_count": 2,
   "id": "2fbbd22c-772e-4bbf-a174-e0363b7331da",
   "metadata": {},
   "outputs": [
    {
     "data": {
      "text/html": [
       "<div>\n",
       "<style scoped>\n",
       "    .dataframe tbody tr th:only-of-type {\n",
       "        vertical-align: middle;\n",
       "    }\n",
       "\n",
       "    .dataframe tbody tr th {\n",
       "        vertical-align: top;\n",
       "    }\n",
       "\n",
       "    .dataframe thead th {\n",
       "        text-align: right;\n",
       "    }\n",
       "</style>\n",
       "<table border=\"1\" class=\"dataframe\">\n",
       "  <thead>\n",
       "    <tr style=\"text-align: right;\">\n",
       "      <th></th>\n",
       "      <th>WAP001</th>\n",
       "      <th>WAP002</th>\n",
       "      <th>WAP003</th>\n",
       "      <th>WAP004</th>\n",
       "      <th>WAP005</th>\n",
       "      <th>WAP006</th>\n",
       "      <th>WAP007</th>\n",
       "      <th>WAP008</th>\n",
       "      <th>WAP009</th>\n",
       "      <th>WAP010</th>\n",
       "      <th>...</th>\n",
       "      <th>WAP520</th>\n",
       "      <th>LONGITUDE</th>\n",
       "      <th>LATITUDE</th>\n",
       "      <th>FLOOR</th>\n",
       "      <th>BUILDINGID</th>\n",
       "      <th>SPACEID</th>\n",
       "      <th>RELATIVEPOSITION</th>\n",
       "      <th>USERID</th>\n",
       "      <th>PHONEID</th>\n",
       "      <th>TIMESTAMP</th>\n",
       "    </tr>\n",
       "  </thead>\n",
       "  <tbody>\n",
       "    <tr>\n",
       "      <th>0</th>\n",
       "      <td>100</td>\n",
       "      <td>100</td>\n",
       "      <td>100</td>\n",
       "      <td>100</td>\n",
       "      <td>100</td>\n",
       "      <td>100</td>\n",
       "      <td>100</td>\n",
       "      <td>100</td>\n",
       "      <td>100</td>\n",
       "      <td>100</td>\n",
       "      <td>...</td>\n",
       "      <td>100</td>\n",
       "      <td>-7541.2643</td>\n",
       "      <td>4.864921e+06</td>\n",
       "      <td>2</td>\n",
       "      <td>1</td>\n",
       "      <td>106</td>\n",
       "      <td>2</td>\n",
       "      <td>2</td>\n",
       "      <td>23</td>\n",
       "      <td>1371713733</td>\n",
       "    </tr>\n",
       "    <tr>\n",
       "      <th>1</th>\n",
       "      <td>100</td>\n",
       "      <td>100</td>\n",
       "      <td>100</td>\n",
       "      <td>100</td>\n",
       "      <td>100</td>\n",
       "      <td>100</td>\n",
       "      <td>100</td>\n",
       "      <td>100</td>\n",
       "      <td>100</td>\n",
       "      <td>100</td>\n",
       "      <td>...</td>\n",
       "      <td>100</td>\n",
       "      <td>-7536.6212</td>\n",
       "      <td>4.864934e+06</td>\n",
       "      <td>2</td>\n",
       "      <td>1</td>\n",
       "      <td>106</td>\n",
       "      <td>2</td>\n",
       "      <td>2</td>\n",
       "      <td>23</td>\n",
       "      <td>1371713691</td>\n",
       "    </tr>\n",
       "    <tr>\n",
       "      <th>2</th>\n",
       "      <td>100</td>\n",
       "      <td>100</td>\n",
       "      <td>100</td>\n",
       "      <td>100</td>\n",
       "      <td>100</td>\n",
       "      <td>100</td>\n",
       "      <td>100</td>\n",
       "      <td>-97</td>\n",
       "      <td>100</td>\n",
       "      <td>100</td>\n",
       "      <td>...</td>\n",
       "      <td>100</td>\n",
       "      <td>-7519.1524</td>\n",
       "      <td>4.864950e+06</td>\n",
       "      <td>2</td>\n",
       "      <td>1</td>\n",
       "      <td>103</td>\n",
       "      <td>2</td>\n",
       "      <td>2</td>\n",
       "      <td>23</td>\n",
       "      <td>1371714095</td>\n",
       "    </tr>\n",
       "    <tr>\n",
       "      <th>3</th>\n",
       "      <td>100</td>\n",
       "      <td>100</td>\n",
       "      <td>100</td>\n",
       "      <td>100</td>\n",
       "      <td>100</td>\n",
       "      <td>100</td>\n",
       "      <td>100</td>\n",
       "      <td>100</td>\n",
       "      <td>100</td>\n",
       "      <td>100</td>\n",
       "      <td>...</td>\n",
       "      <td>100</td>\n",
       "      <td>-7524.5704</td>\n",
       "      <td>4.864934e+06</td>\n",
       "      <td>2</td>\n",
       "      <td>1</td>\n",
       "      <td>102</td>\n",
       "      <td>2</td>\n",
       "      <td>2</td>\n",
       "      <td>23</td>\n",
       "      <td>1371713807</td>\n",
       "    </tr>\n",
       "    <tr>\n",
       "      <th>4</th>\n",
       "      <td>100</td>\n",
       "      <td>100</td>\n",
       "      <td>100</td>\n",
       "      <td>100</td>\n",
       "      <td>100</td>\n",
       "      <td>100</td>\n",
       "      <td>100</td>\n",
       "      <td>100</td>\n",
       "      <td>100</td>\n",
       "      <td>100</td>\n",
       "      <td>...</td>\n",
       "      <td>100</td>\n",
       "      <td>-7632.1436</td>\n",
       "      <td>4.864982e+06</td>\n",
       "      <td>0</td>\n",
       "      <td>0</td>\n",
       "      <td>122</td>\n",
       "      <td>2</td>\n",
       "      <td>11</td>\n",
       "      <td>13</td>\n",
       "      <td>1369909710</td>\n",
       "    </tr>\n",
       "    <tr>\n",
       "      <th>...</th>\n",
       "      <td>...</td>\n",
       "      <td>...</td>\n",
       "      <td>...</td>\n",
       "      <td>...</td>\n",
       "      <td>...</td>\n",
       "      <td>...</td>\n",
       "      <td>...</td>\n",
       "      <td>...</td>\n",
       "      <td>...</td>\n",
       "      <td>...</td>\n",
       "      <td>...</td>\n",
       "      <td>...</td>\n",
       "      <td>...</td>\n",
       "      <td>...</td>\n",
       "      <td>...</td>\n",
       "      <td>...</td>\n",
       "      <td>...</td>\n",
       "      <td>...</td>\n",
       "      <td>...</td>\n",
       "      <td>...</td>\n",
       "      <td>...</td>\n",
       "    </tr>\n",
       "    <tr>\n",
       "      <th>19932</th>\n",
       "      <td>100</td>\n",
       "      <td>100</td>\n",
       "      <td>100</td>\n",
       "      <td>100</td>\n",
       "      <td>100</td>\n",
       "      <td>100</td>\n",
       "      <td>100</td>\n",
       "      <td>100</td>\n",
       "      <td>100</td>\n",
       "      <td>100</td>\n",
       "      <td>...</td>\n",
       "      <td>100</td>\n",
       "      <td>-7485.4686</td>\n",
       "      <td>4.864875e+06</td>\n",
       "      <td>3</td>\n",
       "      <td>1</td>\n",
       "      <td>1</td>\n",
       "      <td>2</td>\n",
       "      <td>18</td>\n",
       "      <td>10</td>\n",
       "      <td>1371710683</td>\n",
       "    </tr>\n",
       "    <tr>\n",
       "      <th>19933</th>\n",
       "      <td>100</td>\n",
       "      <td>100</td>\n",
       "      <td>100</td>\n",
       "      <td>100</td>\n",
       "      <td>100</td>\n",
       "      <td>100</td>\n",
       "      <td>100</td>\n",
       "      <td>100</td>\n",
       "      <td>100</td>\n",
       "      <td>100</td>\n",
       "      <td>...</td>\n",
       "      <td>100</td>\n",
       "      <td>-7390.6206</td>\n",
       "      <td>4.864836e+06</td>\n",
       "      <td>1</td>\n",
       "      <td>2</td>\n",
       "      <td>140</td>\n",
       "      <td>2</td>\n",
       "      <td>18</td>\n",
       "      <td>10</td>\n",
       "      <td>1371710402</td>\n",
       "    </tr>\n",
       "    <tr>\n",
       "      <th>19934</th>\n",
       "      <td>100</td>\n",
       "      <td>100</td>\n",
       "      <td>100</td>\n",
       "      <td>100</td>\n",
       "      <td>100</td>\n",
       "      <td>100</td>\n",
       "      <td>100</td>\n",
       "      <td>100</td>\n",
       "      <td>100</td>\n",
       "      <td>100</td>\n",
       "      <td>...</td>\n",
       "      <td>100</td>\n",
       "      <td>-7516.8415</td>\n",
       "      <td>4.864889e+06</td>\n",
       "      <td>3</td>\n",
       "      <td>1</td>\n",
       "      <td>13</td>\n",
       "      <td>2</td>\n",
       "      <td>18</td>\n",
       "      <td>10</td>\n",
       "      <td>1371710921</td>\n",
       "    </tr>\n",
       "    <tr>\n",
       "      <th>19935</th>\n",
       "      <td>100</td>\n",
       "      <td>100</td>\n",
       "      <td>100</td>\n",
       "      <td>100</td>\n",
       "      <td>100</td>\n",
       "      <td>100</td>\n",
       "      <td>100</td>\n",
       "      <td>100</td>\n",
       "      <td>100</td>\n",
       "      <td>100</td>\n",
       "      <td>...</td>\n",
       "      <td>100</td>\n",
       "      <td>-7537.3219</td>\n",
       "      <td>4.864896e+06</td>\n",
       "      <td>3</td>\n",
       "      <td>1</td>\n",
       "      <td>113</td>\n",
       "      <td>2</td>\n",
       "      <td>18</td>\n",
       "      <td>10</td>\n",
       "      <td>1371711049</td>\n",
       "    </tr>\n",
       "    <tr>\n",
       "      <th>19936</th>\n",
       "      <td>100</td>\n",
       "      <td>100</td>\n",
       "      <td>100</td>\n",
       "      <td>100</td>\n",
       "      <td>100</td>\n",
       "      <td>100</td>\n",
       "      <td>100</td>\n",
       "      <td>100</td>\n",
       "      <td>100</td>\n",
       "      <td>100</td>\n",
       "      <td>...</td>\n",
       "      <td>100</td>\n",
       "      <td>-7536.1658</td>\n",
       "      <td>4.864898e+06</td>\n",
       "      <td>3</td>\n",
       "      <td>1</td>\n",
       "      <td>112</td>\n",
       "      <td>2</td>\n",
       "      <td>18</td>\n",
       "      <td>10</td>\n",
       "      <td>1371711025</td>\n",
       "    </tr>\n",
       "  </tbody>\n",
       "</table>\n",
       "<p>19937 rows × 529 columns</p>\n",
       "</div>"
      ],
      "text/plain": [
       "       WAP001  WAP002  WAP003  WAP004  WAP005  WAP006  WAP007  WAP008  WAP009  \\\n",
       "0         100     100     100     100     100     100     100     100     100   \n",
       "1         100     100     100     100     100     100     100     100     100   \n",
       "2         100     100     100     100     100     100     100     -97     100   \n",
       "3         100     100     100     100     100     100     100     100     100   \n",
       "4         100     100     100     100     100     100     100     100     100   \n",
       "...       ...     ...     ...     ...     ...     ...     ...     ...     ...   \n",
       "19932     100     100     100     100     100     100     100     100     100   \n",
       "19933     100     100     100     100     100     100     100     100     100   \n",
       "19934     100     100     100     100     100     100     100     100     100   \n",
       "19935     100     100     100     100     100     100     100     100     100   \n",
       "19936     100     100     100     100     100     100     100     100     100   \n",
       "\n",
       "       WAP010  ...  WAP520  LONGITUDE      LATITUDE  FLOOR  BUILDINGID  \\\n",
       "0         100  ...     100 -7541.2643  4.864921e+06      2           1   \n",
       "1         100  ...     100 -7536.6212  4.864934e+06      2           1   \n",
       "2         100  ...     100 -7519.1524  4.864950e+06      2           1   \n",
       "3         100  ...     100 -7524.5704  4.864934e+06      2           1   \n",
       "4         100  ...     100 -7632.1436  4.864982e+06      0           0   \n",
       "...       ...  ...     ...        ...           ...    ...         ...   \n",
       "19932     100  ...     100 -7485.4686  4.864875e+06      3           1   \n",
       "19933     100  ...     100 -7390.6206  4.864836e+06      1           2   \n",
       "19934     100  ...     100 -7516.8415  4.864889e+06      3           1   \n",
       "19935     100  ...     100 -7537.3219  4.864896e+06      3           1   \n",
       "19936     100  ...     100 -7536.1658  4.864898e+06      3           1   \n",
       "\n",
       "       SPACEID  RELATIVEPOSITION  USERID  PHONEID   TIMESTAMP  \n",
       "0          106                 2       2       23  1371713733  \n",
       "1          106                 2       2       23  1371713691  \n",
       "2          103                 2       2       23  1371714095  \n",
       "3          102                 2       2       23  1371713807  \n",
       "4          122                 2      11       13  1369909710  \n",
       "...        ...               ...     ...      ...         ...  \n",
       "19932        1                 2      18       10  1371710683  \n",
       "19933      140                 2      18       10  1371710402  \n",
       "19934       13                 2      18       10  1371710921  \n",
       "19935      113                 2      18       10  1371711049  \n",
       "19936      112                 2      18       10  1371711025  \n",
       "\n",
       "[19937 rows x 529 columns]"
      ]
     },
     "execution_count": 2,
     "metadata": {},
     "output_type": "execute_result"
    }
   ],
   "source": [
    "trainingData = pd.read_csv('csv/trainingData.csv')\n",
    "trainingData"
   ]
  },
  {
   "cell_type": "code",
   "execution_count": 3,
   "id": "6b4e4c33-a16f-4ac4-8ace-83142fa8d722",
   "metadata": {},
   "outputs": [
    {
     "data": {
      "text/html": [
       "<div>\n",
       "<style scoped>\n",
       "    .dataframe tbody tr th:only-of-type {\n",
       "        vertical-align: middle;\n",
       "    }\n",
       "\n",
       "    .dataframe tbody tr th {\n",
       "        vertical-align: top;\n",
       "    }\n",
       "\n",
       "    .dataframe thead th {\n",
       "        text-align: right;\n",
       "    }\n",
       "</style>\n",
       "<table border=\"1\" class=\"dataframe\">\n",
       "  <thead>\n",
       "    <tr style=\"text-align: right;\">\n",
       "      <th></th>\n",
       "      <th>WAP001</th>\n",
       "      <th>WAP002</th>\n",
       "      <th>WAP003</th>\n",
       "      <th>WAP004</th>\n",
       "      <th>WAP005</th>\n",
       "      <th>WAP006</th>\n",
       "      <th>WAP007</th>\n",
       "      <th>WAP008</th>\n",
       "      <th>WAP009</th>\n",
       "      <th>WAP010</th>\n",
       "      <th>...</th>\n",
       "      <th>WAP520</th>\n",
       "      <th>LONGITUDE</th>\n",
       "      <th>LATITUDE</th>\n",
       "      <th>FLOOR</th>\n",
       "      <th>BUILDINGID</th>\n",
       "      <th>SPACEID</th>\n",
       "      <th>RELATIVEPOSITION</th>\n",
       "      <th>USERID</th>\n",
       "      <th>PHONEID</th>\n",
       "      <th>TIMESTAMP</th>\n",
       "    </tr>\n",
       "  </thead>\n",
       "  <tbody>\n",
       "    <tr>\n",
       "      <th>0</th>\n",
       "      <td>100</td>\n",
       "      <td>100</td>\n",
       "      <td>100</td>\n",
       "      <td>100</td>\n",
       "      <td>100</td>\n",
       "      <td>100</td>\n",
       "      <td>100</td>\n",
       "      <td>100</td>\n",
       "      <td>100</td>\n",
       "      <td>100</td>\n",
       "      <td>...</td>\n",
       "      <td>100</td>\n",
       "      <td>-7515.916799</td>\n",
       "      <td>4.864890e+06</td>\n",
       "      <td>1</td>\n",
       "      <td>1</td>\n",
       "      <td>0</td>\n",
       "      <td>0</td>\n",
       "      <td>0</td>\n",
       "      <td>0</td>\n",
       "      <td>1380872703</td>\n",
       "    </tr>\n",
       "    <tr>\n",
       "      <th>1</th>\n",
       "      <td>100</td>\n",
       "      <td>100</td>\n",
       "      <td>100</td>\n",
       "      <td>100</td>\n",
       "      <td>100</td>\n",
       "      <td>100</td>\n",
       "      <td>100</td>\n",
       "      <td>100</td>\n",
       "      <td>100</td>\n",
       "      <td>100</td>\n",
       "      <td>...</td>\n",
       "      <td>100</td>\n",
       "      <td>-7383.867221</td>\n",
       "      <td>4.864840e+06</td>\n",
       "      <td>4</td>\n",
       "      <td>2</td>\n",
       "      <td>0</td>\n",
       "      <td>0</td>\n",
       "      <td>0</td>\n",
       "      <td>13</td>\n",
       "      <td>1381155054</td>\n",
       "    </tr>\n",
       "    <tr>\n",
       "      <th>2</th>\n",
       "      <td>100</td>\n",
       "      <td>100</td>\n",
       "      <td>100</td>\n",
       "      <td>100</td>\n",
       "      <td>100</td>\n",
       "      <td>100</td>\n",
       "      <td>100</td>\n",
       "      <td>100</td>\n",
       "      <td>100</td>\n",
       "      <td>100</td>\n",
       "      <td>...</td>\n",
       "      <td>100</td>\n",
       "      <td>-7374.302080</td>\n",
       "      <td>4.864847e+06</td>\n",
       "      <td>4</td>\n",
       "      <td>2</td>\n",
       "      <td>0</td>\n",
       "      <td>0</td>\n",
       "      <td>0</td>\n",
       "      <td>13</td>\n",
       "      <td>1381155095</td>\n",
       "    </tr>\n",
       "    <tr>\n",
       "      <th>3</th>\n",
       "      <td>100</td>\n",
       "      <td>100</td>\n",
       "      <td>100</td>\n",
       "      <td>100</td>\n",
       "      <td>100</td>\n",
       "      <td>100</td>\n",
       "      <td>100</td>\n",
       "      <td>100</td>\n",
       "      <td>100</td>\n",
       "      <td>100</td>\n",
       "      <td>...</td>\n",
       "      <td>100</td>\n",
       "      <td>-7365.824883</td>\n",
       "      <td>4.864843e+06</td>\n",
       "      <td>4</td>\n",
       "      <td>2</td>\n",
       "      <td>0</td>\n",
       "      <td>0</td>\n",
       "      <td>0</td>\n",
       "      <td>13</td>\n",
       "      <td>1381155138</td>\n",
       "    </tr>\n",
       "    <tr>\n",
       "      <th>4</th>\n",
       "      <td>100</td>\n",
       "      <td>100</td>\n",
       "      <td>100</td>\n",
       "      <td>100</td>\n",
       "      <td>100</td>\n",
       "      <td>100</td>\n",
       "      <td>100</td>\n",
       "      <td>100</td>\n",
       "      <td>100</td>\n",
       "      <td>100</td>\n",
       "      <td>...</td>\n",
       "      <td>100</td>\n",
       "      <td>-7641.499303</td>\n",
       "      <td>4.864922e+06</td>\n",
       "      <td>2</td>\n",
       "      <td>0</td>\n",
       "      <td>0</td>\n",
       "      <td>0</td>\n",
       "      <td>0</td>\n",
       "      <td>2</td>\n",
       "      <td>1380877774</td>\n",
       "    </tr>\n",
       "    <tr>\n",
       "      <th>...</th>\n",
       "      <td>...</td>\n",
       "      <td>...</td>\n",
       "      <td>...</td>\n",
       "      <td>...</td>\n",
       "      <td>...</td>\n",
       "      <td>...</td>\n",
       "      <td>...</td>\n",
       "      <td>...</td>\n",
       "      <td>...</td>\n",
       "      <td>...</td>\n",
       "      <td>...</td>\n",
       "      <td>...</td>\n",
       "      <td>...</td>\n",
       "      <td>...</td>\n",
       "      <td>...</td>\n",
       "      <td>...</td>\n",
       "      <td>...</td>\n",
       "      <td>...</td>\n",
       "      <td>...</td>\n",
       "      <td>...</td>\n",
       "      <td>...</td>\n",
       "    </tr>\n",
       "    <tr>\n",
       "      <th>1106</th>\n",
       "      <td>100</td>\n",
       "      <td>100</td>\n",
       "      <td>100</td>\n",
       "      <td>100</td>\n",
       "      <td>100</td>\n",
       "      <td>100</td>\n",
       "      <td>100</td>\n",
       "      <td>100</td>\n",
       "      <td>100</td>\n",
       "      <td>100</td>\n",
       "      <td>...</td>\n",
       "      <td>100</td>\n",
       "      <td>-7317.344231</td>\n",
       "      <td>4.864796e+06</td>\n",
       "      <td>3</td>\n",
       "      <td>2</td>\n",
       "      <td>0</td>\n",
       "      <td>0</td>\n",
       "      <td>0</td>\n",
       "      <td>13</td>\n",
       "      <td>1381156711</td>\n",
       "    </tr>\n",
       "    <tr>\n",
       "      <th>1107</th>\n",
       "      <td>100</td>\n",
       "      <td>100</td>\n",
       "      <td>100</td>\n",
       "      <td>100</td>\n",
       "      <td>100</td>\n",
       "      <td>100</td>\n",
       "      <td>100</td>\n",
       "      <td>100</td>\n",
       "      <td>100</td>\n",
       "      <td>100</td>\n",
       "      <td>...</td>\n",
       "      <td>100</td>\n",
       "      <td>-7313.731120</td>\n",
       "      <td>4.864792e+06</td>\n",
       "      <td>3</td>\n",
       "      <td>2</td>\n",
       "      <td>0</td>\n",
       "      <td>0</td>\n",
       "      <td>0</td>\n",
       "      <td>13</td>\n",
       "      <td>1381156730</td>\n",
       "    </tr>\n",
       "    <tr>\n",
       "      <th>1108</th>\n",
       "      <td>100</td>\n",
       "      <td>100</td>\n",
       "      <td>100</td>\n",
       "      <td>100</td>\n",
       "      <td>100</td>\n",
       "      <td>100</td>\n",
       "      <td>100</td>\n",
       "      <td>100</td>\n",
       "      <td>100</td>\n",
       "      <td>100</td>\n",
       "      <td>...</td>\n",
       "      <td>100</td>\n",
       "      <td>-7637.535798</td>\n",
       "      <td>4.864903e+06</td>\n",
       "      <td>0</td>\n",
       "      <td>0</td>\n",
       "      <td>0</td>\n",
       "      <td>0</td>\n",
       "      <td>0</td>\n",
       "      <td>13</td>\n",
       "      <td>1381247781</td>\n",
       "    </tr>\n",
       "    <tr>\n",
       "      <th>1109</th>\n",
       "      <td>100</td>\n",
       "      <td>100</td>\n",
       "      <td>100</td>\n",
       "      <td>100</td>\n",
       "      <td>100</td>\n",
       "      <td>100</td>\n",
       "      <td>100</td>\n",
       "      <td>100</td>\n",
       "      <td>100</td>\n",
       "      <td>100</td>\n",
       "      <td>...</td>\n",
       "      <td>100</td>\n",
       "      <td>-7636.654005</td>\n",
       "      <td>4.864905e+06</td>\n",
       "      <td>0</td>\n",
       "      <td>0</td>\n",
       "      <td>0</td>\n",
       "      <td>0</td>\n",
       "      <td>0</td>\n",
       "      <td>13</td>\n",
       "      <td>1381247807</td>\n",
       "    </tr>\n",
       "    <tr>\n",
       "      <th>1110</th>\n",
       "      <td>100</td>\n",
       "      <td>100</td>\n",
       "      <td>100</td>\n",
       "      <td>100</td>\n",
       "      <td>100</td>\n",
       "      <td>100</td>\n",
       "      <td>100</td>\n",
       "      <td>100</td>\n",
       "      <td>100</td>\n",
       "      <td>100</td>\n",
       "      <td>...</td>\n",
       "      <td>100</td>\n",
       "      <td>-7637.944120</td>\n",
       "      <td>4.864904e+06</td>\n",
       "      <td>0</td>\n",
       "      <td>0</td>\n",
       "      <td>0</td>\n",
       "      <td>0</td>\n",
       "      <td>0</td>\n",
       "      <td>13</td>\n",
       "      <td>1381247836</td>\n",
       "    </tr>\n",
       "  </tbody>\n",
       "</table>\n",
       "<p>1111 rows × 529 columns</p>\n",
       "</div>"
      ],
      "text/plain": [
       "      WAP001  WAP002  WAP003  WAP004  WAP005  WAP006  WAP007  WAP008  WAP009  \\\n",
       "0        100     100     100     100     100     100     100     100     100   \n",
       "1        100     100     100     100     100     100     100     100     100   \n",
       "2        100     100     100     100     100     100     100     100     100   \n",
       "3        100     100     100     100     100     100     100     100     100   \n",
       "4        100     100     100     100     100     100     100     100     100   \n",
       "...      ...     ...     ...     ...     ...     ...     ...     ...     ...   \n",
       "1106     100     100     100     100     100     100     100     100     100   \n",
       "1107     100     100     100     100     100     100     100     100     100   \n",
       "1108     100     100     100     100     100     100     100     100     100   \n",
       "1109     100     100     100     100     100     100     100     100     100   \n",
       "1110     100     100     100     100     100     100     100     100     100   \n",
       "\n",
       "      WAP010  ...  WAP520    LONGITUDE      LATITUDE  FLOOR  BUILDINGID  \\\n",
       "0        100  ...     100 -7515.916799  4.864890e+06      1           1   \n",
       "1        100  ...     100 -7383.867221  4.864840e+06      4           2   \n",
       "2        100  ...     100 -7374.302080  4.864847e+06      4           2   \n",
       "3        100  ...     100 -7365.824883  4.864843e+06      4           2   \n",
       "4        100  ...     100 -7641.499303  4.864922e+06      2           0   \n",
       "...      ...  ...     ...          ...           ...    ...         ...   \n",
       "1106     100  ...     100 -7317.344231  4.864796e+06      3           2   \n",
       "1107     100  ...     100 -7313.731120  4.864792e+06      3           2   \n",
       "1108     100  ...     100 -7637.535798  4.864903e+06      0           0   \n",
       "1109     100  ...     100 -7636.654005  4.864905e+06      0           0   \n",
       "1110     100  ...     100 -7637.944120  4.864904e+06      0           0   \n",
       "\n",
       "      SPACEID  RELATIVEPOSITION  USERID  PHONEID   TIMESTAMP  \n",
       "0           0                 0       0        0  1380872703  \n",
       "1           0                 0       0       13  1381155054  \n",
       "2           0                 0       0       13  1381155095  \n",
       "3           0                 0       0       13  1381155138  \n",
       "4           0                 0       0        2  1380877774  \n",
       "...       ...               ...     ...      ...         ...  \n",
       "1106        0                 0       0       13  1381156711  \n",
       "1107        0                 0       0       13  1381156730  \n",
       "1108        0                 0       0       13  1381247781  \n",
       "1109        0                 0       0       13  1381247807  \n",
       "1110        0                 0       0       13  1381247836  \n",
       "\n",
       "[1111 rows x 529 columns]"
      ]
     },
     "execution_count": 3,
     "metadata": {},
     "output_type": "execute_result"
    }
   ],
   "source": [
    "validationData = pd.read_csv('csv/validationData.csv')\n",
    "validationData"
   ]
  },
  {
   "cell_type": "markdown",
   "id": "67fce7bb-ecf3-4ff0-b0a3-e416c765346e",
   "metadata": {},
   "source": [
    "## correlation"
   ]
  },
  {
   "cell_type": "code",
   "execution_count": 4,
   "id": "7fefc827-de72-4d7e-8476-68c9c15e1dc5",
   "metadata": {},
   "outputs": [],
   "source": [
    "import mllib"
   ]
  },
  {
   "cell_type": "code",
   "execution_count": 5,
   "id": "5a1b7695-3d91-49e3-860f-e875ad25313e",
   "metadata": {
    "scrolled": true,
    "tags": []
   },
   "outputs": [
    {
     "data": {
      "text/html": [
       "<div>\n",
       "<style scoped>\n",
       "    .dataframe tbody tr th:only-of-type {\n",
       "        vertical-align: middle;\n",
       "    }\n",
       "\n",
       "    .dataframe tbody tr th {\n",
       "        vertical-align: top;\n",
       "    }\n",
       "\n",
       "    .dataframe thead th {\n",
       "        text-align: right;\n",
       "    }\n",
       "</style>\n",
       "<table border=\"1\" class=\"dataframe\">\n",
       "  <thead>\n",
       "    <tr style=\"text-align: right;\">\n",
       "      <th></th>\n",
       "      <th>f1</th>\n",
       "      <th>f2</th>\n",
       "      <th>corr</th>\n",
       "    </tr>\n",
       "  </thead>\n",
       "  <tbody>\n",
       "    <tr>\n",
       "      <th>0</th>\n",
       "      <td>WAP016</td>\n",
       "      <td>WAP015</td>\n",
       "      <td>0.901935</td>\n",
       "    </tr>\n",
       "    <tr>\n",
       "      <th>1</th>\n",
       "      <td>WAP054</td>\n",
       "      <td>WAP053</td>\n",
       "      <td>0.928291</td>\n",
       "    </tr>\n",
       "    <tr>\n",
       "      <th>2</th>\n",
       "      <td>WAP081</td>\n",
       "      <td>WAP080</td>\n",
       "      <td>0.911825</td>\n",
       "    </tr>\n",
       "    <tr>\n",
       "      <th>3</th>\n",
       "      <td>WAP102</td>\n",
       "      <td>WAP101</td>\n",
       "      <td>0.907423</td>\n",
       "    </tr>\n",
       "    <tr>\n",
       "      <th>4</th>\n",
       "      <td>WAP126</td>\n",
       "      <td>WAP125</td>\n",
       "      <td>0.921016</td>\n",
       "    </tr>\n",
       "    <tr>\n",
       "      <th>5</th>\n",
       "      <td>WAP130</td>\n",
       "      <td>WAP129</td>\n",
       "      <td>0.927243</td>\n",
       "    </tr>\n",
       "    <tr>\n",
       "      <th>6</th>\n",
       "      <td>WAP135</td>\n",
       "      <td>WAP134</td>\n",
       "      <td>0.914874</td>\n",
       "    </tr>\n",
       "    <tr>\n",
       "      <th>7</th>\n",
       "      <td>WAP137</td>\n",
       "      <td>WAP136</td>\n",
       "      <td>0.915606</td>\n",
       "    </tr>\n",
       "    <tr>\n",
       "      <th>8</th>\n",
       "      <td>WAP162</td>\n",
       "      <td>WAP161</td>\n",
       "      <td>0.916706</td>\n",
       "    </tr>\n",
       "    <tr>\n",
       "      <th>9</th>\n",
       "      <td>WAP167</td>\n",
       "      <td>WAP166</td>\n",
       "      <td>0.914518</td>\n",
       "    </tr>\n",
       "    <tr>\n",
       "      <th>10</th>\n",
       "      <td>WAP209</td>\n",
       "      <td>WAP208</td>\n",
       "      <td>0.999983</td>\n",
       "    </tr>\n",
       "    <tr>\n",
       "      <th>11</th>\n",
       "      <td>WAP342</td>\n",
       "      <td>WAP286</td>\n",
       "      <td>0.902291</td>\n",
       "    </tr>\n",
       "    <tr>\n",
       "      <th>12</th>\n",
       "      <td>WAP362</td>\n",
       "      <td>WAP305</td>\n",
       "      <td>0.904862</td>\n",
       "    </tr>\n",
       "    <tr>\n",
       "      <th>13</th>\n",
       "      <td>WAP413</td>\n",
       "      <td>WAP305</td>\n",
       "      <td>0.910382</td>\n",
       "    </tr>\n",
       "    <tr>\n",
       "      <th>14</th>\n",
       "      <td>WAP413</td>\n",
       "      <td>WAP362</td>\n",
       "      <td>0.938091</td>\n",
       "    </tr>\n",
       "    <tr>\n",
       "      <th>15</th>\n",
       "      <td>WAP498</td>\n",
       "      <td>WAP492</td>\n",
       "      <td>0.977382</td>\n",
       "    </tr>\n",
       "    <tr>\n",
       "      <th>16</th>\n",
       "      <td>WAP499</td>\n",
       "      <td>WAP493</td>\n",
       "      <td>0.966242</td>\n",
       "    </tr>\n",
       "    <tr>\n",
       "      <th>17</th>\n",
       "      <td>WAP513</td>\n",
       "      <td>WAP492</td>\n",
       "      <td>0.954953</td>\n",
       "    </tr>\n",
       "    <tr>\n",
       "      <th>18</th>\n",
       "      <td>WAP513</td>\n",
       "      <td>WAP498</td>\n",
       "      <td>0.968532</td>\n",
       "    </tr>\n",
       "    <tr>\n",
       "      <th>19</th>\n",
       "      <td>WAP514</td>\n",
       "      <td>WAP493</td>\n",
       "      <td>0.970403</td>\n",
       "    </tr>\n",
       "    <tr>\n",
       "      <th>20</th>\n",
       "      <td>WAP514</td>\n",
       "      <td>WAP499</td>\n",
       "      <td>0.995836</td>\n",
       "    </tr>\n",
       "    <tr>\n",
       "      <th>21</th>\n",
       "      <td>LONGITUDE</td>\n",
       "      <td>BUILDINGID</td>\n",
       "      <td>0.958374</td>\n",
       "    </tr>\n",
       "  </tbody>\n",
       "</table>\n",
       "</div>"
      ],
      "text/plain": [
       "           f1          f2      corr\n",
       "0      WAP016      WAP015  0.901935\n",
       "1      WAP054      WAP053  0.928291\n",
       "2      WAP081      WAP080  0.911825\n",
       "3      WAP102      WAP101  0.907423\n",
       "4      WAP126      WAP125  0.921016\n",
       "5      WAP130      WAP129  0.927243\n",
       "6      WAP135      WAP134  0.914874\n",
       "7      WAP137      WAP136  0.915606\n",
       "8      WAP162      WAP161  0.916706\n",
       "9      WAP167      WAP166  0.914518\n",
       "10     WAP209      WAP208  0.999983\n",
       "11     WAP342      WAP286  0.902291\n",
       "12     WAP362      WAP305  0.904862\n",
       "13     WAP413      WAP305  0.910382\n",
       "14     WAP413      WAP362  0.938091\n",
       "15     WAP498      WAP492  0.977382\n",
       "16     WAP499      WAP493  0.966242\n",
       "17     WAP513      WAP492  0.954953\n",
       "18     WAP513      WAP498  0.968532\n",
       "19     WAP514      WAP493  0.970403\n",
       "20     WAP514      WAP499  0.995836\n",
       "21  LONGITUDE  BUILDINGID  0.958374"
      ]
     },
     "execution_count": 5,
     "metadata": {},
     "output_type": "execute_result"
    }
   ],
   "source": [
    "mllib.get_correlation(trainingData,0.9)"
   ]
  },
  {
   "cell_type": "code",
   "execution_count": 6,
   "id": "268247ef-6fd8-48d6-98d5-0af21644b04f",
   "metadata": {
    "scrolled": true,
    "tags": []
   },
   "outputs": [
    {
     "data": {
      "text/html": [
       "<div>\n",
       "<style scoped>\n",
       "    .dataframe tbody tr th:only-of-type {\n",
       "        vertical-align: middle;\n",
       "    }\n",
       "\n",
       "    .dataframe tbody tr th {\n",
       "        vertical-align: top;\n",
       "    }\n",
       "\n",
       "    .dataframe thead th {\n",
       "        text-align: right;\n",
       "    }\n",
       "</style>\n",
       "<table border=\"1\" class=\"dataframe\">\n",
       "  <thead>\n",
       "    <tr style=\"text-align: right;\">\n",
       "      <th></th>\n",
       "      <th>f1</th>\n",
       "      <th>f2</th>\n",
       "      <th>corr</th>\n",
       "    </tr>\n",
       "  </thead>\n",
       "  <tbody>\n",
       "    <tr>\n",
       "      <th>0</th>\n",
       "      <td>WAP004</td>\n",
       "      <td>WAP003</td>\n",
       "      <td>0.999986</td>\n",
       "    </tr>\n",
       "    <tr>\n",
       "      <th>1</th>\n",
       "      <td>WAP022</td>\n",
       "      <td>WAP021</td>\n",
       "      <td>0.999981</td>\n",
       "    </tr>\n",
       "    <tr>\n",
       "      <th>2</th>\n",
       "      <td>WAP038</td>\n",
       "      <td>WAP037</td>\n",
       "      <td>0.911497</td>\n",
       "    </tr>\n",
       "    <tr>\n",
       "      <th>3</th>\n",
       "      <td>WAP054</td>\n",
       "      <td>WAP053</td>\n",
       "      <td>0.934433</td>\n",
       "    </tr>\n",
       "    <tr>\n",
       "      <th>4</th>\n",
       "      <td>WAP093</td>\n",
       "      <td>WAP092</td>\n",
       "      <td>1.000000</td>\n",
       "    </tr>\n",
       "    <tr>\n",
       "      <th>5</th>\n",
       "      <td>WAP106</td>\n",
       "      <td>WAP105</td>\n",
       "      <td>0.924768</td>\n",
       "    </tr>\n",
       "    <tr>\n",
       "      <th>6</th>\n",
       "      <td>WAP108</td>\n",
       "      <td>WAP107</td>\n",
       "      <td>0.999994</td>\n",
       "    </tr>\n",
       "    <tr>\n",
       "      <th>7</th>\n",
       "      <td>WAP120</td>\n",
       "      <td>WAP119</td>\n",
       "      <td>0.933640</td>\n",
       "    </tr>\n",
       "    <tr>\n",
       "      <th>8</th>\n",
       "      <td>WAP126</td>\n",
       "      <td>WAP125</td>\n",
       "      <td>0.920073</td>\n",
       "    </tr>\n",
       "    <tr>\n",
       "      <th>9</th>\n",
       "      <td>WAP137</td>\n",
       "      <td>WAP136</td>\n",
       "      <td>0.914158</td>\n",
       "    </tr>\n",
       "    <tr>\n",
       "      <th>10</th>\n",
       "      <td>WAP149</td>\n",
       "      <td>WAP148</td>\n",
       "      <td>0.905606</td>\n",
       "    </tr>\n",
       "    <tr>\n",
       "      <th>11</th>\n",
       "      <td>WAP156</td>\n",
       "      <td>WAP155</td>\n",
       "      <td>0.910416</td>\n",
       "    </tr>\n",
       "    <tr>\n",
       "      <th>12</th>\n",
       "      <td>WAP195</td>\n",
       "      <td>WAP190</td>\n",
       "      <td>1.000000</td>\n",
       "    </tr>\n",
       "    <tr>\n",
       "      <th>13</th>\n",
       "      <td>WAP196</td>\n",
       "      <td>WAP190</td>\n",
       "      <td>1.000000</td>\n",
       "    </tr>\n",
       "    <tr>\n",
       "      <th>14</th>\n",
       "      <td>WAP196</td>\n",
       "      <td>WAP195</td>\n",
       "      <td>1.000000</td>\n",
       "    </tr>\n",
       "    <tr>\n",
       "      <th>15</th>\n",
       "      <td>WAP204</td>\n",
       "      <td>WAP203</td>\n",
       "      <td>0.937157</td>\n",
       "    </tr>\n",
       "    <tr>\n",
       "      <th>16</th>\n",
       "      <td>WAP236</td>\n",
       "      <td>WAP233</td>\n",
       "      <td>1.000000</td>\n",
       "    </tr>\n",
       "    <tr>\n",
       "      <th>17</th>\n",
       "      <td>WAP246</td>\n",
       "      <td>WAP094</td>\n",
       "      <td>1.000000</td>\n",
       "    </tr>\n",
       "    <tr>\n",
       "      <th>18</th>\n",
       "      <td>WAP254</td>\n",
       "      <td>WAP226</td>\n",
       "      <td>0.992753</td>\n",
       "    </tr>\n",
       "    <tr>\n",
       "      <th>19</th>\n",
       "      <td>WAP349</td>\n",
       "      <td>WAP293</td>\n",
       "      <td>1.000000</td>\n",
       "    </tr>\n",
       "    <tr>\n",
       "      <th>20</th>\n",
       "      <td>WAP364</td>\n",
       "      <td>WAP245</td>\n",
       "      <td>1.000000</td>\n",
       "    </tr>\n",
       "    <tr>\n",
       "      <th>21</th>\n",
       "      <td>WAP429</td>\n",
       "      <td>WAP092</td>\n",
       "      <td>1.000000</td>\n",
       "    </tr>\n",
       "    <tr>\n",
       "      <th>22</th>\n",
       "      <td>WAP429</td>\n",
       "      <td>WAP093</td>\n",
       "      <td>1.000000</td>\n",
       "    </tr>\n",
       "    <tr>\n",
       "      <th>23</th>\n",
       "      <td>WAP498</td>\n",
       "      <td>WAP492</td>\n",
       "      <td>0.904401</td>\n",
       "    </tr>\n",
       "    <tr>\n",
       "      <th>24</th>\n",
       "      <td>WAP499</td>\n",
       "      <td>WAP493</td>\n",
       "      <td>0.956184</td>\n",
       "    </tr>\n",
       "    <tr>\n",
       "      <th>25</th>\n",
       "      <td>WAP500</td>\n",
       "      <td>WAP494</td>\n",
       "      <td>1.000000</td>\n",
       "    </tr>\n",
       "    <tr>\n",
       "      <th>26</th>\n",
       "      <td>LONGITUDE</td>\n",
       "      <td>BUILDINGID</td>\n",
       "      <td>0.959536</td>\n",
       "    </tr>\n",
       "  </tbody>\n",
       "</table>\n",
       "</div>"
      ],
      "text/plain": [
       "           f1          f2      corr\n",
       "0      WAP004      WAP003  0.999986\n",
       "1      WAP022      WAP021  0.999981\n",
       "2      WAP038      WAP037  0.911497\n",
       "3      WAP054      WAP053  0.934433\n",
       "4      WAP093      WAP092  1.000000\n",
       "5      WAP106      WAP105  0.924768\n",
       "6      WAP108      WAP107  0.999994\n",
       "7      WAP120      WAP119  0.933640\n",
       "8      WAP126      WAP125  0.920073\n",
       "9      WAP137      WAP136  0.914158\n",
       "10     WAP149      WAP148  0.905606\n",
       "11     WAP156      WAP155  0.910416\n",
       "12     WAP195      WAP190  1.000000\n",
       "13     WAP196      WAP190  1.000000\n",
       "14     WAP196      WAP195  1.000000\n",
       "15     WAP204      WAP203  0.937157\n",
       "16     WAP236      WAP233  1.000000\n",
       "17     WAP246      WAP094  1.000000\n",
       "18     WAP254      WAP226  0.992753\n",
       "19     WAP349      WAP293  1.000000\n",
       "20     WAP364      WAP245  1.000000\n",
       "21     WAP429      WAP092  1.000000\n",
       "22     WAP429      WAP093  1.000000\n",
       "23     WAP498      WAP492  0.904401\n",
       "24     WAP499      WAP493  0.956184\n",
       "25     WAP500      WAP494  1.000000\n",
       "26  LONGITUDE  BUILDINGID  0.959536"
      ]
     },
     "execution_count": 6,
     "metadata": {},
     "output_type": "execute_result"
    }
   ],
   "source": [
    "mllib.get_correlation(validationData,0.9)"
   ]
  },
  {
   "cell_type": "markdown",
   "id": "f0062796-6913-4982-b36f-4d4aafa77e94",
   "metadata": {},
   "source": [
    "## Find WAPs with high correlation COMMON for both datasets"
   ]
  },
  {
   "cell_type": "code",
   "execution_count": 7,
   "id": "3580ddde-0a4f-46f5-b727-0ac219f1c267",
   "metadata": {
    "scrolled": true,
    "tags": []
   },
   "outputs": [],
   "source": [
    "high_corr_features = mllib.get_correlation(trainingData,0.9)\n",
    "high_corr_features['dataset'] = 'train'"
   ]
  },
  {
   "cell_type": "code",
   "execution_count": 8,
   "id": "1cb735b8-ab3f-4875-8997-0839a1c680da",
   "metadata": {},
   "outputs": [],
   "source": [
    "high_corr_features_val = mllib.get_correlation(validationData,0.9)\n",
    "high_corr_features_val['dataset'] = 'validation'"
   ]
  },
  {
   "cell_type": "code",
   "execution_count": 9,
   "id": "031eebb0-f166-4e40-a3c7-f8a2e8faf7df",
   "metadata": {
    "scrolled": true,
    "tags": []
   },
   "outputs": [
    {
     "data": {
      "text/html": [
       "<div>\n",
       "<style scoped>\n",
       "    .dataframe tbody tr th:only-of-type {\n",
       "        vertical-align: middle;\n",
       "    }\n",
       "\n",
       "    .dataframe tbody tr th {\n",
       "        vertical-align: top;\n",
       "    }\n",
       "\n",
       "    .dataframe thead th {\n",
       "        text-align: right;\n",
       "    }\n",
       "</style>\n",
       "<table border=\"1\" class=\"dataframe\">\n",
       "  <thead>\n",
       "    <tr style=\"text-align: right;\">\n",
       "      <th></th>\n",
       "      <th>f1</th>\n",
       "      <th>f2</th>\n",
       "      <th>corr</th>\n",
       "      <th>dataset</th>\n",
       "    </tr>\n",
       "  </thead>\n",
       "  <tbody>\n",
       "    <tr>\n",
       "      <th>0</th>\n",
       "      <td>WAP016</td>\n",
       "      <td>WAP015</td>\n",
       "      <td>0.901935</td>\n",
       "      <td>train</td>\n",
       "    </tr>\n",
       "    <tr>\n",
       "      <th>1</th>\n",
       "      <td>WAP054</td>\n",
       "      <td>WAP053</td>\n",
       "      <td>0.928291</td>\n",
       "      <td>train</td>\n",
       "    </tr>\n",
       "    <tr>\n",
       "      <th>2</th>\n",
       "      <td>WAP081</td>\n",
       "      <td>WAP080</td>\n",
       "      <td>0.911825</td>\n",
       "      <td>train</td>\n",
       "    </tr>\n",
       "    <tr>\n",
       "      <th>3</th>\n",
       "      <td>WAP102</td>\n",
       "      <td>WAP101</td>\n",
       "      <td>0.907423</td>\n",
       "      <td>train</td>\n",
       "    </tr>\n",
       "    <tr>\n",
       "      <th>4</th>\n",
       "      <td>WAP126</td>\n",
       "      <td>WAP125</td>\n",
       "      <td>0.921016</td>\n",
       "      <td>train</td>\n",
       "    </tr>\n",
       "    <tr>\n",
       "      <th>5</th>\n",
       "      <td>WAP130</td>\n",
       "      <td>WAP129</td>\n",
       "      <td>0.927243</td>\n",
       "      <td>train</td>\n",
       "    </tr>\n",
       "    <tr>\n",
       "      <th>6</th>\n",
       "      <td>WAP135</td>\n",
       "      <td>WAP134</td>\n",
       "      <td>0.914874</td>\n",
       "      <td>train</td>\n",
       "    </tr>\n",
       "    <tr>\n",
       "      <th>7</th>\n",
       "      <td>WAP137</td>\n",
       "      <td>WAP136</td>\n",
       "      <td>0.915606</td>\n",
       "      <td>train</td>\n",
       "    </tr>\n",
       "    <tr>\n",
       "      <th>8</th>\n",
       "      <td>WAP162</td>\n",
       "      <td>WAP161</td>\n",
       "      <td>0.916706</td>\n",
       "      <td>train</td>\n",
       "    </tr>\n",
       "    <tr>\n",
       "      <th>9</th>\n",
       "      <td>WAP167</td>\n",
       "      <td>WAP166</td>\n",
       "      <td>0.914518</td>\n",
       "      <td>train</td>\n",
       "    </tr>\n",
       "    <tr>\n",
       "      <th>10</th>\n",
       "      <td>WAP209</td>\n",
       "      <td>WAP208</td>\n",
       "      <td>0.999983</td>\n",
       "      <td>train</td>\n",
       "    </tr>\n",
       "    <tr>\n",
       "      <th>11</th>\n",
       "      <td>WAP342</td>\n",
       "      <td>WAP286</td>\n",
       "      <td>0.902291</td>\n",
       "      <td>train</td>\n",
       "    </tr>\n",
       "    <tr>\n",
       "      <th>12</th>\n",
       "      <td>WAP362</td>\n",
       "      <td>WAP305</td>\n",
       "      <td>0.904862</td>\n",
       "      <td>train</td>\n",
       "    </tr>\n",
       "    <tr>\n",
       "      <th>13</th>\n",
       "      <td>WAP413</td>\n",
       "      <td>WAP305</td>\n",
       "      <td>0.910382</td>\n",
       "      <td>train</td>\n",
       "    </tr>\n",
       "    <tr>\n",
       "      <th>14</th>\n",
       "      <td>WAP413</td>\n",
       "      <td>WAP362</td>\n",
       "      <td>0.938091</td>\n",
       "      <td>train</td>\n",
       "    </tr>\n",
       "    <tr>\n",
       "      <th>15</th>\n",
       "      <td>WAP498</td>\n",
       "      <td>WAP492</td>\n",
       "      <td>0.977382</td>\n",
       "      <td>train</td>\n",
       "    </tr>\n",
       "    <tr>\n",
       "      <th>16</th>\n",
       "      <td>WAP499</td>\n",
       "      <td>WAP493</td>\n",
       "      <td>0.966242</td>\n",
       "      <td>train</td>\n",
       "    </tr>\n",
       "    <tr>\n",
       "      <th>17</th>\n",
       "      <td>WAP513</td>\n",
       "      <td>WAP492</td>\n",
       "      <td>0.954953</td>\n",
       "      <td>train</td>\n",
       "    </tr>\n",
       "    <tr>\n",
       "      <th>18</th>\n",
       "      <td>WAP513</td>\n",
       "      <td>WAP498</td>\n",
       "      <td>0.968532</td>\n",
       "      <td>train</td>\n",
       "    </tr>\n",
       "    <tr>\n",
       "      <th>19</th>\n",
       "      <td>WAP514</td>\n",
       "      <td>WAP493</td>\n",
       "      <td>0.970403</td>\n",
       "      <td>train</td>\n",
       "    </tr>\n",
       "    <tr>\n",
       "      <th>20</th>\n",
       "      <td>WAP514</td>\n",
       "      <td>WAP499</td>\n",
       "      <td>0.995836</td>\n",
       "      <td>train</td>\n",
       "    </tr>\n",
       "    <tr>\n",
       "      <th>21</th>\n",
       "      <td>LONGITUDE</td>\n",
       "      <td>BUILDINGID</td>\n",
       "      <td>0.958374</td>\n",
       "      <td>train</td>\n",
       "    </tr>\n",
       "    <tr>\n",
       "      <th>22</th>\n",
       "      <td>WAP004</td>\n",
       "      <td>WAP003</td>\n",
       "      <td>0.999986</td>\n",
       "      <td>validation</td>\n",
       "    </tr>\n",
       "    <tr>\n",
       "      <th>23</th>\n",
       "      <td>WAP022</td>\n",
       "      <td>WAP021</td>\n",
       "      <td>0.999981</td>\n",
       "      <td>validation</td>\n",
       "    </tr>\n",
       "    <tr>\n",
       "      <th>24</th>\n",
       "      <td>WAP038</td>\n",
       "      <td>WAP037</td>\n",
       "      <td>0.911497</td>\n",
       "      <td>validation</td>\n",
       "    </tr>\n",
       "    <tr>\n",
       "      <th>25</th>\n",
       "      <td>WAP054</td>\n",
       "      <td>WAP053</td>\n",
       "      <td>0.934433</td>\n",
       "      <td>validation</td>\n",
       "    </tr>\n",
       "    <tr>\n",
       "      <th>26</th>\n",
       "      <td>WAP093</td>\n",
       "      <td>WAP092</td>\n",
       "      <td>1.000000</td>\n",
       "      <td>validation</td>\n",
       "    </tr>\n",
       "    <tr>\n",
       "      <th>27</th>\n",
       "      <td>WAP106</td>\n",
       "      <td>WAP105</td>\n",
       "      <td>0.924768</td>\n",
       "      <td>validation</td>\n",
       "    </tr>\n",
       "    <tr>\n",
       "      <th>28</th>\n",
       "      <td>WAP108</td>\n",
       "      <td>WAP107</td>\n",
       "      <td>0.999994</td>\n",
       "      <td>validation</td>\n",
       "    </tr>\n",
       "    <tr>\n",
       "      <th>29</th>\n",
       "      <td>WAP120</td>\n",
       "      <td>WAP119</td>\n",
       "      <td>0.933640</td>\n",
       "      <td>validation</td>\n",
       "    </tr>\n",
       "    <tr>\n",
       "      <th>30</th>\n",
       "      <td>WAP126</td>\n",
       "      <td>WAP125</td>\n",
       "      <td>0.920073</td>\n",
       "      <td>validation</td>\n",
       "    </tr>\n",
       "    <tr>\n",
       "      <th>31</th>\n",
       "      <td>WAP137</td>\n",
       "      <td>WAP136</td>\n",
       "      <td>0.914158</td>\n",
       "      <td>validation</td>\n",
       "    </tr>\n",
       "    <tr>\n",
       "      <th>32</th>\n",
       "      <td>WAP149</td>\n",
       "      <td>WAP148</td>\n",
       "      <td>0.905606</td>\n",
       "      <td>validation</td>\n",
       "    </tr>\n",
       "    <tr>\n",
       "      <th>33</th>\n",
       "      <td>WAP156</td>\n",
       "      <td>WAP155</td>\n",
       "      <td>0.910416</td>\n",
       "      <td>validation</td>\n",
       "    </tr>\n",
       "    <tr>\n",
       "      <th>34</th>\n",
       "      <td>WAP195</td>\n",
       "      <td>WAP190</td>\n",
       "      <td>1.000000</td>\n",
       "      <td>validation</td>\n",
       "    </tr>\n",
       "    <tr>\n",
       "      <th>35</th>\n",
       "      <td>WAP196</td>\n",
       "      <td>WAP190</td>\n",
       "      <td>1.000000</td>\n",
       "      <td>validation</td>\n",
       "    </tr>\n",
       "    <tr>\n",
       "      <th>36</th>\n",
       "      <td>WAP196</td>\n",
       "      <td>WAP195</td>\n",
       "      <td>1.000000</td>\n",
       "      <td>validation</td>\n",
       "    </tr>\n",
       "    <tr>\n",
       "      <th>37</th>\n",
       "      <td>WAP204</td>\n",
       "      <td>WAP203</td>\n",
       "      <td>0.937157</td>\n",
       "      <td>validation</td>\n",
       "    </tr>\n",
       "    <tr>\n",
       "      <th>38</th>\n",
       "      <td>WAP236</td>\n",
       "      <td>WAP233</td>\n",
       "      <td>1.000000</td>\n",
       "      <td>validation</td>\n",
       "    </tr>\n",
       "    <tr>\n",
       "      <th>39</th>\n",
       "      <td>WAP246</td>\n",
       "      <td>WAP094</td>\n",
       "      <td>1.000000</td>\n",
       "      <td>validation</td>\n",
       "    </tr>\n",
       "    <tr>\n",
       "      <th>40</th>\n",
       "      <td>WAP254</td>\n",
       "      <td>WAP226</td>\n",
       "      <td>0.992753</td>\n",
       "      <td>validation</td>\n",
       "    </tr>\n",
       "    <tr>\n",
       "      <th>41</th>\n",
       "      <td>WAP349</td>\n",
       "      <td>WAP293</td>\n",
       "      <td>1.000000</td>\n",
       "      <td>validation</td>\n",
       "    </tr>\n",
       "    <tr>\n",
       "      <th>42</th>\n",
       "      <td>WAP364</td>\n",
       "      <td>WAP245</td>\n",
       "      <td>1.000000</td>\n",
       "      <td>validation</td>\n",
       "    </tr>\n",
       "    <tr>\n",
       "      <th>43</th>\n",
       "      <td>WAP429</td>\n",
       "      <td>WAP092</td>\n",
       "      <td>1.000000</td>\n",
       "      <td>validation</td>\n",
       "    </tr>\n",
       "    <tr>\n",
       "      <th>44</th>\n",
       "      <td>WAP429</td>\n",
       "      <td>WAP093</td>\n",
       "      <td>1.000000</td>\n",
       "      <td>validation</td>\n",
       "    </tr>\n",
       "    <tr>\n",
       "      <th>45</th>\n",
       "      <td>WAP498</td>\n",
       "      <td>WAP492</td>\n",
       "      <td>0.904401</td>\n",
       "      <td>validation</td>\n",
       "    </tr>\n",
       "    <tr>\n",
       "      <th>46</th>\n",
       "      <td>WAP499</td>\n",
       "      <td>WAP493</td>\n",
       "      <td>0.956184</td>\n",
       "      <td>validation</td>\n",
       "    </tr>\n",
       "    <tr>\n",
       "      <th>47</th>\n",
       "      <td>WAP500</td>\n",
       "      <td>WAP494</td>\n",
       "      <td>1.000000</td>\n",
       "      <td>validation</td>\n",
       "    </tr>\n",
       "    <tr>\n",
       "      <th>48</th>\n",
       "      <td>LONGITUDE</td>\n",
       "      <td>BUILDINGID</td>\n",
       "      <td>0.959536</td>\n",
       "      <td>validation</td>\n",
       "    </tr>\n",
       "  </tbody>\n",
       "</table>\n",
       "</div>"
      ],
      "text/plain": [
       "           f1          f2      corr     dataset\n",
       "0      WAP016      WAP015  0.901935       train\n",
       "1      WAP054      WAP053  0.928291       train\n",
       "2      WAP081      WAP080  0.911825       train\n",
       "3      WAP102      WAP101  0.907423       train\n",
       "4      WAP126      WAP125  0.921016       train\n",
       "5      WAP130      WAP129  0.927243       train\n",
       "6      WAP135      WAP134  0.914874       train\n",
       "7      WAP137      WAP136  0.915606       train\n",
       "8      WAP162      WAP161  0.916706       train\n",
       "9      WAP167      WAP166  0.914518       train\n",
       "10     WAP209      WAP208  0.999983       train\n",
       "11     WAP342      WAP286  0.902291       train\n",
       "12     WAP362      WAP305  0.904862       train\n",
       "13     WAP413      WAP305  0.910382       train\n",
       "14     WAP413      WAP362  0.938091       train\n",
       "15     WAP498      WAP492  0.977382       train\n",
       "16     WAP499      WAP493  0.966242       train\n",
       "17     WAP513      WAP492  0.954953       train\n",
       "18     WAP513      WAP498  0.968532       train\n",
       "19     WAP514      WAP493  0.970403       train\n",
       "20     WAP514      WAP499  0.995836       train\n",
       "21  LONGITUDE  BUILDINGID  0.958374       train\n",
       "22     WAP004      WAP003  0.999986  validation\n",
       "23     WAP022      WAP021  0.999981  validation\n",
       "24     WAP038      WAP037  0.911497  validation\n",
       "25     WAP054      WAP053  0.934433  validation\n",
       "26     WAP093      WAP092  1.000000  validation\n",
       "27     WAP106      WAP105  0.924768  validation\n",
       "28     WAP108      WAP107  0.999994  validation\n",
       "29     WAP120      WAP119  0.933640  validation\n",
       "30     WAP126      WAP125  0.920073  validation\n",
       "31     WAP137      WAP136  0.914158  validation\n",
       "32     WAP149      WAP148  0.905606  validation\n",
       "33     WAP156      WAP155  0.910416  validation\n",
       "34     WAP195      WAP190  1.000000  validation\n",
       "35     WAP196      WAP190  1.000000  validation\n",
       "36     WAP196      WAP195  1.000000  validation\n",
       "37     WAP204      WAP203  0.937157  validation\n",
       "38     WAP236      WAP233  1.000000  validation\n",
       "39     WAP246      WAP094  1.000000  validation\n",
       "40     WAP254      WAP226  0.992753  validation\n",
       "41     WAP349      WAP293  1.000000  validation\n",
       "42     WAP364      WAP245  1.000000  validation\n",
       "43     WAP429      WAP092  1.000000  validation\n",
       "44     WAP429      WAP093  1.000000  validation\n",
       "45     WAP498      WAP492  0.904401  validation\n",
       "46     WAP499      WAP493  0.956184  validation\n",
       "47     WAP500      WAP494  1.000000  validation\n",
       "48  LONGITUDE  BUILDINGID  0.959536  validation"
      ]
     },
     "execution_count": 9,
     "metadata": {},
     "output_type": "execute_result"
    }
   ],
   "source": [
    "high_corr_features = high_corr_features.append(high_corr_features_val,ignore_index=True)\n",
    "# high_corr_features.sort_values(by='corr')\n",
    "high_corr_features"
   ]
  },
  {
   "cell_type": "code",
   "execution_count": 10,
   "id": "20c885a5-904d-4e89-a435-01b8f75584d8",
   "metadata": {},
   "outputs": [],
   "source": [
    "# pd.set_option('display.max_rows', True)"
   ]
  },
  {
   "cell_type": "code",
   "execution_count": 11,
   "id": "3c032a95-3801-454a-ad87-711851d5e0f7",
   "metadata": {},
   "outputs": [],
   "source": [
    "# show high correlation features present in both datasets\n",
    "# count frequency\n",
    "common_high_corr_features = high_corr_features.groupby(['f1','f2']).count().sort_values(by='corr',ascending=False)\n",
    "# rename column corr\n",
    "common_high_corr_features.rename(columns={\"corr\": \"count\"},inplace = True)\n",
    "# drop 'dataset' column, it has the same information like corr (a frequency)\n",
    "common_high_corr_features.drop(columns='dataset',inplace=True)\n"
   ]
  },
  {
   "cell_type": "code",
   "execution_count": 12,
   "id": "eaeffb45-2031-4768-8305-b031d3c49e03",
   "metadata": {},
   "outputs": [],
   "source": [
    "common_high_corr_features_drop = common_high_corr_features.query('count > 1').reset_index()['f2']"
   ]
  },
  {
   "cell_type": "code",
   "execution_count": 13,
   "id": "23a80566-b3e7-4207-b833-5648e7783b07",
   "metadata": {},
   "outputs": [
    {
     "data": {
      "text/plain": [
       "0    BUILDINGID\n",
       "1        WAP053\n",
       "2        WAP493\n",
       "3        WAP492\n",
       "4        WAP136\n",
       "5        WAP125\n",
       "Name: f2, dtype: object"
      ]
     },
     "execution_count": 13,
     "metadata": {},
     "output_type": "execute_result"
    }
   ],
   "source": [
    "common_high_corr_features_drop"
   ]
  },
  {
   "cell_type": "code",
   "execution_count": 14,
   "id": "a26b17a0-87d0-4126-a109-8dfe35e3a38c",
   "metadata": {},
   "outputs": [],
   "source": [
    "# filter out everything except WAPs\n",
    "col_drop_high_corr = [ col for col in common_high_corr_features_drop if col[0:3] == 'WAP']"
   ]
  },
  {
   "cell_type": "code",
   "execution_count": 15,
   "id": "167f1965-9599-4ee8-b8fd-1e5ee581c49a",
   "metadata": {},
   "outputs": [
    {
     "data": {
      "text/plain": [
       "['WAP053', 'WAP493', 'WAP492', 'WAP136', 'WAP125']"
      ]
     },
     "execution_count": 15,
     "metadata": {},
     "output_type": "execute_result"
    }
   ],
   "source": [
    "col_drop_high_corr"
   ]
  },
  {
   "cell_type": "markdown",
   "id": "dd4df45d-ae0e-4cdc-ad83-2cb79012e1cc",
   "metadata": {},
   "source": [
    "## Find added/removed WAPs at building/floor"
   ]
  },
  {
   "cell_type": "code",
   "execution_count": 16,
   "id": "57c22b4b-0874-4b6d-9b95-f3c15e17c0c1",
   "metadata": {
    "scrolled": true,
    "tags": []
   },
   "outputs": [],
   "source": [
    "# set bulding and floor\n",
    "bld = [0,1,2]\n",
    "flr = [0,1,2,3]\n",
    "# get wap signals for building and floor\n",
    "waps_train =  trainingData.query('(BUILDINGID in @bld) & (FLOOR in @flr)').drop(columns = ['LONGITUDE','LATITUDE','FLOOR','BUILDINGID','SPACEID','RELATIVEPOSITION','USERID','PHONEID','TIMESTAMP'])\n",
    "waps_val =  validationData.query('(BUILDINGID in @bld) & (FLOOR in @flr)').drop(columns = ['LONGITUDE','LATITUDE','FLOOR','BUILDINGID','SPACEID','RELATIVEPOSITION','USERID','PHONEID','TIMESTAMP'])\n",
    "# get variance of signal\n",
    "waps_train_var = pd.DataFrame(waps_train.var(),columns=['train'])\n",
    "waps_val_var = waps_val.var()"
   ]
  },
  {
   "cell_type": "code",
   "execution_count": 17,
   "id": "b8a82434-2868-4f47-9db6-8d653372eeb2",
   "metadata": {
    "scrolled": true,
    "tags": []
   },
   "outputs": [
    {
     "data": {
      "text/html": [
       "<div>\n",
       "<style scoped>\n",
       "    .dataframe tbody tr th:only-of-type {\n",
       "        vertical-align: middle;\n",
       "    }\n",
       "\n",
       "    .dataframe tbody tr th {\n",
       "        vertical-align: top;\n",
       "    }\n",
       "\n",
       "    .dataframe thead th {\n",
       "        text-align: right;\n",
       "    }\n",
       "</style>\n",
       "<table border=\"1\" class=\"dataframe\">\n",
       "  <thead>\n",
       "    <tr style=\"text-align: right;\">\n",
       "      <th></th>\n",
       "      <th>train</th>\n",
       "      <th>validation</th>\n",
       "    </tr>\n",
       "  </thead>\n",
       "  <tbody>\n",
       "    <tr>\n",
       "      <th>WAP001</th>\n",
       "      <td>36.431860</td>\n",
       "      <td>269.487931</td>\n",
       "    </tr>\n",
       "    <tr>\n",
       "      <th>WAP002</th>\n",
       "      <td>35.583696</td>\n",
       "      <td>0.000000</td>\n",
       "    </tr>\n",
       "    <tr>\n",
       "      <th>WAP003</th>\n",
       "      <td>0.000000</td>\n",
       "      <td>64.486378</td>\n",
       "    </tr>\n",
       "    <tr>\n",
       "      <th>WAP004</th>\n",
       "      <td>0.000000</td>\n",
       "      <td>64.491980</td>\n",
       "    </tr>\n",
       "    <tr>\n",
       "      <th>WAP005</th>\n",
       "      <td>59.063430</td>\n",
       "      <td>0.000000</td>\n",
       "    </tr>\n",
       "    <tr>\n",
       "      <th>...</th>\n",
       "      <td>...</td>\n",
       "      <td>...</td>\n",
       "    </tr>\n",
       "    <tr>\n",
       "      <th>WAP516</th>\n",
       "      <td>3963.715694</td>\n",
       "      <td>0.000000</td>\n",
       "    </tr>\n",
       "    <tr>\n",
       "      <th>WAP517</th>\n",
       "      <td>5090.060379</td>\n",
       "      <td>0.000000</td>\n",
       "    </tr>\n",
       "    <tr>\n",
       "      <th>WAP518</th>\n",
       "      <td>42.822618</td>\n",
       "      <td>0.000000</td>\n",
       "    </tr>\n",
       "    <tr>\n",
       "      <th>WAP519</th>\n",
       "      <td>6.118490</td>\n",
       "      <td>0.000000</td>\n",
       "    </tr>\n",
       "    <tr>\n",
       "      <th>WAP520</th>\n",
       "      <td>0.000000</td>\n",
       "      <td>28.242537</td>\n",
       "    </tr>\n",
       "  </tbody>\n",
       "</table>\n",
       "<p>520 rows × 2 columns</p>\n",
       "</div>"
      ],
      "text/plain": [
       "              train  validation\n",
       "WAP001    36.431860  269.487931\n",
       "WAP002    35.583696    0.000000\n",
       "WAP003     0.000000   64.486378\n",
       "WAP004     0.000000   64.491980\n",
       "WAP005    59.063430    0.000000\n",
       "...             ...         ...\n",
       "WAP516  3963.715694    0.000000\n",
       "WAP517  5090.060379    0.000000\n",
       "WAP518    42.822618    0.000000\n",
       "WAP519     6.118490    0.000000\n",
       "WAP520     0.000000   28.242537\n",
       "\n",
       "[520 rows x 2 columns]"
      ]
     },
     "execution_count": 17,
     "metadata": {},
     "output_type": "execute_result"
    }
   ],
   "source": [
    "# common variance table for train and validation\n",
    "waps_train_var['validation'] = waps_val.var()\n",
    "waps_train_var"
   ]
  },
  {
   "cell_type": "code",
   "execution_count": 18,
   "id": "5f6ae35f-8b12-47f4-a23d-e8da091907a9",
   "metadata": {
    "scrolled": true,
    "tags": []
   },
   "outputs": [
    {
     "data": {
      "text/plain": [
       "Index(['WAP003', 'WAP004', 'WAP092', 'WAP093', 'WAP094', 'WAP095', 'WAP152',\n",
       "       'WAP158', 'WAP159', 'WAP160', 'WAP215', 'WAP217', 'WAP226', 'WAP227',\n",
       "       'WAP238', 'WAP239', 'WAP240', 'WAP241', 'WAP242', 'WAP243', 'WAP244',\n",
       "       'WAP245', 'WAP246', 'WAP247', 'WAP254', 'WAP293', 'WAP296', 'WAP301',\n",
       "       'WAP303', 'WAP304', 'WAP307', 'WAP333', 'WAP349', 'WAP353', 'WAP360',\n",
       "       'WAP365', 'WAP416', 'WAP419', 'WAP423', 'WAP429', 'WAP433', 'WAP438',\n",
       "       'WAP441', 'WAP442', 'WAP444', 'WAP445', 'WAP451', 'WAP458', 'WAP482',\n",
       "       'WAP485', 'WAP487', 'WAP488', 'WAP491', 'WAP497', 'WAP520'],\n",
       "      dtype='object')"
      ]
     },
     "execution_count": 18,
     "metadata": {},
     "output_type": "execute_result"
    }
   ],
   "source": [
    "# ADDED WAPs\n",
    "# if variance was = 0 and now > 0 - \n",
    "added = waps_train_var.query('(train == 0 and validation != 0)')\n",
    "added.index"
   ]
  },
  {
   "cell_type": "code",
   "execution_count": 19,
   "id": "9bf4a883-99a6-466f-a6c2-1f6cf52fd793",
   "metadata": {
    "scrolled": true,
    "tags": []
   },
   "outputs": [
    {
     "data": {
      "text/plain": [
       "Index(['WAP002', 'WAP005', 'WAP006', 'WAP007', 'WAP079', 'WAP133', 'WAP157',\n",
       "       'WAP163', 'WAP193', 'WAP194',\n",
       "       ...\n",
       "       'WAP510', 'WAP511', 'WAP512', 'WAP513', 'WAP514', 'WAP515', 'WAP516',\n",
       "       'WAP517', 'WAP518', 'WAP519'],\n",
       "      dtype='object', length=151)"
      ]
     },
     "execution_count": 19,
     "metadata": {},
     "output_type": "execute_result"
    }
   ],
   "source": [
    "# REMOVED WAPs\n",
    "removed = waps_train_var.query('(train != 0 and validation == 0)')\n",
    "removed.index"
   ]
  },
  {
   "cell_type": "code",
   "execution_count": 20,
   "id": "a2cfb8fc-b34b-4d2b-ada2-48674c53a12c",
   "metadata": {},
   "outputs": [
    {
     "data": {
      "text/plain": [
       "Index(['WAP220', 'WAP427', 'WAP466'], dtype='object')"
      ]
     },
     "execution_count": 20,
     "metadata": {},
     "output_type": "execute_result"
    }
   ],
   "source": [
    "# NOT USED WAPs\n",
    "not_used = waps_train_var.query('(train == 0 and validation == 0)')\n",
    "not_used.index"
   ]
  },
  {
   "cell_type": "markdown",
   "id": "dcffda53-2ca5-4dee-a49a-2a67b772ddd9",
   "metadata": {},
   "source": [
    "## Find wrongly assigned WAPs in buildings 1 and 3"
   ]
  },
  {
   "cell_type": "code",
   "execution_count": 21,
   "id": "7bdd667b-fe5f-48f6-9672-7b2dfb001e91",
   "metadata": {},
   "outputs": [],
   "source": [
    "# show only WAPS\n",
    "# bld = [0]\n",
    "# trainingData.query('BUILDINGID in @bld')[[ col for col in trainingData.columns if col[0:3] == 'WAP']].var()"
   ]
  },
  {
   "cell_type": "code",
   "execution_count": null,
   "id": "181d136d-8075-4c23-8b3f-065a63a1233a",
   "metadata": {},
   "outputs": [],
   "source": []
  },
  {
   "cell_type": "markdown",
   "id": "9cbad1c7-c062-41c1-8b52-bceee2fa212c",
   "metadata": {},
   "source": [
    "## buildings and floors"
   ]
  },
  {
   "cell_type": "code",
   "execution_count": 22,
   "id": "2ee47965-3c89-4539-aa11-9028113fd37c",
   "metadata": {
    "tags": []
   },
   "outputs": [
    {
     "data": {
      "text/html": [
       "<div>\n",
       "<style scoped>\n",
       "    .dataframe tbody tr th:only-of-type {\n",
       "        vertical-align: middle;\n",
       "    }\n",
       "\n",
       "    .dataframe tbody tr th {\n",
       "        vertical-align: top;\n",
       "    }\n",
       "\n",
       "    .dataframe thead th {\n",
       "        text-align: right;\n",
       "    }\n",
       "</style>\n",
       "<table border=\"1\" class=\"dataframe\">\n",
       "  <thead>\n",
       "    <tr style=\"text-align: right;\">\n",
       "      <th></th>\n",
       "      <th></th>\n",
       "      <th>FLOOR_count</th>\n",
       "    </tr>\n",
       "    <tr>\n",
       "      <th>BUILDINGID</th>\n",
       "      <th>FLOOR</th>\n",
       "      <th></th>\n",
       "    </tr>\n",
       "  </thead>\n",
       "  <tbody>\n",
       "    <tr>\n",
       "      <th rowspan=\"4\" valign=\"top\">0</th>\n",
       "      <th>0</th>\n",
       "      <td>1059</td>\n",
       "    </tr>\n",
       "    <tr>\n",
       "      <th>1</th>\n",
       "      <td>1356</td>\n",
       "    </tr>\n",
       "    <tr>\n",
       "      <th>2</th>\n",
       "      <td>1443</td>\n",
       "    </tr>\n",
       "    <tr>\n",
       "      <th>3</th>\n",
       "      <td>1391</td>\n",
       "    </tr>\n",
       "    <tr>\n",
       "      <th rowspan=\"4\" valign=\"top\">1</th>\n",
       "      <th>0</th>\n",
       "      <td>1368</td>\n",
       "    </tr>\n",
       "    <tr>\n",
       "      <th>1</th>\n",
       "      <td>1484</td>\n",
       "    </tr>\n",
       "    <tr>\n",
       "      <th>2</th>\n",
       "      <td>1396</td>\n",
       "    </tr>\n",
       "    <tr>\n",
       "      <th>3</th>\n",
       "      <td>948</td>\n",
       "    </tr>\n",
       "    <tr>\n",
       "      <th rowspan=\"5\" valign=\"top\">2</th>\n",
       "      <th>0</th>\n",
       "      <td>1942</td>\n",
       "    </tr>\n",
       "    <tr>\n",
       "      <th>1</th>\n",
       "      <td>2162</td>\n",
       "    </tr>\n",
       "    <tr>\n",
       "      <th>2</th>\n",
       "      <td>1577</td>\n",
       "    </tr>\n",
       "    <tr>\n",
       "      <th>3</th>\n",
       "      <td>2709</td>\n",
       "    </tr>\n",
       "    <tr>\n",
       "      <th>4</th>\n",
       "      <td>1102</td>\n",
       "    </tr>\n",
       "  </tbody>\n",
       "</table>\n",
       "</div>"
      ],
      "text/plain": [
       "                  FLOOR_count\n",
       "BUILDINGID FLOOR             \n",
       "0          0             1059\n",
       "           1             1356\n",
       "           2             1443\n",
       "           3             1391\n",
       "1          0             1368\n",
       "           1             1484\n",
       "           2             1396\n",
       "           3              948\n",
       "2          0             1942\n",
       "           1             2162\n",
       "           2             1577\n",
       "           3             2709\n",
       "           4             1102"
      ]
     },
     "execution_count": 22,
     "metadata": {},
     "output_type": "execute_result"
    }
   ],
   "source": [
    "# how many buildings and floors?\n",
    "buildings_floors = trainingData.groupby(['BUILDINGID','FLOOR']).agg({'FLOOR':['count']}) \n",
    "buildings_floors.columns = ['_'.join(col) for col in buildings_floors.columns]\n",
    "buildings_floors"
   ]
  },
  {
   "cell_type": "markdown",
   "id": "a0fbdfef-5857-492e-ba85-b14e177c1b9e",
   "metadata": {},
   "source": [
    "## rooms"
   ]
  },
  {
   "cell_type": "code",
   "execution_count": 23,
   "id": "1f8439da-c887-4da0-ba27-08535168c696",
   "metadata": {},
   "outputs": [
    {
     "data": {
      "text/plain": [
       "array([  1,   2,   3,   4,   5,   6,   7,   8,   9,  10,  11,  12,  13,\n",
       "        14,  15,  16,  17,  18,  22,  25,  26,  27,  28,  29,  30, 101,\n",
       "       102, 103, 104, 105, 106, 107, 108, 109, 110, 111, 112, 113, 114,\n",
       "       115, 116, 117, 118, 119, 120, 121, 122, 123, 124, 125, 126, 127,\n",
       "       128, 129, 130, 131, 132, 133, 134, 135, 136, 137, 138, 139, 140,\n",
       "       141, 142, 143, 144, 146, 147, 201, 202, 203, 204, 205, 206, 207,\n",
       "       208, 209, 210, 211, 212, 213, 214, 215, 216, 217, 218, 219, 220,\n",
       "       221, 222, 223, 224, 225, 226, 227, 228, 229, 230, 231, 232, 233,\n",
       "       234, 235, 236, 237, 238, 239, 240, 241, 242, 243, 244, 245, 246,\n",
       "       247, 248, 249, 250, 253, 254], dtype=int64)"
      ]
     },
     "execution_count": 23,
     "metadata": {},
     "output_type": "execute_result"
    }
   ],
   "source": [
    "# range of rooms\n",
    "import numpy as np\n",
    "np.sort(trainingData.SPACEID.unique())"
   ]
  },
  {
   "cell_type": "code",
   "execution_count": 24,
   "id": "c82f2723-fd23-4a37-b062-bcbe3efa1686",
   "metadata": {},
   "outputs": [
    {
     "data": {
      "text/plain": [
       "array([102, 106, 107, 110, 111, 112, 113, 114, 115, 116, 117, 118, 119,\n",
       "       120, 121, 122, 123, 125, 126, 127, 128, 129, 130, 131, 132, 133,\n",
       "       134, 201, 202, 208, 209, 211, 212, 213, 214, 215, 216, 218, 219,\n",
       "       220, 222, 224, 225, 226, 227, 229, 230, 231, 232, 233, 234, 235,\n",
       "       236, 237], dtype=int64)"
      ]
     },
     "execution_count": 24,
     "metadata": {},
     "output_type": "execute_result"
    }
   ],
   "source": [
    "# rooms 0 Floor\n",
    "np.sort(trainingData.query('BUILDINGID == 0 & FLOOR == 0').SPACEID.unique())"
   ]
  },
  {
   "cell_type": "code",
   "execution_count": 25,
   "id": "076014b6-20f2-427b-9a6a-d3d1e4098a9f",
   "metadata": {},
   "outputs": [
    {
     "data": {
      "text/plain": [
       "array([101, 102, 103, 104, 105, 106, 107, 108, 109, 110, 111, 112, 113,\n",
       "       114, 115, 116, 117, 118, 119, 120, 121, 122, 123, 124, 125, 126,\n",
       "       127, 128, 129, 130, 136, 137, 138, 201, 202, 203, 204, 205, 206,\n",
       "       207, 208, 209, 210, 211, 212, 213, 214, 215, 216, 217, 218, 219,\n",
       "       220, 221, 222, 223, 224, 225, 226, 227, 228, 229, 230, 233, 234,\n",
       "       235], dtype=int64)"
      ]
     },
     "execution_count": 25,
     "metadata": {},
     "output_type": "execute_result"
    }
   ],
   "source": [
    "# rooms 1 Floor\n",
    "np.sort(trainingData.query('BUILDINGID == 0 & FLOOR == 1').SPACEID.unique())"
   ]
  },
  {
   "cell_type": "markdown",
   "id": "b2c84f56-da3f-4452-8dcd-45bd0ce2ef16",
   "metadata": {},
   "source": [
    "## position (LAT,LONG) of measurements"
   ]
  },
  {
   "cell_type": "code",
   "execution_count": 26,
   "id": "3fd020ab-7b10-4e61-bcfe-71f43066270c",
   "metadata": {},
   "outputs": [
    {
     "data": {
      "image/png": "[encoded data removed]",
      "text/plain": [
       "<Figure size 1080x1080 with 1 Axes>"
      ]
     },
     "metadata": {
      "needs_background": "light"
     },
     "output_type": "display_data"
    }
   ],
   "source": [
    "# show all positions of the buildings\n",
    "import seaborn as sns\n",
    "import matplotlib.pyplot as plt\n",
    "data_pos = trainingData\n",
    "plt.figure(figsize = (15,15))\n",
    "plt.title(\"Positions\")\n",
    "plt.xlabel(\"LONGITUDE\")\n",
    "sns.scatterplot(data = data_pos, x = 'LONGITUDE', y = 'LATITUDE',hue='BUILDINGID',palette='deep')\n",
    "plt.show()"
   ]
  },
  {
   "cell_type": "code",
   "execution_count": 27,
   "id": "b3c646e2-fe71-4142-a436-6c9f7231458c",
   "metadata": {},
   "outputs": [
    {
     "data": {
      "image/png": "[encoded data removed]",
      "text/plain": [
       "<Figure size 1080x1080 with 1 Axes>"
      ]
     },
     "metadata": {
      "needs_background": "light"
     },
     "output_type": "display_data"
    }
   ],
   "source": [
    "# show all positions of the buildings\n",
    "import seaborn as sns\n",
    "import matplotlib.pyplot as plt\n",
    "data_pos = validationData\n",
    "plt.figure(figsize = (15,15))\n",
    "plt.title(\"Positions\")\n",
    "plt.xlabel(\"LONGITUDE\")\n",
    "sns.scatterplot(data = data_pos, x = 'LONGITUDE', y = 'LATITUDE',hue='BUILDINGID',palette='deep')\n",
    "plt.show()"
   ]
  },
  {
   "cell_type": "code",
   "execution_count": 28,
   "id": "2dd1e95e-bb80-4577-8d28-9a51210821bc",
   "metadata": {},
   "outputs": [
    {
     "data": {
      "text/plain": [
       "(-7691.338399998844, -7300.818990092725)"
      ]
     },
     "execution_count": 28,
     "metadata": {},
     "output_type": "execute_result"
    }
   ],
   "source": [
    "# range of LONGITUDE\n",
    "min(trainingData['LONGITUDE']), max(trainingData['LONGITUDE'])"
   ]
  },
  {
   "cell_type": "code",
   "execution_count": 29,
   "id": "9a6f21fe-dca3-4e29-9301-07fb59016caa",
   "metadata": {},
   "outputs": [
    {
     "data": {
      "text/plain": [
       "(4864745.745015971, 4865016.687799998)"
      ]
     },
     "execution_count": 29,
     "metadata": {},
     "output_type": "execute_result"
    }
   ],
   "source": [
    "# range of LATITUDE\n",
    "min(trainingData['LATITUDE']), max(trainingData['LATITUDE'])"
   ]
  },
  {
   "cell_type": "code",
   "execution_count": 30,
   "id": "6a459a07-e787-473c-904b-5dc5dcfdc58b",
   "metadata": {},
   "outputs": [
    {
     "data": {
      "image/png": "[encoded data removed]",
      "text/plain": [
       "<Figure size 1080x1080 with 1 Axes>"
      ]
     },
     "metadata": {
      "needs_background": "light"
     },
     "output_type": "display_data"
    }
   ],
   "source": [
    "# check given floor and building\n",
    "bulding = 0\n",
    "floor = 2\n",
    "import seaborn as sns\n",
    "data_pos = trainingData.query('BUILDINGID == @bulding & FLOOR == @floor')\n",
    "plt.figure(figsize = (15,15))\n",
    "plt.title(\"Rooms\")\n",
    "plt.xlabel(\"LONGITUDE\")\n",
    "# plt.xlim(data_pos['LONGITUDE'].min()-10,data_pos['LONGITUDE'].max()+10)\n",
    "# plt.ylim(data_pos['LATITUDE'].min()-10,data_pos['LATITUDE'].max()+10)\n",
    "# plt.ylim(0,900)\n",
    "sns.scatterplot(data = data_pos, x = 'LONGITUDE', y = 'LATITUDE', hue = 'SPACEID', palette='bright')\n",
    "# Put the legend out of the figure\n",
    "plt.legend(bbox_to_anchor=(1.05, 1), loc=2, borderaxespad=0.)\n",
    "plt.show()"
   ]
  },
  {
   "cell_type": "code",
   "execution_count": 31,
   "id": "09b3a895-5746-4f92-a144-f6b52a0d09cc",
   "metadata": {},
   "outputs": [
    {
     "data": {
      "text/plain": [
       "(array([5249.,    0.,    0.,    0.,    0., 5196.,    0.,    0.,    0.,\n",
       "        9492.]),\n",
       " array([0. , 0.2, 0.4, 0.6, 0.8, 1. , 1.2, 1.4, 1.6, 1.8, 2. ]),\n",
       " <BarContainer object of 10 artists>)"
      ]
     },
     "execution_count": 31,
     "metadata": {},
     "output_type": "execute_result"
    },
    {
     "data": {
      "image/png": "[encoded data removed]",
      "text/plain": [
       "<Figure size 432x288 with 1 Axes>"
      ]
     },
     "metadata": {
      "needs_background": "light"
     },
     "output_type": "display_data"
    }
   ],
   "source": [
    "# observation distribution among buildings (where measurements were taken?)\n",
    "import matplotlib.pyplot as plt\n",
    "plt.hist(trainingData.BUILDINGID)"
   ]
  },
  {
   "cell_type": "code",
   "execution_count": 32,
   "id": "5cbae526-63cb-4507-96e1-d8e2cf7cfeed",
   "metadata": {},
   "outputs": [
    {
     "data": {
      "text/plain": [
       "(array([536.,   0.,   0.,   0.,   0., 307.,   0.,   0.,   0., 268.]),\n",
       " array([0. , 0.2, 0.4, 0.6, 0.8, 1. , 1.2, 1.4, 1.6, 1.8, 2. ]),\n",
       " <BarContainer object of 10 artists>)"
      ]
     },
     "execution_count": 32,
     "metadata": {},
     "output_type": "execute_result"
    },
    {
     "data": {
      "image/png": "[encoded data removed]",
      "text/plain": [
       "<Figure size 432x288 with 1 Axes>"
      ]
     },
     "metadata": {
      "needs_background": "light"
     },
     "output_type": "display_data"
    }
   ],
   "source": [
    "plt.hist(validationData.BUILDINGID)"
   ]
  },
  {
   "cell_type": "markdown",
   "id": "fed0727e-6fdf-4e44-9127-ebc4e7c7387c",
   "metadata": {},
   "source": [
    "## 1st problem in validation dataset"
   ]
  },
  {
   "cell_type": "markdown",
   "id": "27d7911b-e8db-4a4c-a9fa-4c47b07b9f33",
   "metadata": {},
   "source": [
    "SPACEID fields in measurements are always zero. \n",
    "It looks like  this data was simply forgotten."
   ]
  },
  {
   "cell_type": "code",
   "execution_count": 33,
   "id": "8d1e10d7-f0a8-469b-bc06-c12a639685a3",
   "metadata": {},
   "outputs": [
    {
     "data": {
      "text/plain": [
       "array([0], dtype=int64)"
      ]
     },
     "execution_count": 33,
     "metadata": {},
     "output_type": "execute_result"
    }
   ],
   "source": [
    "validationData.SPACEID.unique()"
   ]
  },
  {
   "cell_type": "markdown",
   "id": "ced1fdbc-bd7e-4a1a-a731-d17d9535eb00",
   "metadata": {},
   "source": [
    "## filling missing SPACEID values using trainingData "
   ]
  },
  {
   "cell_type": "markdown",
   "id": "7fef448d-200e-409b-b3e6-c11e74a22b37",
   "metadata": {},
   "source": [
    "Now lets try to fill missing SPACEIDs with KNeighborsClassifier based on trainingData.\n",
    "To do so, lets use\n",
    "y = trainingData['BUILDINGID']*10000 + trainingData['FLOOR']*1000 + trainingData['SPACEID']\n",
    "as target.\n",
    "This 5-digit unique number tells us building, floor and room and could be used as a label for models.\n",
    "For example for building 2, floor 2, room 31 we get:\n",
    "10000*2+2*1000+201 = 22031"
   ]
  },
  {
   "cell_type": "code",
   "execution_count": 34,
   "id": "7d50eb59-00e9-4406-98cf-f5e7703441d5",
   "metadata": {},
   "outputs": [],
   "source": [
    "X = trainingData[['FLOOR','LONGITUDE','LATITUDE']]\n",
    "# transform BUILDINGID, FLOOR, SPACEID into single unique value\n",
    "# this values represents unique position in the building\n",
    "y = trainingData['BUILDINGID']*10000 + trainingData['FLOOR']*1000 + trainingData['SPACEID']"
   ]
  },
  {
   "cell_type": "code",
   "execution_count": 35,
   "id": "56142e12-c68c-4e5d-871c-a5ce884f41b7",
   "metadata": {},
   "outputs": [],
   "source": [
    "# split data \n",
    "from sklearn.model_selection import train_test_split\n",
    "X_train, X_test, y_train, y_test = train_test_split(X, y, random_state=42)"
   ]
  },
  {
   "cell_type": "code",
   "execution_count": 36,
   "id": "b48a774c-1932-471a-9220-caf9111280be",
   "metadata": {},
   "outputs": [],
   "source": [
    "# Scale data to (0,1) range\n",
    "from sklearn.preprocessing import MinMaxScaler\n",
    "scaler = MinMaxScaler(feature_range=(0,1))\n",
    "scaler.fit(X_train)\n",
    "X_train_sc =  pd.DataFrame(scaler.transform(X_train))\n",
    "X_train_sc.columns = X.columns\n",
    "X_test_sc =  pd.DataFrame(scaler.transform(X_test))\n",
    "X_test_sc.columns = X_test.columns\n"
   ]
  },
  {
   "cell_type": "code",
   "execution_count": 37,
   "id": "341f8341-5f99-4f92-ac5a-4fbe0be8b679",
   "metadata": {},
   "outputs": [
    {
     "data": {
      "text/plain": [
       "KNeighborsClassifier(n_neighbors=2)"
      ]
     },
     "execution_count": 37,
     "metadata": {},
     "output_type": "execute_result"
    }
   ],
   "source": [
    "# using KNeighborsClassifier to predict position in the building\n",
    "from sklearn.neighbors import KNeighborsClassifier\n",
    "knn = KNeighborsClassifier(n_neighbors=2)\n",
    "knn.fit(X_train_sc, y_train)"
   ]
  },
  {
   "cell_type": "code",
   "execution_count": 38,
   "id": "5dc3459b-048b-4d70-927e-49129ccd40be",
   "metadata": {},
   "outputs": [
    {
     "data": {
      "text/plain": [
       "0.9999331193151418"
      ]
     },
     "execution_count": 38,
     "metadata": {},
     "output_type": "execute_result"
    }
   ],
   "source": [
    "# check on train dataset\n",
    "acc_scor = mllib.model_check(y_train, knn.predict(X_train_sc), knn)\n",
    "acc_scor\n",
    "# 99% accuracy!"
   ]
  },
  {
   "cell_type": "code",
   "execution_count": 39,
   "id": "08972695-065b-4581-b862-298f9c7fa176",
   "metadata": {},
   "outputs": [
    {
     "data": {
      "text/plain": [
       "0.9997993981945837"
      ]
     },
     "execution_count": 39,
     "metadata": {},
     "output_type": "execute_result"
    }
   ],
   "source": [
    "# check on test dataset\n",
    "acc_scor = mllib.model_check(y_test, knn.predict(X_test_sc), knn)\n",
    "acc_scor\n",
    "# 99% accuracy!"
   ]
  },
  {
   "cell_type": "code",
   "execution_count": 40,
   "id": "d11221fb-b5ff-4599-aa49-d910cb82ac6c",
   "metadata": {},
   "outputs": [],
   "source": [
    "# fixing missing values in validationData\n",
    "X_val = validationData[['FLOOR','LONGITUDE','LATITUDE']]\n",
    "X_val_sc =  pd.DataFrame(scaler.transform(X_val))\n",
    "X_val_sc.columns = X_val.columns\n",
    "# transform predicted position to SPACEID\n",
    "validationData['SPACEID'] = (knn.predict(X_val_sc)-\n",
    "validationData['BUILDINGID']*10000-\n",
    "validationData['FLOOR']*1000)"
   ]
  },
  {
   "cell_type": "code",
   "execution_count": 41,
   "id": "0ad230f0-54bc-4744-bddb-6c684b4dce26",
   "metadata": {},
   "outputs": [
    {
     "data": {
      "text/html": [
       "<div>\n",
       "<style scoped>\n",
       "    .dataframe tbody tr th:only-of-type {\n",
       "        vertical-align: middle;\n",
       "    }\n",
       "\n",
       "    .dataframe tbody tr th {\n",
       "        vertical-align: top;\n",
       "    }\n",
       "\n",
       "    .dataframe thead th {\n",
       "        text-align: right;\n",
       "    }\n",
       "</style>\n",
       "<table border=\"1\" class=\"dataframe\">\n",
       "  <thead>\n",
       "    <tr style=\"text-align: right;\">\n",
       "      <th></th>\n",
       "      <th>WAP001</th>\n",
       "      <th>WAP002</th>\n",
       "      <th>WAP003</th>\n",
       "      <th>WAP004</th>\n",
       "      <th>WAP005</th>\n",
       "      <th>WAP006</th>\n",
       "      <th>WAP007</th>\n",
       "      <th>WAP008</th>\n",
       "      <th>WAP009</th>\n",
       "      <th>WAP010</th>\n",
       "      <th>...</th>\n",
       "      <th>WAP520</th>\n",
       "      <th>LONGITUDE</th>\n",
       "      <th>LATITUDE</th>\n",
       "      <th>FLOOR</th>\n",
       "      <th>BUILDINGID</th>\n",
       "      <th>SPACEID</th>\n",
       "      <th>RELATIVEPOSITION</th>\n",
       "      <th>USERID</th>\n",
       "      <th>PHONEID</th>\n",
       "      <th>TIMESTAMP</th>\n",
       "    </tr>\n",
       "  </thead>\n",
       "  <tbody>\n",
       "    <tr>\n",
       "      <th>0</th>\n",
       "      <td>100</td>\n",
       "      <td>100</td>\n",
       "      <td>100</td>\n",
       "      <td>100</td>\n",
       "      <td>100</td>\n",
       "      <td>100</td>\n",
       "      <td>100</td>\n",
       "      <td>100</td>\n",
       "      <td>100</td>\n",
       "      <td>100</td>\n",
       "      <td>...</td>\n",
       "      <td>100</td>\n",
       "      <td>-7515.916799</td>\n",
       "      <td>4.864890e+06</td>\n",
       "      <td>1</td>\n",
       "      <td>1</td>\n",
       "      <td>117</td>\n",
       "      <td>0</td>\n",
       "      <td>0</td>\n",
       "      <td>0</td>\n",
       "      <td>1380872703</td>\n",
       "    </tr>\n",
       "    <tr>\n",
       "      <th>1</th>\n",
       "      <td>100</td>\n",
       "      <td>100</td>\n",
       "      <td>100</td>\n",
       "      <td>100</td>\n",
       "      <td>100</td>\n",
       "      <td>100</td>\n",
       "      <td>100</td>\n",
       "      <td>100</td>\n",
       "      <td>100</td>\n",
       "      <td>100</td>\n",
       "      <td>...</td>\n",
       "      <td>100</td>\n",
       "      <td>-7383.867221</td>\n",
       "      <td>4.864840e+06</td>\n",
       "      <td>4</td>\n",
       "      <td>2</td>\n",
       "      <td>102</td>\n",
       "      <td>0</td>\n",
       "      <td>0</td>\n",
       "      <td>13</td>\n",
       "      <td>1381155054</td>\n",
       "    </tr>\n",
       "    <tr>\n",
       "      <th>2</th>\n",
       "      <td>100</td>\n",
       "      <td>100</td>\n",
       "      <td>100</td>\n",
       "      <td>100</td>\n",
       "      <td>100</td>\n",
       "      <td>100</td>\n",
       "      <td>100</td>\n",
       "      <td>100</td>\n",
       "      <td>100</td>\n",
       "      <td>100</td>\n",
       "      <td>...</td>\n",
       "      <td>100</td>\n",
       "      <td>-7374.302080</td>\n",
       "      <td>4.864847e+06</td>\n",
       "      <td>4</td>\n",
       "      <td>2</td>\n",
       "      <td>124</td>\n",
       "      <td>0</td>\n",
       "      <td>0</td>\n",
       "      <td>13</td>\n",
       "      <td>1381155095</td>\n",
       "    </tr>\n",
       "    <tr>\n",
       "      <th>3</th>\n",
       "      <td>100</td>\n",
       "      <td>100</td>\n",
       "      <td>100</td>\n",
       "      <td>100</td>\n",
       "      <td>100</td>\n",
       "      <td>100</td>\n",
       "      <td>100</td>\n",
       "      <td>100</td>\n",
       "      <td>100</td>\n",
       "      <td>100</td>\n",
       "      <td>...</td>\n",
       "      <td>100</td>\n",
       "      <td>-7365.824883</td>\n",
       "      <td>4.864843e+06</td>\n",
       "      <td>4</td>\n",
       "      <td>2</td>\n",
       "      <td>126</td>\n",
       "      <td>0</td>\n",
       "      <td>0</td>\n",
       "      <td>13</td>\n",
       "      <td>1381155138</td>\n",
       "    </tr>\n",
       "    <tr>\n",
       "      <th>4</th>\n",
       "      <td>100</td>\n",
       "      <td>100</td>\n",
       "      <td>100</td>\n",
       "      <td>100</td>\n",
       "      <td>100</td>\n",
       "      <td>100</td>\n",
       "      <td>100</td>\n",
       "      <td>100</td>\n",
       "      <td>100</td>\n",
       "      <td>100</td>\n",
       "      <td>...</td>\n",
       "      <td>100</td>\n",
       "      <td>-7641.499303</td>\n",
       "      <td>4.864922e+06</td>\n",
       "      <td>2</td>\n",
       "      <td>0</td>\n",
       "      <td>203</td>\n",
       "      <td>0</td>\n",
       "      <td>0</td>\n",
       "      <td>2</td>\n",
       "      <td>1380877774</td>\n",
       "    </tr>\n",
       "    <tr>\n",
       "      <th>...</th>\n",
       "      <td>...</td>\n",
       "      <td>...</td>\n",
       "      <td>...</td>\n",
       "      <td>...</td>\n",
       "      <td>...</td>\n",
       "      <td>...</td>\n",
       "      <td>...</td>\n",
       "      <td>...</td>\n",
       "      <td>...</td>\n",
       "      <td>...</td>\n",
       "      <td>...</td>\n",
       "      <td>...</td>\n",
       "      <td>...</td>\n",
       "      <td>...</td>\n",
       "      <td>...</td>\n",
       "      <td>...</td>\n",
       "      <td>...</td>\n",
       "      <td>...</td>\n",
       "      <td>...</td>\n",
       "      <td>...</td>\n",
       "      <td>...</td>\n",
       "    </tr>\n",
       "    <tr>\n",
       "      <th>1106</th>\n",
       "      <td>100</td>\n",
       "      <td>100</td>\n",
       "      <td>100</td>\n",
       "      <td>100</td>\n",
       "      <td>100</td>\n",
       "      <td>100</td>\n",
       "      <td>100</td>\n",
       "      <td>100</td>\n",
       "      <td>100</td>\n",
       "      <td>100</td>\n",
       "      <td>...</td>\n",
       "      <td>100</td>\n",
       "      <td>-7317.344231</td>\n",
       "      <td>4.864796e+06</td>\n",
       "      <td>3</td>\n",
       "      <td>2</td>\n",
       "      <td>136</td>\n",
       "      <td>0</td>\n",
       "      <td>0</td>\n",
       "      <td>13</td>\n",
       "      <td>1381156711</td>\n",
       "    </tr>\n",
       "    <tr>\n",
       "      <th>1107</th>\n",
       "      <td>100</td>\n",
       "      <td>100</td>\n",
       "      <td>100</td>\n",
       "      <td>100</td>\n",
       "      <td>100</td>\n",
       "      <td>100</td>\n",
       "      <td>100</td>\n",
       "      <td>100</td>\n",
       "      <td>100</td>\n",
       "      <td>100</td>\n",
       "      <td>...</td>\n",
       "      <td>100</td>\n",
       "      <td>-7313.731120</td>\n",
       "      <td>4.864792e+06</td>\n",
       "      <td>3</td>\n",
       "      <td>2</td>\n",
       "      <td>136</td>\n",
       "      <td>0</td>\n",
       "      <td>0</td>\n",
       "      <td>13</td>\n",
       "      <td>1381156730</td>\n",
       "    </tr>\n",
       "    <tr>\n",
       "      <th>1108</th>\n",
       "      <td>100</td>\n",
       "      <td>100</td>\n",
       "      <td>100</td>\n",
       "      <td>100</td>\n",
       "      <td>100</td>\n",
       "      <td>100</td>\n",
       "      <td>100</td>\n",
       "      <td>100</td>\n",
       "      <td>100</td>\n",
       "      <td>100</td>\n",
       "      <td>...</td>\n",
       "      <td>100</td>\n",
       "      <td>-7637.535798</td>\n",
       "      <td>4.864903e+06</td>\n",
       "      <td>0</td>\n",
       "      <td>0</td>\n",
       "      <td>225</td>\n",
       "      <td>0</td>\n",
       "      <td>0</td>\n",
       "      <td>13</td>\n",
       "      <td>1381247781</td>\n",
       "    </tr>\n",
       "    <tr>\n",
       "      <th>1109</th>\n",
       "      <td>100</td>\n",
       "      <td>100</td>\n",
       "      <td>100</td>\n",
       "      <td>100</td>\n",
       "      <td>100</td>\n",
       "      <td>100</td>\n",
       "      <td>100</td>\n",
       "      <td>100</td>\n",
       "      <td>100</td>\n",
       "      <td>100</td>\n",
       "      <td>...</td>\n",
       "      <td>100</td>\n",
       "      <td>-7636.654005</td>\n",
       "      <td>4.864905e+06</td>\n",
       "      <td>0</td>\n",
       "      <td>0</td>\n",
       "      <td>227</td>\n",
       "      <td>0</td>\n",
       "      <td>0</td>\n",
       "      <td>13</td>\n",
       "      <td>1381247807</td>\n",
       "    </tr>\n",
       "    <tr>\n",
       "      <th>1110</th>\n",
       "      <td>100</td>\n",
       "      <td>100</td>\n",
       "      <td>100</td>\n",
       "      <td>100</td>\n",
       "      <td>100</td>\n",
       "      <td>100</td>\n",
       "      <td>100</td>\n",
       "      <td>100</td>\n",
       "      <td>100</td>\n",
       "      <td>100</td>\n",
       "      <td>...</td>\n",
       "      <td>100</td>\n",
       "      <td>-7637.944120</td>\n",
       "      <td>4.864904e+06</td>\n",
       "      <td>0</td>\n",
       "      <td>0</td>\n",
       "      <td>225</td>\n",
       "      <td>0</td>\n",
       "      <td>0</td>\n",
       "      <td>13</td>\n",
       "      <td>1381247836</td>\n",
       "    </tr>\n",
       "  </tbody>\n",
       "</table>\n",
       "<p>1111 rows × 529 columns</p>\n",
       "</div>"
      ],
      "text/plain": [
       "      WAP001  WAP002  WAP003  WAP004  WAP005  WAP006  WAP007  WAP008  WAP009  \\\n",
       "0        100     100     100     100     100     100     100     100     100   \n",
       "1        100     100     100     100     100     100     100     100     100   \n",
       "2        100     100     100     100     100     100     100     100     100   \n",
       "3        100     100     100     100     100     100     100     100     100   \n",
       "4        100     100     100     100     100     100     100     100     100   \n",
       "...      ...     ...     ...     ...     ...     ...     ...     ...     ...   \n",
       "1106     100     100     100     100     100     100     100     100     100   \n",
       "1107     100     100     100     100     100     100     100     100     100   \n",
       "1108     100     100     100     100     100     100     100     100     100   \n",
       "1109     100     100     100     100     100     100     100     100     100   \n",
       "1110     100     100     100     100     100     100     100     100     100   \n",
       "\n",
       "      WAP010  ...  WAP520    LONGITUDE      LATITUDE  FLOOR  BUILDINGID  \\\n",
       "0        100  ...     100 -7515.916799  4.864890e+06      1           1   \n",
       "1        100  ...     100 -7383.867221  4.864840e+06      4           2   \n",
       "2        100  ...     100 -7374.302080  4.864847e+06      4           2   \n",
       "3        100  ...     100 -7365.824883  4.864843e+06      4           2   \n",
       "4        100  ...     100 -7641.499303  4.864922e+06      2           0   \n",
       "...      ...  ...     ...          ...           ...    ...         ...   \n",
       "1106     100  ...     100 -7317.344231  4.864796e+06      3           2   \n",
       "1107     100  ...     100 -7313.731120  4.864792e+06      3           2   \n",
       "1108     100  ...     100 -7637.535798  4.864903e+06      0           0   \n",
       "1109     100  ...     100 -7636.654005  4.864905e+06      0           0   \n",
       "1110     100  ...     100 -7637.944120  4.864904e+06      0           0   \n",
       "\n",
       "      SPACEID  RELATIVEPOSITION  USERID  PHONEID   TIMESTAMP  \n",
       "0         117                 0       0        0  1380872703  \n",
       "1         102                 0       0       13  1381155054  \n",
       "2         124                 0       0       13  1381155095  \n",
       "3         126                 0       0       13  1381155138  \n",
       "4         203                 0       0        2  1380877774  \n",
       "...       ...               ...     ...      ...         ...  \n",
       "1106      136                 0       0       13  1381156711  \n",
       "1107      136                 0       0       13  1381156730  \n",
       "1108      225                 0       0       13  1381247781  \n",
       "1109      227                 0       0       13  1381247807  \n",
       "1110      225                 0       0       13  1381247836  \n",
       "\n",
       "[1111 rows x 529 columns]"
      ]
     },
     "execution_count": 41,
     "metadata": {},
     "output_type": "execute_result"
    }
   ],
   "source": [
    "validationData"
   ]
  },
  {
   "cell_type": "markdown",
   "id": "07541769-abac-47b4-b4a5-fb28e2918715",
   "metadata": {
    "tags": []
   },
   "source": [
    "# 2-Predict CATEGORICAL target for given building and floor"
   ]
  },
  {
   "cell_type": "markdown",
   "id": "eea754ca-3263-4b11-8f46-285de1b6a8b4",
   "metadata": {},
   "source": [
    "## SELECT datasets for train and test"
   ]
  },
  {
   "cell_type": "code",
   "execution_count": 42,
   "id": "90407025-bd0a-4c6b-87fc-650eebd40207",
   "metadata": {},
   "outputs": [],
   "source": [
    "# trainingData_validationData: use trainingData for X_train,y_train \n",
    "#                              and validationData for X_test,y_test\n",
    "# trainingData: split trainingData for X_train,y_train,X_test,y_test\n",
    "\n",
    "datasets = 'trainingData_validationData'\n"
   ]
  },
  {
   "cell_type": "code",
   "execution_count": 43,
   "id": "415cb495-5866-4670-a9ca-cfb39d9721b4",
   "metadata": {},
   "outputs": [],
   "source": [
    "if datasets == 'trainingData_validationData':\n",
    "    td = trainingData.copy()\n",
    "    vd = validationData.copy()\n",
    "elif datasets == 'trainingData':\n",
    "    # split trainingData\n",
    "    from sklearn.model_selection import train_test_split\n",
    "    td, vd = train_test_split(trainingData, test_size=0.25, random_state=42)"
   ]
  },
  {
   "cell_type": "markdown",
   "id": "f72bdcd8-8c93-4817-980a-41463d516551",
   "metadata": {},
   "source": [
    "## SELECT building and floor"
   ]
  },
  {
   "cell_type": "code",
   "execution_count": 44,
   "id": "50566580-e48c-45ea-9e27-ebb61f1688a4",
   "metadata": {
    "tags": []
   },
   "outputs": [],
   "source": [
    "# buildings: 0,1,2\n",
    "building = [0,1,2]\n",
    "\n",
    "# floors: 0,1,2,3\n",
    "floor = [0,1,2,3]"
   ]
  },
  {
   "cell_type": "code",
   "execution_count": 45,
   "id": "7e35a8c6-37d9-4fd3-8105-a8a69de55f11",
   "metadata": {},
   "outputs": [],
   "source": [
    "# select data for given building/floor\n",
    "td = td.query('(BUILDINGID in @building) & (FLOOR in @floor)')\n",
    "vd  = vd.query('(BUILDINGID in @building) & (FLOOR in @floor)')"
   ]
  },
  {
   "cell_type": "markdown",
   "id": "bd137aad-6602-4edc-a9c3-c6d862a69b89",
   "metadata": {},
   "source": [
    "## SELECT target"
   ]
  },
  {
   "cell_type": "code",
   "execution_count": 46,
   "id": "45840813-24c3-4f7a-b5bb-5880c63a8624",
   "metadata": {},
   "outputs": [],
   "source": [
    "# 'building_floor':\n",
    "# 'building_floor_spaceid': gives low perfomance, too many categories\n",
    "#                          rooms in validationData are not given!\n",
    "# 'spaceid'\n",
    "# 'longitude'\n",
    "# 'building'\n",
    "# 'floor'\n",
    "target = 'building_floor'"
   ]
  },
  {
   "cell_type": "markdown",
   "id": "b9acaca0-958c-4af0-b25c-24075debc331",
   "metadata": {},
   "source": [
    "## SELECT transformation of WAP signal"
   ]
  },
  {
   "cell_type": "code",
   "execution_count": 47,
   "id": "93bffbe1-bc40-49b0-8cd8-5d81b0e6487f",
   "metadata": {},
   "outputs": [],
   "source": [
    "# 'exponent' :10**x (10 power value) : distance = 10**(signal) : 1e-104..1\n",
    "# 'shift' by 300: (-104..0-->196..300\n",
    "transformation = 'shift'"
   ]
  },
  {
   "cell_type": "markdown",
   "id": "4280053f-2a9a-43ab-b4e4-a2c6486ed612",
   "metadata": {},
   "source": [
    "## X - filter values"
   ]
  },
  {
   "cell_type": "code",
   "execution_count": 48,
   "id": "dfb6820f-bdec-46c0-98e8-1cee6fb50e56",
   "metadata": {},
   "outputs": [],
   "source": [
    "X_train = td.copy()\n",
    "X_test = vd.copy()"
   ]
  },
  {
   "cell_type": "markdown",
   "id": "6bd76938-a53e-4f88-bbc6-06deb7bbba92",
   "metadata": {},
   "source": [
    "## X - drop columns"
   ]
  },
  {
   "cell_type": "code",
   "execution_count": 49,
   "id": "d0a829e5-4969-42f5-b3af-299f21244c82",
   "metadata": {},
   "outputs": [],
   "source": [
    "# drop irrelevant columns\n",
    "X_train.drop(columns=['LONGITUDE','LATITUDE','RELATIVEPOSITION','USERID','PHONEID','TIMESTAMP','FLOOR','BUILDINGID','SPACEID'],\n",
    "             inplace=True)\n",
    "X_test.drop(columns=['LONGITUDE','LATITUDE','RELATIVEPOSITION','USERID','PHONEID','TIMESTAMP','FLOOR','BUILDINGID','SPACEID'],\n",
    "             inplace=True)"
   ]
  },
  {
   "cell_type": "code",
   "execution_count": 50,
   "id": "3635ff71-b847-48d2-a054-bd542f03df7b",
   "metadata": {},
   "outputs": [],
   "source": [
    "# drop WAPs that are not common for both datasets (removed/added/not used WAPs)\n",
    "\n",
    "X_train.drop(columns=added.index,inplace=True)\n",
    "X_train.drop(columns=removed.index,inplace=True)\n",
    "X_train.drop(columns=not_used.index,inplace=True)\n",
    "\n",
    "X_test.drop(columns=added.index,inplace=True)\n",
    "X_test.drop(columns=removed.index,inplace=True)\n",
    "X_test.drop(columns=not_used.index,inplace=True)"
   ]
  },
  {
   "cell_type": "code",
   "execution_count": 51,
   "id": "4d242887-78c4-4d1b-942c-b144d3962b2e",
   "metadata": {},
   "outputs": [],
   "source": [
    "#drop WAP with high correlation (the have very close position in the building)\n",
    "X_train.drop(columns=list(col_drop_high_corr),inplace=True)\n",
    "X_test.drop(columns=list(col_drop_high_corr),inplace=True)\n"
   ]
  },
  {
   "cell_type": "markdown",
   "id": "31a9c162-45df-4db9-aeee-4e1703ebc9ee",
   "metadata": {},
   "source": [
    "## X - transform WAP values and replace '100' values"
   ]
  },
  {
   "cell_type": "code",
   "execution_count": 52,
   "id": "f9218e11-9753-47da-b767-28d146b8bd1b",
   "metadata": {},
   "outputs": [],
   "source": [
    "import numpy as np"
   ]
  },
  {
   "cell_type": "code",
   "execution_count": 53,
   "id": "6d9f413a-2b32-444d-920f-e25d32febd63",
   "metadata": {},
   "outputs": [],
   "source": [
    "# TRAIN\n",
    "# replace 100 with NaN\n",
    "X_train.replace(100, np.nan, inplace=True)\n",
    "# TEST\n",
    "# replace 100 with NaN\n",
    "X_test.replace(100, np.nan, inplace=True)"
   ]
  },
  {
   "cell_type": "code",
   "execution_count": 54,
   "id": "587be5b5-6769-479a-a44f-59157c90f6b8",
   "metadata": {},
   "outputs": [],
   "source": [
    "# Option 1:\n",
    "if transformation == 'shift':\n",
    "    # shift RSSI values so they are higher than 0 (-104..0-->196..300)\n",
    "    \n",
    "    X_train = mllib.transform(X_train,300,'shift')\n",
    "    X_test =  mllib.transform(X_test,300,'shift')\n",
    "    \n",
    "    # Scale data to (0,1) range\n",
    "    from sklearn.preprocessing import MinMaxScaler\n",
    "    # from sklearn.preprocessing import StandardScaler\n",
    "    #scaler = StandardScaler()\n",
    "    scaler = MinMaxScaler(feature_range=(0,1))\n",
    "    scaler.fit(X_train)\n",
    "    \n",
    "    X_train_sc = pd.DataFrame(scaler.transform(X_train))\n",
    "    X_train_sc.columns = X_train.columns\n",
    "    \n",
    "    X_test_sc =  pd.DataFrame(scaler.transform(X_test))\n",
    "    X_test_sc.columns = X_test.columns\n",
    "    \n",
    "elif transformation == 'exponent':\n",
    "    \n",
    "    X_train_sc = round(mllib.transform(X_train,10,'exponent'),3)\n",
    "    X_test_sc =  round(mllib.transform(X_test,10,'exponent'),3)\n"
   ]
  },
  {
   "cell_type": "code",
   "execution_count": 55,
   "id": "f762e6f1-8192-4ace-bc6e-0d0a68c73fc6",
   "metadata": {
    "tags": []
   },
   "outputs": [],
   "source": [
    "# replace NaNs with 0\n",
    "X_train_sc.replace(np.nan, 0, inplace=True)\n",
    "# replace NaNs with 0\n",
    "X_test_sc.replace(np.nan, 0, inplace=True)"
   ]
  },
  {
   "cell_type": "markdown",
   "id": "98c0fcfe-abb2-459f-b409-f89d3ac31592",
   "metadata": {},
   "source": [
    "## y - target"
   ]
  },
  {
   "cell_type": "code",
   "execution_count": 56,
   "id": "b16bc8b3-fd44-4a42-b402-f23c6e55fef5",
   "metadata": {},
   "outputs": [],
   "source": [
    "# select target and conditions\n",
    "\n",
    "if target == 'building_floor':\n",
    "    #BUILDING, FLOOR\n",
    "    y_train = td['BUILDINGID']*10000 + td['FLOOR']*1000 \n",
    "    y_test = vd['BUILDINGID']*10000 + vd['FLOOR']*1000 \n",
    "    \n",
    "elif  target == 'building_floor_spaceid':\n",
    "    # BUILDING, FLOOR, SPACEID\n",
    "    y_train = td['BUILDINGID']*10000 + td['FLOOR']*1000 + td['SPACEID']\n",
    "    y_test = vd['BUILDINGID']*10000 + vd['FLOOR']*1000 + vd['SPACEID']\n",
    "    \n",
    "elif target == 'spaceid':\n",
    "    # SPACEID\n",
    "    y_train = td['SPACEID']\n",
    "    y_test = vd['SPACEID']\n",
    "    \n",
    "elif target == 'floor':\n",
    "    # SPACEID\n",
    "    y_train = td['FLOOR']\n",
    "    y_test = vd['FLOOR']\n",
    "    \n",
    "elif target == 'building':\n",
    "    y_train = td['BUILDINGID']\n",
    "    y_test = vd['BUILDINGID']   "
   ]
  },
  {
   "cell_type": "markdown",
   "id": "766105de-5dc1-4386-8eb8-a3b6b72e0248",
   "metadata": {},
   "source": [
    "## Decision tree"
   ]
  },
  {
   "cell_type": "code",
   "execution_count": 57,
   "id": "7991ec0b-9bd7-41b2-9a6c-e93ddbb3a2d1",
   "metadata": {},
   "outputs": [
    {
     "data": {
      "text/plain": [
       "DecisionTreeClassifier(max_depth=50, random_state=42)"
      ]
     },
     "execution_count": 57,
     "metadata": {},
     "output_type": "execute_result"
    }
   ],
   "source": [
    "from sklearn.tree import DecisionTreeClassifier\n",
    "tree = DecisionTreeClassifier(max_depth=50, random_state=42)\n",
    "tree.fit(X_train_sc, y_train)"
   ]
  },
  {
   "cell_type": "code",
   "execution_count": 58,
   "id": "1ade0719-c4e7-44fa-80f3-d5e3a8b399f2",
   "metadata": {},
   "outputs": [
    {
     "data": {
      "text/plain": [
       "0.997451552959915"
      ]
     },
     "execution_count": 58,
     "metadata": {},
     "output_type": "execute_result"
    }
   ],
   "source": [
    "# train\n",
    "acc_scor = mllib.model_check(y_train, tree.predict(X_train_sc), tree)\n",
    "accuracy_train = {}\n",
    "accuracy_train['DT'] = acc_scor\n",
    "acc_scor"
   ]
  },
  {
   "cell_type": "code",
   "execution_count": 59,
   "id": "e5af8a7b-cd6f-4ed6-b46b-7b0eb6ddecea",
   "metadata": {},
   "outputs": [
    {
     "data": {
      "text/plain": [
       "0.7938432835820896"
      ]
     },
     "execution_count": 59,
     "metadata": {},
     "output_type": "execute_result"
    }
   ],
   "source": [
    "# test\n",
    "acc_scor = mllib.model_check(y_test, tree.predict(X_test_sc), tree)\n",
    "accuracy_test = {}\n",
    "accuracy_test['DT'] = acc_scor\n",
    "acc_scor"
   ]
  },
  {
   "cell_type": "markdown",
   "id": "42d51111-13fe-46f4-9672-2c0e53d7d77e",
   "metadata": {},
   "source": [
    "## Knearest neighbors"
   ]
  },
  {
   "cell_type": "code",
   "execution_count": 60,
   "id": "b474ca0a-1450-4f65-b2c6-5ae55ee6443c",
   "metadata": {},
   "outputs": [
    {
     "data": {
      "text/plain": [
       "KNeighborsClassifier()"
      ]
     },
     "execution_count": 60,
     "metadata": {},
     "output_type": "execute_result"
    }
   ],
   "source": [
    "from sklearn.neighbors import KNeighborsClassifier\n",
    "knn = KNeighborsClassifier(n_neighbors=5)\n",
    "knn.fit(X_train_sc, y_train)"
   ]
  },
  {
   "cell_type": "code",
   "execution_count": 61,
   "id": "fe6cfc34-c18a-4303-80c3-0896fc9c07d7",
   "metadata": {
    "tags": []
   },
   "outputs": [
    {
     "data": {
      "text/plain": [
       "0.9959649588531988"
      ]
     },
     "execution_count": 61,
     "metadata": {},
     "output_type": "execute_result"
    }
   ],
   "source": [
    "# train \n",
    "acc_scor = mllib.model_check(y_train, knn.predict(X_train_sc), knn)\n",
    "accuracy_train['KNN'] = acc_scor\n",
    "acc_scor"
   ]
  },
  {
   "cell_type": "code",
   "execution_count": 62,
   "id": "5613179f-f6a7-4990-88e5-6df7671f48a5",
   "metadata": {},
   "outputs": [
    {
     "data": {
      "text/plain": [
       "0.9001865671641791"
      ]
     },
     "execution_count": 62,
     "metadata": {},
     "output_type": "execute_result"
    }
   ],
   "source": [
    "acc_scor = mllib.model_check(y_test, knn.predict(X_test_sc), knn)\n",
    "accuracy_test['KNN'] = acc_scor\n",
    "acc_scor"
   ]
  },
  {
   "cell_type": "markdown",
   "id": "a9abc1d0-cf4e-4113-acea-e0dfea887541",
   "metadata": {},
   "source": [
    "## Logistic regression"
   ]
  },
  {
   "cell_type": "markdown",
   "id": "63fe4b0a-cff4-4c7d-bb79-bd039d069289",
   "metadata": {},
   "source": [
    "Performs slow with big number of categories (for example building-floor-room)"
   ]
  },
  {
   "cell_type": "code",
   "execution_count": 63,
   "id": "c0c81452-2533-4d87-ab9c-61d45d1552bf",
   "metadata": {
    "tags": []
   },
   "outputs": [
    {
     "data": {
      "text/plain": [
       "LogisticRegression(max_iter=1000)"
      ]
     },
     "execution_count": 63,
     "metadata": {},
     "output_type": "execute_result"
    }
   ],
   "source": [
    "from sklearn.linear_model import LogisticRegression\n",
    "lg = LogisticRegression(max_iter=1000)\n",
    "lg.fit(X_train_sc, y_train)"
   ]
  },
  {
   "cell_type": "code",
   "execution_count": 64,
   "id": "f7bdc89e-8255-4a7b-8c5d-5facd1bf2aae",
   "metadata": {},
   "outputs": [
    {
     "data": {
      "text/plain": [
       "0.9939474382797983"
      ]
     },
     "execution_count": 64,
     "metadata": {},
     "output_type": "execute_result"
    }
   ],
   "source": [
    "# train\n",
    "acc_scor = mllib.model_check(y_train, lg.predict(X_train_sc), lg)\n",
    "accuracy_train['LR'] = acc_scor\n",
    "acc_scor"
   ]
  },
  {
   "cell_type": "code",
   "execution_count": 65,
   "id": "d867f528-07f4-4d00-bcac-3fc2ca0b4084",
   "metadata": {},
   "outputs": [
    {
     "data": {
      "text/plain": [
       "0.914179104477612"
      ]
     },
     "execution_count": 65,
     "metadata": {},
     "output_type": "execute_result"
    }
   ],
   "source": [
    "# test\n",
    "acc_scor = mllib.model_check(y_test, lg.predict(X_test_sc), lg)\n",
    "accuracy_test['LR'] = acc_scor\n",
    "acc_scor"
   ]
  },
  {
   "cell_type": "markdown",
   "id": "7ad8553d-226d-4e0f-8642-9538de095e36",
   "metadata": {},
   "source": [
    "## Random forest"
   ]
  },
  {
   "cell_type": "code",
   "execution_count": 66,
   "id": "4b48f100-ba77-464d-8559-a1c2d04239f1",
   "metadata": {},
   "outputs": [],
   "source": [
    "from sklearn.ensemble import RandomForestClassifier"
   ]
  },
  {
   "cell_type": "code",
   "execution_count": 67,
   "id": "b3a619e0-f383-4fac-8fe1-91da962856c6",
   "metadata": {},
   "outputs": [
    {
     "data": {
      "text/plain": [
       "RandomForestClassifier(max_depth=30, random_state=42)"
      ]
     },
     "execution_count": 67,
     "metadata": {},
     "output_type": "execute_result"
    }
   ],
   "source": [
    "rf = RandomForestClassifier(n_estimators=100, max_depth=30, random_state=42)\n",
    "rf.fit(X_train_sc, y_train)"
   ]
  },
  {
   "cell_type": "code",
   "execution_count": 68,
   "id": "0bedec8f-187c-48dc-8923-bf2c6fe0c5be",
   "metadata": {
    "scrolled": true,
    "tags": []
   },
   "outputs": [
    {
     "data": {
      "text/plain": [
       "0.997451552959915"
      ]
     },
     "execution_count": 68,
     "metadata": {},
     "output_type": "execute_result"
    }
   ],
   "source": [
    "# train\n",
    "acc_scor = mllib.model_check(y_train, rf.predict(X_train_sc), rf)\n",
    "accuracy_train['RF'] = acc_scor\n",
    "acc_scor"
   ]
  },
  {
   "cell_type": "code",
   "execution_count": 69,
   "id": "f58b9d36-7c8d-49f5-bbee-30565ddbe7dd",
   "metadata": {},
   "outputs": [
    {
     "data": {
      "text/plain": [
       "0.9197761194029851"
      ]
     },
     "execution_count": 69,
     "metadata": {},
     "output_type": "execute_result"
    }
   ],
   "source": [
    "# test\n",
    "acc_scor = mllib.model_check(y_test, rf.predict(X_test_sc), rf)\n",
    "accuracy_test['RF'] = acc_scor\n",
    "acc_scor"
   ]
  },
  {
   "cell_type": "markdown",
   "id": "1a6f7429-7ea3-4f82-92c9-53b360993678",
   "metadata": {},
   "source": [
    "## Support Vector Machine"
   ]
  },
  {
   "cell_type": "markdown",
   "id": "af366623-655f-4ebd-9cea-96b4249bf573",
   "metadata": {},
   "source": [
    "Performs slow with big number of categories (for example building-floor-room)"
   ]
  },
  {
   "cell_type": "code",
   "execution_count": 70,
   "id": "b3936b4a-ca4d-4b23-829c-489211329f96",
   "metadata": {},
   "outputs": [],
   "source": [
    "from sklearn.svm import SVC"
   ]
  },
  {
   "cell_type": "code",
   "execution_count": 71,
   "id": "b8fed728-3867-4a7e-b1af-6707b7572549",
   "metadata": {},
   "outputs": [
    {
     "data": {
      "text/plain": [
       "SVC(probability=True)"
      ]
     },
     "execution_count": 71,
     "metadata": {},
     "output_type": "execute_result"
    }
   ],
   "source": [
    "svm = SVC(probability=True)\n",
    "svm.fit(X_train_sc, y_train)"
   ]
  },
  {
   "cell_type": "code",
   "execution_count": 72,
   "id": "76db26b8-0e16-4cab-8de6-1b486f7b5268",
   "metadata": {},
   "outputs": [
    {
     "data": {
      "text/plain": [
       "0.9963897000265464"
      ]
     },
     "execution_count": 72,
     "metadata": {},
     "output_type": "execute_result"
    }
   ],
   "source": [
    "# train\n",
    "acc_scor = mllib.model_check(y_train, svm.predict(X_train_sc), svm)\n",
    "accuracy_train['SVM'] = acc_scor\n",
    "acc_scor"
   ]
  },
  {
   "cell_type": "code",
   "execution_count": 73,
   "id": "01f3abf4-6b61-4826-95a0-5abf355779dc",
   "metadata": {},
   "outputs": [
    {
     "data": {
      "text/plain": [
       "0.9039179104477612"
      ]
     },
     "execution_count": 73,
     "metadata": {},
     "output_type": "execute_result"
    }
   ],
   "source": [
    "# test\n",
    "acc_scor = mllib.model_check(y_test, svm.predict(X_test_sc), svm)\n",
    "accuracy_test['SVM'] = acc_scor\n",
    "acc_scor"
   ]
  },
  {
   "cell_type": "markdown",
   "id": "8814a6ff-ac4e-45fd-b346-1aaa938e13b3",
   "metadata": {},
   "source": [
    "## COMPARE accuracy of models"
   ]
  },
  {
   "cell_type": "code",
   "execution_count": 74,
   "id": "e19bad6a-2d8d-46a9-9c0e-662a1181c7e8",
   "metadata": {},
   "outputs": [
    {
     "data": {
      "text/plain": [
       "dict_values([0.997451552959915, 0.9959649588531988, 0.9939474382797983, 0.997451552959915, 0.9963897000265464])"
      ]
     },
     "execution_count": 74,
     "metadata": {},
     "output_type": "execute_result"
    }
   ],
   "source": [
    "accuracy_train.values()"
   ]
  },
  {
   "cell_type": "code",
   "execution_count": 75,
   "id": "b21377fa-d845-4cd9-be11-ae28b8eb83d5",
   "metadata": {},
   "outputs": [
    {
     "data": {
      "text/plain": [
       "dict_keys(['DT', 'KNN', 'LR', 'RF', 'SVM'])"
      ]
     },
     "execution_count": 75,
     "metadata": {},
     "output_type": "execute_result"
    }
   ],
   "source": [
    "accuracy_train.keys()"
   ]
  },
  {
   "cell_type": "code",
   "execution_count": 76,
   "id": "57ef759d-533c-4058-9d52-7475eef48884",
   "metadata": {},
   "outputs": [],
   "source": [
    "accuracy_df = pd.DataFrame({'accuracy':accuracy_train.values(),'set':['train']*len(accuracy_train),'model':accuracy_train.keys()})\n",
    "accuracy_df_test = pd.DataFrame({'accuracy':accuracy_test.values(),'set':['test']*len(accuracy_test),'model':accuracy_test.keys()})\n",
    "accuracy_df = accuracy_df.append(accuracy_df_test,ignore_index=True)"
   ]
  },
  {
   "cell_type": "code",
   "execution_count": 77,
   "id": "fd6f29de-d9ce-4a85-bd2a-bbbb098cfb32",
   "metadata": {},
   "outputs": [
    {
     "data": {
      "text/html": [
       "<div>\n",
       "<style scoped>\n",
       "    .dataframe tbody tr th:only-of-type {\n",
       "        vertical-align: middle;\n",
       "    }\n",
       "\n",
       "    .dataframe tbody tr th {\n",
       "        vertical-align: top;\n",
       "    }\n",
       "\n",
       "    .dataframe thead th {\n",
       "        text-align: right;\n",
       "    }\n",
       "</style>\n",
       "<table border=\"1\" class=\"dataframe\">\n",
       "  <thead>\n",
       "    <tr style=\"text-align: right;\">\n",
       "      <th></th>\n",
       "      <th>accuracy</th>\n",
       "      <th>set</th>\n",
       "      <th>model</th>\n",
       "    </tr>\n",
       "  </thead>\n",
       "  <tbody>\n",
       "    <tr>\n",
       "      <th>0</th>\n",
       "      <td>0.997452</td>\n",
       "      <td>train</td>\n",
       "      <td>DT</td>\n",
       "    </tr>\n",
       "    <tr>\n",
       "      <th>1</th>\n",
       "      <td>0.995965</td>\n",
       "      <td>train</td>\n",
       "      <td>KNN</td>\n",
       "    </tr>\n",
       "    <tr>\n",
       "      <th>2</th>\n",
       "      <td>0.993947</td>\n",
       "      <td>train</td>\n",
       "      <td>LR</td>\n",
       "    </tr>\n",
       "    <tr>\n",
       "      <th>3</th>\n",
       "      <td>0.997452</td>\n",
       "      <td>train</td>\n",
       "      <td>RF</td>\n",
       "    </tr>\n",
       "    <tr>\n",
       "      <th>4</th>\n",
       "      <td>0.996390</td>\n",
       "      <td>train</td>\n",
       "      <td>SVM</td>\n",
       "    </tr>\n",
       "    <tr>\n",
       "      <th>5</th>\n",
       "      <td>0.793843</td>\n",
       "      <td>test</td>\n",
       "      <td>DT</td>\n",
       "    </tr>\n",
       "    <tr>\n",
       "      <th>6</th>\n",
       "      <td>0.900187</td>\n",
       "      <td>test</td>\n",
       "      <td>KNN</td>\n",
       "    </tr>\n",
       "    <tr>\n",
       "      <th>7</th>\n",
       "      <td>0.914179</td>\n",
       "      <td>test</td>\n",
       "      <td>LR</td>\n",
       "    </tr>\n",
       "    <tr>\n",
       "      <th>8</th>\n",
       "      <td>0.919776</td>\n",
       "      <td>test</td>\n",
       "      <td>RF</td>\n",
       "    </tr>\n",
       "    <tr>\n",
       "      <th>9</th>\n",
       "      <td>0.903918</td>\n",
       "      <td>test</td>\n",
       "      <td>SVM</td>\n",
       "    </tr>\n",
       "  </tbody>\n",
       "</table>\n",
       "</div>"
      ],
      "text/plain": [
       "   accuracy    set model\n",
       "0  0.997452  train    DT\n",
       "1  0.995965  train   KNN\n",
       "2  0.993947  train    LR\n",
       "3  0.997452  train    RF\n",
       "4  0.996390  train   SVM\n",
       "5  0.793843   test    DT\n",
       "6  0.900187   test   KNN\n",
       "7  0.914179   test    LR\n",
       "8  0.919776   test    RF\n",
       "9  0.903918   test   SVM"
      ]
     },
     "execution_count": 77,
     "metadata": {},
     "output_type": "execute_result"
    }
   ],
   "source": [
    "accuracy_df"
   ]
  },
  {
   "cell_type": "code",
   "execution_count": 78,
   "id": "284c2d5f-968c-4c8e-9dd6-b72ed12955d9",
   "metadata": {},
   "outputs": [
    {
     "data": {
      "image/png": "[encoded data removed]",
      "text/plain": [
       "<Figure size 432x288 with 1 Axes>"
      ]
     },
     "metadata": {
      "needs_background": "light"
     },
     "output_type": "display_data"
    }
   ],
   "source": [
    "import seaborn as sns\n",
    "import matplotlib.pyplot as plt\n",
    "sns.barplot(data = accuracy_df, x = \"model\", y = \"accuracy\", \n",
    "            hue = \"set\", palette = \"Spectral\")\n",
    "plt.title('DATASETS:'+datasets+' TARGET: '+target+\" BUILDING: \"+str(building)+' FLOOR: '+str(floor))\n",
    "plt.xlabel(\"Model\")\n",
    "plt.ylabel(\"Accuracy\")\n",
    "plt.xticks(rotation = 60)\n",
    "plt.yticks(np.arange(0, 1.01, step=0.1))\n",
    "plt.legend(bbox_to_anchor=(1.05, 1), loc='upper left', borderaxespad=0)\n",
    "plt.grid(axis='y')\n",
    "plt.show()"
   ]
  },
  {
   "cell_type": "markdown",
   "id": "6823c88f-c43a-4aa9-800c-9f988680d245",
   "metadata": {},
   "source": [
    "## 2nd Proplem in validation dataset"
   ]
  },
  {
   "cell_type": "markdown",
   "id": "2e4e32c1-106f-4839-8ab7-46edc03fc6f1",
   "metadata": {},
   "source": [
    "Results for the target:\n",
    "validationData['BUILDINGID']*10000 + validationData['FLOOR']*1000 + validationData['SPACEID']\n",
    "give very low accuracy of around 16%.\n",
    "\n",
    "That definetelly coudn't have happened if we are dealing with the same WAPs like in trainingData.\n",
    "It looks like something changed in validationData.\n",
    "\n",
    "At the same time, predictions based only on trainingData give high accuracy.\n",
    "Lets check the time period of trainingData and validationData.\n",
    "The original field TIMESTAMP has unix format."
   ]
  },
  {
   "cell_type": "code",
   "execution_count": 79,
   "id": "65dff4f8-d289-4040-810c-3c51cafc1595",
   "metadata": {
    "scrolled": true,
    "tags": []
   },
   "outputs": [],
   "source": [
    "trainingData['TIMESTAMP'] = [mllib.get_time(time_) for time_ in trainingData['TIMESTAMP']]"
   ]
  },
  {
   "cell_type": "code",
   "execution_count": 80,
   "id": "9a5509d2-4c61-42fb-81c5-d12a90fca6ec",
   "metadata": {},
   "outputs": [
    {
     "name": "stdout",
     "output_type": "stream",
     "text": [
      "2013-05-30 10:15:24     2013-06-20 14:15:45\n"
     ]
    }
   ],
   "source": [
    "print(trainingData['TIMESTAMP'].min(),'   ',trainingData['TIMESTAMP'].max())"
   ]
  },
  {
   "cell_type": "code",
   "execution_count": 81,
   "id": "b87e2935-3ed0-4795-ad5a-83062467a8fa",
   "metadata": {},
   "outputs": [],
   "source": [
    "validationData['TIMESTAMP'] = [mllib.get_time(time_) for time_ in validationData['TIMESTAMP']]"
   ]
  },
  {
   "cell_type": "code",
   "execution_count": 82,
   "id": "d791a2ae-cc34-4027-ae0a-af2af9426837",
   "metadata": {},
   "outputs": [
    {
     "name": "stdout",
     "output_type": "stream",
     "text": [
      "2013-09-19 08:12:47     2013-10-08 15:57:16\n"
     ]
    }
   ],
   "source": [
    "print(validationData['TIMESTAMP'].min(),'   ',validationData['TIMESTAMP'].max())"
   ]
  },
  {
   "cell_type": "markdown",
   "id": "dc039cd1-b29b-4d80-a1db-784a32d0bb55",
   "metadata": {},
   "source": [
    "So, the trainingData was collected between 2013-05-30 and 2013-06-20.\n",
    "The validationData was collected between 2013-09-19 and 2013-10-08.\n",
    "There is more than 2 month gap between the measurements.\n",
    "Most probably, the university was closed for summer holidays and during that time WAP were relocated due to maintenance work.\n",
    "Therefore, the datasets could not be used together."
   ]
  },
  {
   "cell_type": "markdown",
   "id": "b4e30de4-335e-4536-91cf-d76d327f8908",
   "metadata": {},
   "source": [
    "# 3-Predict longitude,lattitude with linear REGRESSION"
   ]
  },
  {
   "cell_type": "markdown",
   "id": "e00dc181-34be-42c9-ae33-22f457dc182e",
   "metadata": {},
   "source": [
    "## LONGITUDE"
   ]
  },
  {
   "cell_type": "markdown",
   "id": "4e856565-a219-420b-b732-a87f80509532",
   "metadata": {},
   "source": [
    "### Linear regression"
   ]
  },
  {
   "cell_type": "code",
   "execution_count": 134,
   "id": "655245db-996c-4716-af0f-750cbf428eb5",
   "metadata": {},
   "outputs": [],
   "source": [
    "from sklearn.linear_model import LinearRegression\n",
    "from sklearn.metrics import mean_squared_error, r2_score"
   ]
  },
  {
   "cell_type": "code",
   "execution_count": 135,
   "id": "c71f10f6-fa0f-430a-aa76-b58f80b11cfc",
   "metadata": {},
   "outputs": [],
   "source": [
    "y_train = td['LONGITUDE']\n",
    "y_test = vd['LONGITUDE']"
   ]
  },
  {
   "cell_type": "code",
   "execution_count": 136,
   "id": "a222361b-13a9-4295-8d78-22b9f32095e1",
   "metadata": {},
   "outputs": [
    {
     "data": {
      "text/plain": [
       "LinearRegression()"
      ]
     },
     "execution_count": 136,
     "metadata": {},
     "output_type": "execute_result"
    }
   ],
   "source": [
    "lr_long = LinearRegression()\n",
    "lr_long.fit(X_train_sc, y_train)"
   ]
  },
  {
   "cell_type": "code",
   "execution_count": 137,
   "id": "7736ce6f-7029-4c1b-862f-58e588e43615",
   "metadata": {},
   "outputs": [],
   "source": [
    "# Predict LONGITUDE for test dataset\n",
    "y_pred = lr_long.predict(X_test_sc)"
   ]
  },
  {
   "cell_type": "code",
   "execution_count": 138,
   "id": "c93dcdce-3868-4a56-b8fa-b5654dbb0532",
   "metadata": {},
   "outputs": [],
   "source": [
    "# dictionary for collectiong results\n",
    "regression_models = pd.DataFrame(columns=['target','model','mean_squared_error','r2_score'])"
   ]
  },
  {
   "cell_type": "code",
   "execution_count": 139,
   "id": "8093b566-ac23-413b-8441-b914e5a6d834",
   "metadata": {},
   "outputs": [],
   "source": [
    "# the mean squared error and\n",
    "# the coefficient of determination: 1 is perfect prediction\n",
    "temp_df = pd.DataFrame({'target':['LONGITUDE'],\n",
    "                        'model':['LR'],\n",
    "                        'mean_squared_error':mean_squared_error(y_test, y_pred),\n",
    "                        'r2_score':r2_score(y_test, y_pred)})\n",
    "\n",
    "regression_models = regression_models.append(temp_df,ignore_index=True)"
   ]
  },
  {
   "cell_type": "markdown",
   "id": "8dc02276-45e7-48a9-8245-1c6b8c3ce296",
   "metadata": {},
   "source": [
    "### Random Forest Regression"
   ]
  },
  {
   "cell_type": "code",
   "execution_count": 140,
   "id": "9651a1b2-fcda-498c-8e86-3950805b3e20",
   "metadata": {},
   "outputs": [],
   "source": [
    "from sklearn.ensemble import RandomForestRegressor"
   ]
  },
  {
   "cell_type": "code",
   "execution_count": 141,
   "id": "f6ea9e4f-e1a4-4734-b331-b356d2704d94",
   "metadata": {},
   "outputs": [],
   "source": [
    "y_train = td['LONGITUDE']\n",
    "y_test = vd['LONGITUDE']"
   ]
  },
  {
   "cell_type": "code",
   "execution_count": 142,
   "id": "3ece77f6-dc60-4589-a8eb-e45054cb8941",
   "metadata": {},
   "outputs": [
    {
     "data": {
      "text/plain": [
       "RandomForestRegressor(random_state=42)"
      ]
     },
     "execution_count": 142,
     "metadata": {},
     "output_type": "execute_result"
    }
   ],
   "source": [
    "rfr_long = RandomForestRegressor(random_state=42)\n",
    "rfr_long.fit(X_train_sc,y_train)"
   ]
  },
  {
   "cell_type": "code",
   "execution_count": 143,
   "id": "f7eabad5-0856-4b0a-857b-2fcb81bf06f6",
   "metadata": {},
   "outputs": [],
   "source": [
    "# Predict LONGITUDE for test dataset\n",
    "y_pred = rfr_long.predict(X_test_sc)"
   ]
  },
  {
   "cell_type": "code",
   "execution_count": 144,
   "id": "702624a1-9b7e-4bed-a474-ec51ddba653d",
   "metadata": {},
   "outputs": [],
   "source": [
    "# the mean squared error and\n",
    "# the coefficient of determination: 1 is perfect prediction\n",
    "temp_df = pd.DataFrame({'target':['LONGITUDE'],\n",
    "                        'model':['RFR'],\n",
    "                        'mean_squared_error':mean_squared_error(y_test, y_pred),\n",
    "                        'r2_score':r2_score(y_test, y_pred)})\n",
    "\n",
    "\n",
    "regression_models = regression_models.append(temp_df,ignore_index=True)"
   ]
  },
  {
   "cell_type": "markdown",
   "id": "c5999652-2e2f-4203-8f52-525ded37591f",
   "metadata": {},
   "source": [
    "## LATITUDE"
   ]
  },
  {
   "cell_type": "markdown",
   "id": "4d78810f-74d8-48d0-a9fa-2b1380738aa8",
   "metadata": {},
   "source": [
    "### Linear regression"
   ]
  },
  {
   "cell_type": "code",
   "execution_count": 145,
   "id": "e1c86d1a-9783-495d-ac4d-b0da956a7059",
   "metadata": {},
   "outputs": [],
   "source": [
    "from sklearn.linear_model import LinearRegression\n",
    "from sklearn.metrics import mean_squared_error, r2_score"
   ]
  },
  {
   "cell_type": "code",
   "execution_count": 146,
   "id": "3fb2af7c-a4cc-40c9-a559-b515921837dd",
   "metadata": {
    "tags": []
   },
   "outputs": [],
   "source": [
    "y_train = td['LATITUDE']\n",
    "y_test = vd['LATITUDE']"
   ]
  },
  {
   "cell_type": "code",
   "execution_count": 147,
   "id": "3266fd65-8357-42dd-bcf3-2245619c4a33",
   "metadata": {},
   "outputs": [
    {
     "data": {
      "text/plain": [
       "LinearRegression()"
      ]
     },
     "execution_count": 147,
     "metadata": {},
     "output_type": "execute_result"
    }
   ],
   "source": [
    "lr_lat = LinearRegression()\n",
    "lr_lat.fit(X_train_sc, y_train)"
   ]
  },
  {
   "cell_type": "code",
   "execution_count": 148,
   "id": "09a625df-e195-46af-b2a4-29fc70611ffa",
   "metadata": {},
   "outputs": [],
   "source": [
    "y_pred = lr_lat.predict(X_test_sc)"
   ]
  },
  {
   "cell_type": "code",
   "execution_count": 149,
   "id": "14ab1484-8cad-48fd-9e42-4efbb3fc4cd3",
   "metadata": {},
   "outputs": [],
   "source": [
    "# the mean squared error and\n",
    "# the coefficient of determination: 1 is perfect prediction\n",
    "\n",
    "temp_df = pd.DataFrame({'target':['LATITUDE'],\n",
    "                        'model':['LR'],\n",
    "                        'mean_squared_error':mean_squared_error(y_test, y_pred),\n",
    "                        'r2_score':r2_score(y_test, y_pred)})\n",
    "\n",
    "\n",
    "regression_models = regression_models.append(temp_df,ignore_index=True)"
   ]
  },
  {
   "cell_type": "markdown",
   "id": "1c4ecb4b-86f5-47a9-a99e-3e152f84b86e",
   "metadata": {},
   "source": [
    "### Random Forest Regression"
   ]
  },
  {
   "cell_type": "code",
   "execution_count": 150,
   "id": "e2a6b999-5354-4b3e-8220-bcee04a4fa51",
   "metadata": {},
   "outputs": [],
   "source": [
    "from sklearn.ensemble import RandomForestRegressor"
   ]
  },
  {
   "cell_type": "code",
   "execution_count": 151,
   "id": "50e2a9d9-541a-4ab5-8437-4cf660372859",
   "metadata": {},
   "outputs": [],
   "source": [
    "y_train = td['LATITUDE']\n",
    "y_test = vd['LATITUDE']"
   ]
  },
  {
   "cell_type": "code",
   "execution_count": 152,
   "id": "c9671b47-7b3d-4440-9857-f24cccee1b66",
   "metadata": {},
   "outputs": [
    {
     "data": {
      "text/plain": [
       "RandomForestRegressor(random_state=42)"
      ]
     },
     "execution_count": 152,
     "metadata": {},
     "output_type": "execute_result"
    }
   ],
   "source": [
    "rfr_lat = RandomForestRegressor(random_state=42)\n",
    "rfr_lat.fit(X_train_sc,y_train)"
   ]
  },
  {
   "cell_type": "code",
   "execution_count": 153,
   "id": "c68ea89b-f8f0-4030-af10-e95a22c8f64e",
   "metadata": {},
   "outputs": [],
   "source": [
    "# Predict LONGITUDE for test dataset\n",
    "y_pred = rfr_lat.predict(X_test_sc)"
   ]
  },
  {
   "cell_type": "code",
   "execution_count": 154,
   "id": "74c7c6ac-9e16-4857-9f5d-e6c0d4cb80b9",
   "metadata": {},
   "outputs": [],
   "source": [
    "# the mean squared error and\n",
    "# the coefficient of determination: 1 is perfect prediction\n",
    "\n",
    "temp_df = pd.DataFrame({'target':['LATITUDE'],\n",
    "                        'model':['RFR'],\n",
    "                        'mean_squared_error':mean_squared_error(y_test, y_pred),\n",
    "                        'r2_score':r2_score(y_test, y_pred)})\n",
    "\n",
    "\n",
    "regression_models = regression_models.append(temp_df,ignore_index=True)"
   ]
  },
  {
   "cell_type": "code",
   "execution_count": null,
   "id": "f72f52e7-7001-475b-9c08-db80dcf53f69",
   "metadata": {},
   "outputs": [],
   "source": []
  },
  {
   "cell_type": "markdown",
   "id": "13476158-880a-4d8e-9945-a330b389dc32",
   "metadata": {},
   "source": [
    "## COMPARE models"
   ]
  },
  {
   "cell_type": "code",
   "execution_count": 155,
   "id": "da85cf25-8956-42ea-a669-d7ca003a71a0",
   "metadata": {},
   "outputs": [
    {
     "data": {
      "text/html": [
       "<div>\n",
       "<style scoped>\n",
       "    .dataframe tbody tr th:only-of-type {\n",
       "        vertical-align: middle;\n",
       "    }\n",
       "\n",
       "    .dataframe tbody tr th {\n",
       "        vertical-align: top;\n",
       "    }\n",
       "\n",
       "    .dataframe thead th {\n",
       "        text-align: right;\n",
       "    }\n",
       "</style>\n",
       "<table border=\"1\" class=\"dataframe\">\n",
       "  <thead>\n",
       "    <tr style=\"text-align: right;\">\n",
       "      <th></th>\n",
       "      <th>target</th>\n",
       "      <th>model</th>\n",
       "      <th>mean_squared_error</th>\n",
       "      <th>r2_score</th>\n",
       "    </tr>\n",
       "  </thead>\n",
       "  <tbody>\n",
       "    <tr>\n",
       "      <th>0</th>\n",
       "      <td>LONGITUDE</td>\n",
       "      <td>LR</td>\n",
       "      <td>5308.693036</td>\n",
       "      <td>0.618711</td>\n",
       "    </tr>\n",
       "    <tr>\n",
       "      <th>1</th>\n",
       "      <td>LONGITUDE</td>\n",
       "      <td>RFR</td>\n",
       "      <td>159.849697</td>\n",
       "      <td>0.988519</td>\n",
       "    </tr>\n",
       "    <tr>\n",
       "      <th>2</th>\n",
       "      <td>LATITUDE</td>\n",
       "      <td>LR</td>\n",
       "      <td>1898.897475</td>\n",
       "      <td>0.599738</td>\n",
       "    </tr>\n",
       "    <tr>\n",
       "      <th>3</th>\n",
       "      <td>LATITUDE</td>\n",
       "      <td>RFR</td>\n",
       "      <td>183.665462</td>\n",
       "      <td>0.961286</td>\n",
       "    </tr>\n",
       "  </tbody>\n",
       "</table>\n",
       "</div>"
      ],
      "text/plain": [
       "      target model  mean_squared_error  r2_score\n",
       "0  LONGITUDE    LR         5308.693036  0.618711\n",
       "1  LONGITUDE   RFR          159.849697  0.988519\n",
       "2   LATITUDE    LR         1898.897475  0.599738\n",
       "3   LATITUDE   RFR          183.665462  0.961286"
      ]
     },
     "execution_count": 155,
     "metadata": {},
     "output_type": "execute_result"
    }
   ],
   "source": [
    "regression_models "
   ]
  },
  {
   "cell_type": "code",
   "execution_count": 156,
   "id": "47ee4093-197a-480a-8f9c-066e76ff0cc0",
   "metadata": {},
   "outputs": [
    {
     "data": {
      "image/png": "[encoded data removed]",
      "text/plain": [
       "<Figure size 432x288 with 1 Axes>"
      ]
     },
     "metadata": {
      "needs_background": "light"
     },
     "output_type": "display_data"
    },
    {
     "data": {
      "image/png": "[encoded data removed]",
      "text/plain": [
       "<Figure size 432x288 with 1 Axes>"
      ]
     },
     "metadata": {
      "needs_background": "light"
     },
     "output_type": "display_data"
    }
   ],
   "source": [
    "import seaborn as sns\n",
    "import matplotlib.pyplot as plt\n",
    "\n",
    "\n",
    "plt.title('DATASETS:'+datasets+\" BUILDING: \"+str(building)+' FLOOR: '+str(floor))\n",
    "\n",
    "#plt.subplot(1, 1,1)\n",
    "plt.grid(axis='y')\n",
    "sns.barplot(data = regression_models, x = \"target\", y = \"mean_squared_error\", \n",
    "            hue = \"model\", palette = \"Spectral\")\n",
    "plt.show()\n",
    "\n",
    "\n",
    "plt.title('DATASETS:'+datasets+\" BUILDING: \"+str(building)+' FLOOR: '+str(floor))\n",
    "plt.grid(axis='y')\n",
    "sns.barplot(data = regression_models, x = \"target\", y = \"r2_score\", \n",
    "            hue = \"model\", palette = \"Spectral\")\n",
    "plt.show()"
   ]
  },
  {
   "cell_type": "markdown",
   "id": "75588700-6aac-48fa-8e7a-a25e7662dab3",
   "metadata": {},
   "source": [
    "## Predicted positions vs actual positions"
   ]
  },
  {
   "cell_type": "code",
   "execution_count": 157,
   "id": "3874c903-45ee-4f31-9571-afb791ed66ed",
   "metadata": {},
   "outputs": [],
   "source": [
    "# random forest regression\n",
    "longitude_actual = vd['LONGITUDE']\n",
    "longitude_predicted = rfr_long.predict(X_test_sc)\n"
   ]
  },
  {
   "cell_type": "code",
   "execution_count": 158,
   "id": "649da476-ba94-4e4f-ac47-127d8cb9d2d7",
   "metadata": {},
   "outputs": [],
   "source": [
    "# random forest regression\n",
    "lattitude_actual = vd['LATITUDE']\n",
    "lattitude_predicted = rfr_lat.predict(X_test_sc)"
   ]
  },
  {
   "cell_type": "code",
   "execution_count": 159,
   "id": "5e84eb70-b58c-41b6-aea6-ce4fba95379e",
   "metadata": {},
   "outputs": [],
   "source": [
    "positions_df_actual = pd.DataFrame({'LONGITUDE':longitude_actual,'LATITUDE':lattitude_actual,'type':['actual']*len(longitude_actual)}).reset_index()"
   ]
  },
  {
   "cell_type": "code",
   "execution_count": 160,
   "id": "a2b7768d-6b0f-4389-95f0-f949dcb72767",
   "metadata": {},
   "outputs": [],
   "source": [
    "positions_df_pred = pd.DataFrame({'LONGITUDE':longitude_predicted,'LATITUDE':lattitude_predicted,'type':['predicted']*len(lattitude_predicted)})"
   ]
  },
  {
   "cell_type": "code",
   "execution_count": 161,
   "id": "bed4e1a3-0b8b-4cb9-af36-91e5e60ccb29",
   "metadata": {},
   "outputs": [],
   "source": [
    "# concat actual and predicted dataframes\n",
    "positions_df = pd.concat([positions_df_actual,positions_df_pred])"
   ]
  },
  {
   "cell_type": "code",
   "execution_count": 162,
   "id": "dd07acb9-c492-4d35-a2c5-0b53b79361a8",
   "metadata": {},
   "outputs": [
    {
     "data": {
      "image/png": "[encoded data removed]",
      "text/plain": [
       "<Figure size 1080x1080 with 1 Axes>"
      ]
     },
     "metadata": {
      "needs_background": "light"
     },
     "output_type": "display_data"
    }
   ],
   "source": [
    "# show all positions of the buildings\n",
    "import seaborn as sns\n",
    "import matplotlib.pyplot as plt\n",
    "\n",
    "data_pos = positions_df\n",
    "\n",
    "plt.figure(figsize = (15,15))\n",
    "plt.title(\"Positions\")\n",
    "plt.xlabel(\"LONGITUDE\")\n",
    "sns.scatterplot(data = data_pos, x = 'LONGITUDE', y = 'LATITUDE', hue='type', palette='deep')\n",
    "plt.show()"
   ]
  },
  {
   "cell_type": "markdown",
   "id": "9fe6cbd4-b934-4a9a-8c6d-d6fe7ef44b7a",
   "metadata": {},
   "source": [
    "## Error distribution"
   ]
  },
  {
   "cell_type": "code",
   "execution_count": 166,
   "id": "80862fc9-5ef5-4024-be6a-09219aba1ea6",
   "metadata": {},
   "outputs": [
    {
     "name": "stdout",
     "output_type": "stream",
     "text": [
      "Mean: -1.9408030712567172   Std: 12.499148600577733\n"
     ]
    },
    {
     "data": {
      "image/png": "[encoded data removed]",
      "text/plain": [
       "<Figure size 432x288 with 1 Axes>"
      ]
     },
     "metadata": {
      "needs_background": "light"
     },
     "output_type": "display_data"
    }
   ],
   "source": [
    "diff_long = positions_df_actual['LONGITUDE'] - positions_df_pred['LONGITUDE']\n",
    "y = diff_long\n",
    "print('Mean:',y.mean(),' ','Std:',y.std())\n",
    "plt.xlabel('error LONGITUDE')\n",
    "plt.ylabel(\"count\")\n",
    "plt.title('error distribution LONGITUDE')\n",
    "plt.hist(y, bins = 100)\n",
    "plt.show()"
   ]
  },
  {
   "cell_type": "code",
   "execution_count": 168,
   "id": "9b6b6b36-9390-4bef-9447-4fea61cf8b98",
   "metadata": {},
   "outputs": [
    {
     "name": "stdout",
     "output_type": "stream",
     "text": [
      "Mean: 0.9401615533835268   Std: 13.525983247430277\n"
     ]
    },
    {
     "data": {
      "image/png": "[encoded data removed]",
      "text/plain": [
       "<Figure size 432x288 with 1 Axes>"
      ]
     },
     "metadata": {
      "needs_background": "light"
     },
     "output_type": "display_data"
    }
   ],
   "source": [
    "diff_lat = positions_df_actual['LATITUDE'] - positions_df_pred['LATITUDE']\n",
    "y = diff_lat\n",
    "print('Mean:',y.mean(),' ','Std:',y.std())\n",
    "plt.xlabel('error LATITUDE')\n",
    "plt.ylabel(\"count\")\n",
    "plt.title('error distribution LATITUDE')\n",
    "plt.hist(y, bins = 100)\n",
    "plt.show()"
   ]
  },
  {
   "cell_type": "code",
   "execution_count": 165,
   "id": "c50360da-507d-4b8d-928d-ee4374bc0dec",
   "metadata": {},
   "outputs": [
    {
     "data": {
      "text/plain": [
       "1.9408030712567172"
      ]
     },
     "execution_count": 165,
     "metadata": {},
     "output_type": "execute_result"
    }
   ],
   "source": [
    "diff_long.mean()"
   ]
  },
  {
   "cell_type": "code",
   "execution_count": null,
   "id": "e727a98c-9e1f-4235-9c64-5d5fe9b1b4f7",
   "metadata": {},
   "outputs": [],
   "source": []
  }
 ],
 "metadata": {
  "kernelspec": {
   "display_name": "Python 3",
   "language": "python",
   "name": "python3"
  },
  "language_info": {
   "codemirror_mode": {
    "name": "ipython",
    "version": 3
   },
   "file_extension": ".py",
   "mimetype": "text/x-python",
   "name": "python",
   "nbconvert_exporter": "python",
   "pygments_lexer": "ipython3",
   "version": "3.8.8"
  }
 },
 "nbformat": 4,
 "nbformat_minor": 5
}
